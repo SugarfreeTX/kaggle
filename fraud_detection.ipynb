{
 "metadata": {
  "language_info": {
   "codemirror_mode": {
    "name": "ipython",
    "version": 3
   },
   "file_extension": ".py",
   "mimetype": "text/x-python",
   "name": "python",
   "nbconvert_exporter": "python",
   "pygments_lexer": "ipython3",
   "version": "3.7.3"
  },
  "orig_nbformat": 2,
  "kernelspec": {
   "name": "python373jvsc74a57bd0f0c7d524dfacda734fd50009d57013c7a811b3c8ec235c8d3089710534b712e6",
   "display_name": "Python 3.7.3 64-bit ('tf_scikit': conda)"
  }
 },
 "nbformat": 4,
 "nbformat_minor": 2,
 "cells": [
  {
   "source": [
    "# IEEE-CIS fraud Detection (Kaggle)"
   ],
   "cell_type": "markdown",
   "metadata": {}
  },
  {
   "cell_type": "code",
   "execution_count": 1,
   "metadata": {},
   "outputs": [],
   "source": [
    "train_id = 'D:/Datasets/fraud_detection/train_identity.csv'\n",
    "train_tran = 'D:/Datasets/fraud_detection/train_transaction.csv' "
   ]
  },
  {
   "cell_type": "code",
   "execution_count": 2,
   "metadata": {},
   "outputs": [
    {
     "output_type": "stream",
     "name": "stdout",
     "text": [
      "   TransactionID  id_01     id_02  id_03  id_04  id_05  id_06  id_07  id_08  \\\n0        2987004    0.0   70787.0    NaN    NaN    NaN    NaN    NaN    NaN   \n1        2987008   -5.0   98945.0    NaN    NaN    0.0   -5.0    NaN    NaN   \n2        2987010   -5.0  191631.0    0.0    0.0    0.0    0.0    NaN    NaN   \n3        2987011   -5.0  221832.0    NaN    NaN    0.0   -6.0    NaN    NaN   \n4        2987016    0.0    7460.0    0.0    0.0    1.0    0.0    NaN    NaN   \n\n   id_09  ...                id_31  id_32      id_33           id_34  id_35  \\\n0    NaN  ...  samsung browser 6.2   32.0  2220x1080  match_status:2      T   \n1    NaN  ...   mobile safari 11.0   32.0   1334x750  match_status:1      T   \n2    0.0  ...          chrome 62.0    NaN        NaN             NaN      F   \n3    NaN  ...          chrome 62.0    NaN        NaN             NaN      F   \n4    0.0  ...          chrome 62.0   24.0   1280x800  match_status:2      T   \n\n  id_36 id_37  id_38  DeviceType                     DeviceInfo  \n0     F     T      T      mobile  SAMSUNG SM-G892A Build/NRD90M  \n1     F     F      T      mobile                     iOS Device  \n2     F     T      T     desktop                        Windows  \n3     F     T      T     desktop                            NaN  \n4     F     T      T     desktop                          MacOS  \n\n[5 rows x 41 columns]\n   TransactionID  isFraud  TransactionDT  TransactionAmt ProductCD  card1  \\\n0        2987000        0          86400            68.5         W  13926   \n1        2987001        0          86401            29.0         W   2755   \n2        2987002        0          86469            59.0         W   4663   \n3        2987003        0          86499            50.0         W  18132   \n4        2987004        0          86506            50.0         H   4497   \n\n   card2  card3       card4  card5  ... V330  V331  V332  V333  V334 V335  \\\n0    NaN  150.0    discover  142.0  ...  NaN   NaN   NaN   NaN   NaN  NaN   \n1  404.0  150.0  mastercard  102.0  ...  NaN   NaN   NaN   NaN   NaN  NaN   \n2  490.0  150.0        visa  166.0  ...  NaN   NaN   NaN   NaN   NaN  NaN   \n3  567.0  150.0  mastercard  117.0  ...  NaN   NaN   NaN   NaN   NaN  NaN   \n4  514.0  150.0  mastercard  102.0  ...  0.0   0.0   0.0   0.0   0.0  0.0   \n\n  V336  V337  V338  V339  \n0  NaN   NaN   NaN   NaN  \n1  NaN   NaN   NaN   NaN  \n2  NaN   NaN   NaN   NaN  \n3  NaN   NaN   NaN   NaN  \n4  0.0   0.0   0.0   0.0  \n\n[5 rows x 394 columns]\n"
     ]
    }
   ],
   "source": [
    "import pandas as pd \n",
    "import numpy as np \n",
    "import matplotlib.pyplot as plt \n",
    "\n",
    "train_ids = pd.read_csv(train_id)\n",
    "train_trans = pd.read_csv(train_tran)\n",
    "\n",
    "print(train_ids.head())\n",
    "print(train_trans.head())"
   ]
  },
  {
   "cell_type": "code",
   "execution_count": 3,
   "metadata": {},
   "outputs": [
    {
     "output_type": "stream",
     "name": "stdout",
     "text": [
      "<class 'pandas.core.frame.DataFrame'>\n",
      "RangeIndex: 144233 entries, 0 to 144232\n",
      "Data columns (total 41 columns):\n",
      "TransactionID    144233 non-null int64\n",
      "id_01            144233 non-null float64\n",
      "id_02            140872 non-null float64\n",
      "id_03            66324 non-null float64\n",
      "id_04            66324 non-null float64\n",
      "id_05            136865 non-null float64\n",
      "id_06            136865 non-null float64\n",
      "id_07            5155 non-null float64\n",
      "id_08            5155 non-null float64\n",
      "id_09            74926 non-null float64\n",
      "id_10            74926 non-null float64\n",
      "id_11            140978 non-null float64\n",
      "id_12            144233 non-null object\n",
      "id_13            127320 non-null float64\n",
      "id_14            80044 non-null float64\n",
      "id_15            140985 non-null object\n",
      "id_16            129340 non-null object\n",
      "id_17            139369 non-null float64\n",
      "id_18            45113 non-null float64\n",
      "id_19            139318 non-null float64\n",
      "id_20            139261 non-null float64\n",
      "id_21            5159 non-null float64\n",
      "id_22            5169 non-null float64\n",
      "id_23            5169 non-null object\n",
      "id_24            4747 non-null float64\n",
      "id_25            5132 non-null float64\n",
      "id_26            5163 non-null float64\n",
      "id_27            5169 non-null object\n",
      "id_28            140978 non-null object\n",
      "id_29            140978 non-null object\n",
      "id_30            77565 non-null object\n",
      "id_31            140282 non-null object\n",
      "id_32            77586 non-null float64\n",
      "id_33            73289 non-null object\n",
      "id_34            77805 non-null object\n",
      "id_35            140985 non-null object\n",
      "id_36            140985 non-null object\n",
      "id_37            140985 non-null object\n",
      "id_38            140985 non-null object\n",
      "DeviceType       140810 non-null object\n",
      "DeviceInfo       118666 non-null object\n",
      "dtypes: float64(23), int64(1), object(17)\n",
      "memory usage: 45.1+ MB\n",
      "None\n"
     ]
    }
   ],
   "source": [
    "print(train_ids.info())"
   ]
  },
  {
   "cell_type": "code",
   "execution_count": 4,
   "metadata": {},
   "outputs": [
    {
     "output_type": "stream",
     "name": "stdout",
     "text": [
      "<class 'pandas.core.frame.DataFrame'>\nRangeIndex: 590540 entries, 0 to 590539\nColumns: 394 entries, TransactionID to V339\ndtypes: float64(376), int64(4), object(14)\nmemory usage: 1.7+ GB\nNone\n"
     ]
    }
   ],
   "source": [
    "print(train_trans.info())"
   ]
  },
  {
   "cell_type": "code",
   "execution_count": 5,
   "metadata": {},
   "outputs": [
    {
     "output_type": "execute_result",
     "data": {
      "text/plain": [
       "      id_12  id_15     id_16 id_23 id_27  id_28     id_29             id_30  \\\n",
       "0  NotFound    New  NotFound   NaN   NaN    New  NotFound       Android 7.0   \n",
       "1  NotFound    New  NotFound   NaN   NaN    New  NotFound        iOS 11.1.2   \n",
       "2  NotFound  Found     Found   NaN   NaN  Found     Found               NaN   \n",
       "3  NotFound    New  NotFound   NaN   NaN    New  NotFound               NaN   \n",
       "4  NotFound  Found     Found   NaN   NaN  Found     Found  Mac OS X 10_11_6   \n",
       "\n",
       "                 id_31      id_33           id_34 id_35 id_36 id_37 id_38  \\\n",
       "0  samsung browser 6.2  2220x1080  match_status:2     T     F     T     T   \n",
       "1   mobile safari 11.0   1334x750  match_status:1     T     F     F     T   \n",
       "2          chrome 62.0        NaN             NaN     F     F     T     T   \n",
       "3          chrome 62.0        NaN             NaN     F     F     T     T   \n",
       "4          chrome 62.0   1280x800  match_status:2     T     F     T     T   \n",
       "\n",
       "  DeviceType                     DeviceInfo  \n",
       "0     mobile  SAMSUNG SM-G892A Build/NRD90M  \n",
       "1     mobile                     iOS Device  \n",
       "2    desktop                        Windows  \n",
       "3    desktop                            NaN  \n",
       "4    desktop                          MacOS  "
      ],
      "text/html": "<div>\n<style scoped>\n    .dataframe tbody tr th:only-of-type {\n        vertical-align: middle;\n    }\n\n    .dataframe tbody tr th {\n        vertical-align: top;\n    }\n\n    .dataframe thead th {\n        text-align: right;\n    }\n</style>\n<table border=\"1\" class=\"dataframe\">\n  <thead>\n    <tr style=\"text-align: right;\">\n      <th></th>\n      <th>id_12</th>\n      <th>id_15</th>\n      <th>id_16</th>\n      <th>id_23</th>\n      <th>id_27</th>\n      <th>id_28</th>\n      <th>id_29</th>\n      <th>id_30</th>\n      <th>id_31</th>\n      <th>id_33</th>\n      <th>id_34</th>\n      <th>id_35</th>\n      <th>id_36</th>\n      <th>id_37</th>\n      <th>id_38</th>\n      <th>DeviceType</th>\n      <th>DeviceInfo</th>\n    </tr>\n  </thead>\n  <tbody>\n    <tr>\n      <th>0</th>\n      <td>NotFound</td>\n      <td>New</td>\n      <td>NotFound</td>\n      <td>NaN</td>\n      <td>NaN</td>\n      <td>New</td>\n      <td>NotFound</td>\n      <td>Android 7.0</td>\n      <td>samsung browser 6.2</td>\n      <td>2220x1080</td>\n      <td>match_status:2</td>\n      <td>T</td>\n      <td>F</td>\n      <td>T</td>\n      <td>T</td>\n      <td>mobile</td>\n      <td>SAMSUNG SM-G892A Build/NRD90M</td>\n    </tr>\n    <tr>\n      <th>1</th>\n      <td>NotFound</td>\n      <td>New</td>\n      <td>NotFound</td>\n      <td>NaN</td>\n      <td>NaN</td>\n      <td>New</td>\n      <td>NotFound</td>\n      <td>iOS 11.1.2</td>\n      <td>mobile safari 11.0</td>\n      <td>1334x750</td>\n      <td>match_status:1</td>\n      <td>T</td>\n      <td>F</td>\n      <td>F</td>\n      <td>T</td>\n      <td>mobile</td>\n      <td>iOS Device</td>\n    </tr>\n    <tr>\n      <th>2</th>\n      <td>NotFound</td>\n      <td>Found</td>\n      <td>Found</td>\n      <td>NaN</td>\n      <td>NaN</td>\n      <td>Found</td>\n      <td>Found</td>\n      <td>NaN</td>\n      <td>chrome 62.0</td>\n      <td>NaN</td>\n      <td>NaN</td>\n      <td>F</td>\n      <td>F</td>\n      <td>T</td>\n      <td>T</td>\n      <td>desktop</td>\n      <td>Windows</td>\n    </tr>\n    <tr>\n      <th>3</th>\n      <td>NotFound</td>\n      <td>New</td>\n      <td>NotFound</td>\n      <td>NaN</td>\n      <td>NaN</td>\n      <td>New</td>\n      <td>NotFound</td>\n      <td>NaN</td>\n      <td>chrome 62.0</td>\n      <td>NaN</td>\n      <td>NaN</td>\n      <td>F</td>\n      <td>F</td>\n      <td>T</td>\n      <td>T</td>\n      <td>desktop</td>\n      <td>NaN</td>\n    </tr>\n    <tr>\n      <th>4</th>\n      <td>NotFound</td>\n      <td>Found</td>\n      <td>Found</td>\n      <td>NaN</td>\n      <td>NaN</td>\n      <td>Found</td>\n      <td>Found</td>\n      <td>Mac OS X 10_11_6</td>\n      <td>chrome 62.0</td>\n      <td>1280x800</td>\n      <td>match_status:2</td>\n      <td>T</td>\n      <td>F</td>\n      <td>T</td>\n      <td>T</td>\n      <td>desktop</td>\n      <td>MacOS</td>\n    </tr>\n  </tbody>\n</table>\n</div>"
     },
     "metadata": {},
     "execution_count": 5
    }
   ],
   "source": [
    "# Object columns from train_ids df\n",
    "\n",
    "train_ids.loc[:, train_ids.dtypes == object].head()"
   ]
  },
  {
   "cell_type": "code",
   "execution_count": 6,
   "metadata": {},
   "outputs": [
    {
     "output_type": "execute_result",
     "data": {
      "text/plain": [
       "  ProductCD       card4   card6 P_emaildomain R_emaildomain   M1   M2   M3  \\\n",
       "0         W    discover  credit           NaN           NaN    T    T    T   \n",
       "1         W  mastercard  credit     gmail.com           NaN  NaN  NaN  NaN   \n",
       "2         W        visa   debit   outlook.com           NaN    T    T    T   \n",
       "3         W  mastercard   debit     yahoo.com           NaN  NaN  NaN  NaN   \n",
       "4         H  mastercard  credit     gmail.com           NaN  NaN  NaN  NaN   \n",
       "\n",
       "    M4   M5   M6   M7   M8   M9  \n",
       "0   M2    F    T  NaN  NaN  NaN  \n",
       "1   M0    T    T  NaN  NaN  NaN  \n",
       "2   M0    F    F    F    F    F  \n",
       "3   M0    T    F  NaN  NaN  NaN  \n",
       "4  NaN  NaN  NaN  NaN  NaN  NaN  "
      ],
      "text/html": "<div>\n<style scoped>\n    .dataframe tbody tr th:only-of-type {\n        vertical-align: middle;\n    }\n\n    .dataframe tbody tr th {\n        vertical-align: top;\n    }\n\n    .dataframe thead th {\n        text-align: right;\n    }\n</style>\n<table border=\"1\" class=\"dataframe\">\n  <thead>\n    <tr style=\"text-align: right;\">\n      <th></th>\n      <th>ProductCD</th>\n      <th>card4</th>\n      <th>card6</th>\n      <th>P_emaildomain</th>\n      <th>R_emaildomain</th>\n      <th>M1</th>\n      <th>M2</th>\n      <th>M3</th>\n      <th>M4</th>\n      <th>M5</th>\n      <th>M6</th>\n      <th>M7</th>\n      <th>M8</th>\n      <th>M9</th>\n    </tr>\n  </thead>\n  <tbody>\n    <tr>\n      <th>0</th>\n      <td>W</td>\n      <td>discover</td>\n      <td>credit</td>\n      <td>NaN</td>\n      <td>NaN</td>\n      <td>T</td>\n      <td>T</td>\n      <td>T</td>\n      <td>M2</td>\n      <td>F</td>\n      <td>T</td>\n      <td>NaN</td>\n      <td>NaN</td>\n      <td>NaN</td>\n    </tr>\n    <tr>\n      <th>1</th>\n      <td>W</td>\n      <td>mastercard</td>\n      <td>credit</td>\n      <td>gmail.com</td>\n      <td>NaN</td>\n      <td>NaN</td>\n      <td>NaN</td>\n      <td>NaN</td>\n      <td>M0</td>\n      <td>T</td>\n      <td>T</td>\n      <td>NaN</td>\n      <td>NaN</td>\n      <td>NaN</td>\n    </tr>\n    <tr>\n      <th>2</th>\n      <td>W</td>\n      <td>visa</td>\n      <td>debit</td>\n      <td>outlook.com</td>\n      <td>NaN</td>\n      <td>T</td>\n      <td>T</td>\n      <td>T</td>\n      <td>M0</td>\n      <td>F</td>\n      <td>F</td>\n      <td>F</td>\n      <td>F</td>\n      <td>F</td>\n    </tr>\n    <tr>\n      <th>3</th>\n      <td>W</td>\n      <td>mastercard</td>\n      <td>debit</td>\n      <td>yahoo.com</td>\n      <td>NaN</td>\n      <td>NaN</td>\n      <td>NaN</td>\n      <td>NaN</td>\n      <td>M0</td>\n      <td>T</td>\n      <td>F</td>\n      <td>NaN</td>\n      <td>NaN</td>\n      <td>NaN</td>\n    </tr>\n    <tr>\n      <th>4</th>\n      <td>H</td>\n      <td>mastercard</td>\n      <td>credit</td>\n      <td>gmail.com</td>\n      <td>NaN</td>\n      <td>NaN</td>\n      <td>NaN</td>\n      <td>NaN</td>\n      <td>NaN</td>\n      <td>NaN</td>\n      <td>NaN</td>\n      <td>NaN</td>\n      <td>NaN</td>\n      <td>NaN</td>\n    </tr>\n  </tbody>\n</table>\n</div>"
     },
     "metadata": {},
     "execution_count": 6
    }
   ],
   "source": [
    "# Object columns in train_trans \n",
    "\n",
    "train_trans.loc[:, train_trans.dtypes == object].head()\n"
   ]
  },
  {
   "cell_type": "code",
   "execution_count": 7,
   "metadata": {},
   "outputs": [
    {
     "output_type": "stream",
     "name": "stdout",
     "text": [
      "14 train_trans\n17 train_ids\n"
     ]
    }
   ],
   "source": [
    "print(len(train_trans.loc[:, train_trans.dtypes == object].columns), 'train_trans')\n",
    "print(len(train_ids.loc[:, train_ids.dtypes == object].columns), 'train_ids')"
   ]
  },
  {
   "source": [
    "# Merge Data "
   ],
   "cell_type": "markdown",
   "metadata": {}
  },
  {
   "cell_type": "code",
   "execution_count": 8,
   "metadata": {},
   "outputs": [
    {
     "output_type": "execute_result",
     "data": {
      "text/plain": [
       "(590540, 434)"
      ]
     },
     "metadata": {},
     "execution_count": 8
    }
   ],
   "source": [
    "train = train_ids.merge(train_trans, how='right', on='TransactionID')\n",
    "train.shape"
   ]
  },
  {
   "cell_type": "code",
   "execution_count": 9,
   "metadata": {},
   "outputs": [
    {
     "output_type": "stream",
     "name": "stdout",
     "text": [
      "<class 'pandas.core.frame.DataFrame'>\nInt64Index: 590540 entries, 0 to 590539\nColumns: 434 entries, TransactionID to V339\ndtypes: float64(399), int64(4), object(31)\nmemory usage: 1.9+ GB\n"
     ]
    }
   ],
   "source": [
    "train.info()"
   ]
  },
  {
   "cell_type": "code",
   "execution_count": 10,
   "metadata": {},
   "outputs": [
    {
     "output_type": "execute_result",
     "data": {
      "text/plain": [
       "0    0\n",
       "1    0\n",
       "2    0\n",
       "3    0\n",
       "4    0\n",
       "Name: isFraud, dtype: int64"
      ]
     },
     "metadata": {},
     "execution_count": 10
    }
   ],
   "source": [
    "# y_train \n",
    "\n",
    "y_train = train['isFraud']\n",
    "y_train.head()"
   ]
  },
  {
   "cell_type": "code",
   "execution_count": 11,
   "metadata": {},
   "outputs": [
    {
     "output_type": "execute_result",
     "data": {
      "text/plain": [
       "   TransactionID  id_01     id_02  id_03  id_04  id_05  id_06  id_07  id_08  \\\n",
       "0        2987004    0.0   70787.0    NaN    NaN    NaN    NaN    NaN    NaN   \n",
       "1        2987008   -5.0   98945.0    NaN    NaN    0.0   -5.0    NaN    NaN   \n",
       "2        2987010   -5.0  191631.0    0.0    0.0    0.0    0.0    NaN    NaN   \n",
       "3        2987011   -5.0  221832.0    NaN    NaN    0.0   -6.0    NaN    NaN   \n",
       "4        2987016    0.0    7460.0    0.0    0.0    1.0    0.0    NaN    NaN   \n",
       "\n",
       "   id_09  ...  V330  V331 V332  V333  V334 V335 V336  V337  V338  V339  \n",
       "0    NaN  ...   0.0   0.0  0.0   0.0   0.0  0.0  0.0   0.0   0.0   0.0  \n",
       "1    NaN  ...   0.0   0.0  0.0   0.0   0.0  0.0  0.0   0.0   0.0   0.0  \n",
       "2    0.0  ...   NaN   NaN  NaN   NaN   NaN  NaN  NaN   NaN   NaN   NaN  \n",
       "3    NaN  ...   NaN   NaN  NaN   NaN   NaN  NaN  NaN   NaN   NaN   NaN  \n",
       "4    0.0  ...   0.0   0.0  0.0   0.0   0.0  0.0  0.0   0.0   0.0   0.0  \n",
       "\n",
       "[5 rows x 433 columns]"
      ],
      "text/html": "<div>\n<style scoped>\n    .dataframe tbody tr th:only-of-type {\n        vertical-align: middle;\n    }\n\n    .dataframe tbody tr th {\n        vertical-align: top;\n    }\n\n    .dataframe thead th {\n        text-align: right;\n    }\n</style>\n<table border=\"1\" class=\"dataframe\">\n  <thead>\n    <tr style=\"text-align: right;\">\n      <th></th>\n      <th>TransactionID</th>\n      <th>id_01</th>\n      <th>id_02</th>\n      <th>id_03</th>\n      <th>id_04</th>\n      <th>id_05</th>\n      <th>id_06</th>\n      <th>id_07</th>\n      <th>id_08</th>\n      <th>id_09</th>\n      <th>...</th>\n      <th>V330</th>\n      <th>V331</th>\n      <th>V332</th>\n      <th>V333</th>\n      <th>V334</th>\n      <th>V335</th>\n      <th>V336</th>\n      <th>V337</th>\n      <th>V338</th>\n      <th>V339</th>\n    </tr>\n  </thead>\n  <tbody>\n    <tr>\n      <th>0</th>\n      <td>2987004</td>\n      <td>0.0</td>\n      <td>70787.0</td>\n      <td>NaN</td>\n      <td>NaN</td>\n      <td>NaN</td>\n      <td>NaN</td>\n      <td>NaN</td>\n      <td>NaN</td>\n      <td>NaN</td>\n      <td>...</td>\n      <td>0.0</td>\n      <td>0.0</td>\n      <td>0.0</td>\n      <td>0.0</td>\n      <td>0.0</td>\n      <td>0.0</td>\n      <td>0.0</td>\n      <td>0.0</td>\n      <td>0.0</td>\n      <td>0.0</td>\n    </tr>\n    <tr>\n      <th>1</th>\n      <td>2987008</td>\n      <td>-5.0</td>\n      <td>98945.0</td>\n      <td>NaN</td>\n      <td>NaN</td>\n      <td>0.0</td>\n      <td>-5.0</td>\n      <td>NaN</td>\n      <td>NaN</td>\n      <td>NaN</td>\n      <td>...</td>\n      <td>0.0</td>\n      <td>0.0</td>\n      <td>0.0</td>\n      <td>0.0</td>\n      <td>0.0</td>\n      <td>0.0</td>\n      <td>0.0</td>\n      <td>0.0</td>\n      <td>0.0</td>\n      <td>0.0</td>\n    </tr>\n    <tr>\n      <th>2</th>\n      <td>2987010</td>\n      <td>-5.0</td>\n      <td>191631.0</td>\n      <td>0.0</td>\n      <td>0.0</td>\n      <td>0.0</td>\n      <td>0.0</td>\n      <td>NaN</td>\n      <td>NaN</td>\n      <td>0.0</td>\n      <td>...</td>\n      <td>NaN</td>\n      <td>NaN</td>\n      <td>NaN</td>\n      <td>NaN</td>\n      <td>NaN</td>\n      <td>NaN</td>\n      <td>NaN</td>\n      <td>NaN</td>\n      <td>NaN</td>\n      <td>NaN</td>\n    </tr>\n    <tr>\n      <th>3</th>\n      <td>2987011</td>\n      <td>-5.0</td>\n      <td>221832.0</td>\n      <td>NaN</td>\n      <td>NaN</td>\n      <td>0.0</td>\n      <td>-6.0</td>\n      <td>NaN</td>\n      <td>NaN</td>\n      <td>NaN</td>\n      <td>...</td>\n      <td>NaN</td>\n      <td>NaN</td>\n      <td>NaN</td>\n      <td>NaN</td>\n      <td>NaN</td>\n      <td>NaN</td>\n      <td>NaN</td>\n      <td>NaN</td>\n      <td>NaN</td>\n      <td>NaN</td>\n    </tr>\n    <tr>\n      <th>4</th>\n      <td>2987016</td>\n      <td>0.0</td>\n      <td>7460.0</td>\n      <td>0.0</td>\n      <td>0.0</td>\n      <td>1.0</td>\n      <td>0.0</td>\n      <td>NaN</td>\n      <td>NaN</td>\n      <td>0.0</td>\n      <td>...</td>\n      <td>0.0</td>\n      <td>0.0</td>\n      <td>0.0</td>\n      <td>0.0</td>\n      <td>0.0</td>\n      <td>0.0</td>\n      <td>0.0</td>\n      <td>0.0</td>\n      <td>0.0</td>\n      <td>0.0</td>\n    </tr>\n  </tbody>\n</table>\n<p>5 rows × 433 columns</p>\n</div>"
     },
     "metadata": {},
     "execution_count": 11
    }
   ],
   "source": [
    "X_train = train.drop(['isFraud'], axis=1)\n",
    "X_train.head()"
   ]
  },
  {
   "source": [
    "# Data Clean \n",
    "\n",
    "<u>Below are the object columns for the X_train df</u>\n",
    "\n",
    "id_12\tid_15\tid_16\tid_23\tid_27\tid_28\tid_29\tid_30\tid_31\tid_33\tid_34\tid_35\tid_36\tid_37\tid_38\tDeviceType\tDeviceInfo\n",
    "\n",
    "ProductCD\tcard4\tcard6\tP_emaildomain\tR_emaildomain\tM1\tM2\tM3\tM4\tM5\tM6\tM7\tM8\tM9"
   ],
   "cell_type": "markdown",
   "metadata": {}
  },
  {
   "cell_type": "code",
   "execution_count": 12,
   "metadata": {},
   "outputs": [],
   "source": [
    "object_columns = ['id_12', 'id_15', 'id_16', 'id_23', 'id_27', 'id_28', 'id_29', 'id_30', 'id_31', 'id_33', 'id_34', 'id_35', 'id_36', 'id_37', 'id_38', 'DeviceType', 'DeviceInfo', 'ProductCD', 'card4', 'card6', 'P_emaildomain', 'R_emaildomain', 'M1', 'M2', 'M3', 'M4', 'M5', 'M6', 'M7', 'M8', 'M9']\n",
    "\n"
   ]
  },
  {
   "cell_type": "code",
   "execution_count": 13,
   "metadata": {},
   "outputs": [],
   "source": [
    "num_columns = X_train.select_dtypes(include=['float64', 'int64'])"
   ]
  },
  {
   "cell_type": "code",
   "execution_count": 14,
   "metadata": {},
   "outputs": [],
   "source": [
    "object_columns = X_train.select_dtypes(include=['object'])"
   ]
  },
  {
   "cell_type": "code",
   "execution_count": 15,
   "metadata": {},
   "outputs": [
    {
     "output_type": "stream",
     "name": "stdout",
     "text": [
      "402\n31\n"
     ]
    }
   ],
   "source": [
    "print(len(num_columns.columns))\n",
    "print(len(object_columns.columns))"
   ]
  },
  {
   "source": [
    "I think what I will have to do is build a pipeline to clean these two seperate DFs and then merge them again using the Transaction IDs after cleaning. "
   ],
   "cell_type": "markdown",
   "metadata": {}
  },
  {
   "cell_type": "code",
   "execution_count": 16,
   "metadata": {},
   "outputs": [
    {
     "output_type": "execute_result",
     "data": {
      "text/plain": [
       "   TransactionID  id_01     id_02  id_03  id_04  id_05  id_06  id_07  id_08  \\\n",
       "0        2987004    0.0   70787.0    NaN    NaN    NaN    NaN    NaN    NaN   \n",
       "1        2987008   -5.0   98945.0    NaN    NaN    0.0   -5.0    NaN    NaN   \n",
       "2        2987010   -5.0  191631.0    0.0    0.0    0.0    0.0    NaN    NaN   \n",
       "3        2987011   -5.0  221832.0    NaN    NaN    0.0   -6.0    NaN    NaN   \n",
       "4        2987016    0.0    7460.0    0.0    0.0    1.0    0.0    NaN    NaN   \n",
       "\n",
       "   id_09  ...  V330  V331  V332  V333  V334  V335  V336  V337  V338  V339  \n",
       "0    NaN  ...   0.0   0.0   0.0   0.0   0.0   0.0   0.0   0.0   0.0   0.0  \n",
       "1    NaN  ...   0.0   0.0   0.0   0.0   0.0   0.0   0.0   0.0   0.0   0.0  \n",
       "2    0.0  ...   NaN   NaN   NaN   NaN   NaN   NaN   NaN   NaN   NaN   NaN  \n",
       "3    NaN  ...   NaN   NaN   NaN   NaN   NaN   NaN   NaN   NaN   NaN   NaN  \n",
       "4    0.0  ...   0.0   0.0   0.0   0.0   0.0   0.0   0.0   0.0   0.0   0.0  \n",
       "\n",
       "[5 rows x 402 columns]"
      ],
      "text/html": "<div>\n<style scoped>\n    .dataframe tbody tr th:only-of-type {\n        vertical-align: middle;\n    }\n\n    .dataframe tbody tr th {\n        vertical-align: top;\n    }\n\n    .dataframe thead th {\n        text-align: right;\n    }\n</style>\n<table border=\"1\" class=\"dataframe\">\n  <thead>\n    <tr style=\"text-align: right;\">\n      <th></th>\n      <th>TransactionID</th>\n      <th>id_01</th>\n      <th>id_02</th>\n      <th>id_03</th>\n      <th>id_04</th>\n      <th>id_05</th>\n      <th>id_06</th>\n      <th>id_07</th>\n      <th>id_08</th>\n      <th>id_09</th>\n      <th>...</th>\n      <th>V330</th>\n      <th>V331</th>\n      <th>V332</th>\n      <th>V333</th>\n      <th>V334</th>\n      <th>V335</th>\n      <th>V336</th>\n      <th>V337</th>\n      <th>V338</th>\n      <th>V339</th>\n    </tr>\n  </thead>\n  <tbody>\n    <tr>\n      <th>0</th>\n      <td>2987004</td>\n      <td>0.0</td>\n      <td>70787.0</td>\n      <td>NaN</td>\n      <td>NaN</td>\n      <td>NaN</td>\n      <td>NaN</td>\n      <td>NaN</td>\n      <td>NaN</td>\n      <td>NaN</td>\n      <td>...</td>\n      <td>0.0</td>\n      <td>0.0</td>\n      <td>0.0</td>\n      <td>0.0</td>\n      <td>0.0</td>\n      <td>0.0</td>\n      <td>0.0</td>\n      <td>0.0</td>\n      <td>0.0</td>\n      <td>0.0</td>\n    </tr>\n    <tr>\n      <th>1</th>\n      <td>2987008</td>\n      <td>-5.0</td>\n      <td>98945.0</td>\n      <td>NaN</td>\n      <td>NaN</td>\n      <td>0.0</td>\n      <td>-5.0</td>\n      <td>NaN</td>\n      <td>NaN</td>\n      <td>NaN</td>\n      <td>...</td>\n      <td>0.0</td>\n      <td>0.0</td>\n      <td>0.0</td>\n      <td>0.0</td>\n      <td>0.0</td>\n      <td>0.0</td>\n      <td>0.0</td>\n      <td>0.0</td>\n      <td>0.0</td>\n      <td>0.0</td>\n    </tr>\n    <tr>\n      <th>2</th>\n      <td>2987010</td>\n      <td>-5.0</td>\n      <td>191631.0</td>\n      <td>0.0</td>\n      <td>0.0</td>\n      <td>0.0</td>\n      <td>0.0</td>\n      <td>NaN</td>\n      <td>NaN</td>\n      <td>0.0</td>\n      <td>...</td>\n      <td>NaN</td>\n      <td>NaN</td>\n      <td>NaN</td>\n      <td>NaN</td>\n      <td>NaN</td>\n      <td>NaN</td>\n      <td>NaN</td>\n      <td>NaN</td>\n      <td>NaN</td>\n      <td>NaN</td>\n    </tr>\n    <tr>\n      <th>3</th>\n      <td>2987011</td>\n      <td>-5.0</td>\n      <td>221832.0</td>\n      <td>NaN</td>\n      <td>NaN</td>\n      <td>0.0</td>\n      <td>-6.0</td>\n      <td>NaN</td>\n      <td>NaN</td>\n      <td>NaN</td>\n      <td>...</td>\n      <td>NaN</td>\n      <td>NaN</td>\n      <td>NaN</td>\n      <td>NaN</td>\n      <td>NaN</td>\n      <td>NaN</td>\n      <td>NaN</td>\n      <td>NaN</td>\n      <td>NaN</td>\n      <td>NaN</td>\n    </tr>\n    <tr>\n      <th>4</th>\n      <td>2987016</td>\n      <td>0.0</td>\n      <td>7460.0</td>\n      <td>0.0</td>\n      <td>0.0</td>\n      <td>1.0</td>\n      <td>0.0</td>\n      <td>NaN</td>\n      <td>NaN</td>\n      <td>0.0</td>\n      <td>...</td>\n      <td>0.0</td>\n      <td>0.0</td>\n      <td>0.0</td>\n      <td>0.0</td>\n      <td>0.0</td>\n      <td>0.0</td>\n      <td>0.0</td>\n      <td>0.0</td>\n      <td>0.0</td>\n      <td>0.0</td>\n    </tr>\n  </tbody>\n</table>\n<p>5 rows × 402 columns</p>\n</div>"
     },
     "metadata": {},
     "execution_count": 16
    }
   ],
   "source": [
    "# Seeing what is the missing values for the num_columns \n",
    "\n",
    "num_columns.head()"
   ]
  },
  {
   "cell_type": "code",
   "execution_count": 17,
   "metadata": {},
   "outputs": [
    {
     "output_type": "execute_result",
     "data": {
      "text/plain": [
       "      id_12  id_15     id_16 id_23 id_27  id_28     id_29             id_30  \\\n",
       "0  NotFound    New  NotFound   NaN   NaN    New  NotFound       Android 7.0   \n",
       "1  NotFound    New  NotFound   NaN   NaN    New  NotFound        iOS 11.1.2   \n",
       "2  NotFound  Found     Found   NaN   NaN  Found     Found               NaN   \n",
       "3  NotFound    New  NotFound   NaN   NaN    New  NotFound               NaN   \n",
       "4  NotFound  Found     Found   NaN   NaN  Found     Found  Mac OS X 10_11_6   \n",
       "\n",
       "                 id_31      id_33  ... R_emaildomain   M1   M2   M3   M4   M5  \\\n",
       "0  samsung browser 6.2  2220x1080  ...           NaN  NaN  NaN  NaN  NaN  NaN   \n",
       "1   mobile safari 11.0   1334x750  ...           NaN  NaN  NaN  NaN  NaN  NaN   \n",
       "2          chrome 62.0        NaN  ...     gmail.com  NaN  NaN  NaN   M0  NaN   \n",
       "3          chrome 62.0        NaN  ...   hotmail.com  NaN  NaN  NaN   M0  NaN   \n",
       "4          chrome 62.0   1280x800  ...           NaN  NaN  NaN  NaN  NaN  NaN   \n",
       "\n",
       "    M6   M7   M8   M9  \n",
       "0  NaN  NaN  NaN  NaN  \n",
       "1  NaN  NaN  NaN  NaN  \n",
       "2  NaN  NaN  NaN  NaN  \n",
       "3  NaN  NaN  NaN  NaN  \n",
       "4  NaN  NaN  NaN  NaN  \n",
       "\n",
       "[5 rows x 31 columns]"
      ],
      "text/html": "<div>\n<style scoped>\n    .dataframe tbody tr th:only-of-type {\n        vertical-align: middle;\n    }\n\n    .dataframe tbody tr th {\n        vertical-align: top;\n    }\n\n    .dataframe thead th {\n        text-align: right;\n    }\n</style>\n<table border=\"1\" class=\"dataframe\">\n  <thead>\n    <tr style=\"text-align: right;\">\n      <th></th>\n      <th>id_12</th>\n      <th>id_15</th>\n      <th>id_16</th>\n      <th>id_23</th>\n      <th>id_27</th>\n      <th>id_28</th>\n      <th>id_29</th>\n      <th>id_30</th>\n      <th>id_31</th>\n      <th>id_33</th>\n      <th>...</th>\n      <th>R_emaildomain</th>\n      <th>M1</th>\n      <th>M2</th>\n      <th>M3</th>\n      <th>M4</th>\n      <th>M5</th>\n      <th>M6</th>\n      <th>M7</th>\n      <th>M8</th>\n      <th>M9</th>\n    </tr>\n  </thead>\n  <tbody>\n    <tr>\n      <th>0</th>\n      <td>NotFound</td>\n      <td>New</td>\n      <td>NotFound</td>\n      <td>NaN</td>\n      <td>NaN</td>\n      <td>New</td>\n      <td>NotFound</td>\n      <td>Android 7.0</td>\n      <td>samsung browser 6.2</td>\n      <td>2220x1080</td>\n      <td>...</td>\n      <td>NaN</td>\n      <td>NaN</td>\n      <td>NaN</td>\n      <td>NaN</td>\n      <td>NaN</td>\n      <td>NaN</td>\n      <td>NaN</td>\n      <td>NaN</td>\n      <td>NaN</td>\n      <td>NaN</td>\n    </tr>\n    <tr>\n      <th>1</th>\n      <td>NotFound</td>\n      <td>New</td>\n      <td>NotFound</td>\n      <td>NaN</td>\n      <td>NaN</td>\n      <td>New</td>\n      <td>NotFound</td>\n      <td>iOS 11.1.2</td>\n      <td>mobile safari 11.0</td>\n      <td>1334x750</td>\n      <td>...</td>\n      <td>NaN</td>\n      <td>NaN</td>\n      <td>NaN</td>\n      <td>NaN</td>\n      <td>NaN</td>\n      <td>NaN</td>\n      <td>NaN</td>\n      <td>NaN</td>\n      <td>NaN</td>\n      <td>NaN</td>\n    </tr>\n    <tr>\n      <th>2</th>\n      <td>NotFound</td>\n      <td>Found</td>\n      <td>Found</td>\n      <td>NaN</td>\n      <td>NaN</td>\n      <td>Found</td>\n      <td>Found</td>\n      <td>NaN</td>\n      <td>chrome 62.0</td>\n      <td>NaN</td>\n      <td>...</td>\n      <td>gmail.com</td>\n      <td>NaN</td>\n      <td>NaN</td>\n      <td>NaN</td>\n      <td>M0</td>\n      <td>NaN</td>\n      <td>NaN</td>\n      <td>NaN</td>\n      <td>NaN</td>\n      <td>NaN</td>\n    </tr>\n    <tr>\n      <th>3</th>\n      <td>NotFound</td>\n      <td>New</td>\n      <td>NotFound</td>\n      <td>NaN</td>\n      <td>NaN</td>\n      <td>New</td>\n      <td>NotFound</td>\n      <td>NaN</td>\n      <td>chrome 62.0</td>\n      <td>NaN</td>\n      <td>...</td>\n      <td>hotmail.com</td>\n      <td>NaN</td>\n      <td>NaN</td>\n      <td>NaN</td>\n      <td>M0</td>\n      <td>NaN</td>\n      <td>NaN</td>\n      <td>NaN</td>\n      <td>NaN</td>\n      <td>NaN</td>\n    </tr>\n    <tr>\n      <th>4</th>\n      <td>NotFound</td>\n      <td>Found</td>\n      <td>Found</td>\n      <td>NaN</td>\n      <td>NaN</td>\n      <td>Found</td>\n      <td>Found</td>\n      <td>Mac OS X 10_11_6</td>\n      <td>chrome 62.0</td>\n      <td>1280x800</td>\n      <td>...</td>\n      <td>NaN</td>\n      <td>NaN</td>\n      <td>NaN</td>\n      <td>NaN</td>\n      <td>NaN</td>\n      <td>NaN</td>\n      <td>NaN</td>\n      <td>NaN</td>\n      <td>NaN</td>\n      <td>NaN</td>\n    </tr>\n  </tbody>\n</table>\n<p>5 rows × 31 columns</p>\n</div>"
     },
     "metadata": {},
     "execution_count": 17
    }
   ],
   "source": [
    "object_columns.head()"
   ]
  },
  {
   "source": [
    "I'll fill the NaN values for both DF using SimpleImputer(strategy='most_frequent')"
   ],
   "cell_type": "markdown",
   "metadata": {}
  },
  {
   "cell_type": "code",
   "execution_count": 18,
   "metadata": {},
   "outputs": [
    {
     "output_type": "execute_result",
     "data": {
      "text/plain": [
       "['id_12',\n",
       " 'id_15',\n",
       " 'id_16',\n",
       " 'id_23',\n",
       " 'id_27',\n",
       " 'id_28',\n",
       " 'id_29',\n",
       " 'id_30',\n",
       " 'id_31',\n",
       " 'id_33',\n",
       " 'id_34',\n",
       " 'id_35',\n",
       " 'id_36',\n",
       " 'id_37',\n",
       " 'id_38',\n",
       " 'DeviceType',\n",
       " 'DeviceInfo',\n",
       " 'ProductCD',\n",
       " 'card4',\n",
       " 'card6',\n",
       " 'P_emaildomain',\n",
       " 'R_emaildomain',\n",
       " 'M1',\n",
       " 'M2',\n",
       " 'M3',\n",
       " 'M4',\n",
       " 'M5',\n",
       " 'M6',\n",
       " 'M7',\n",
       " 'M8',\n",
       " 'M9']"
      ]
     },
     "metadata": {},
     "execution_count": 18
    }
   ],
   "source": [
    "# Now to see how many different classes there are for each object column\n",
    "\n",
    "list(object_columns.columns)"
   ]
  },
  {
   "source": [
    "Can I create a loop that will iterate through the object_columns and output the unique values for each column? "
   ],
   "cell_type": "markdown",
   "metadata": {}
  },
  {
   "cell_type": "code",
   "execution_count": 19,
   "metadata": {},
   "outputs": [],
   "source": [
    "def find_unique(df):\n",
    "    for i in df:\n",
    "        print(df[i].unique(), i)"
   ]
  },
  {
   "cell_type": "code",
   "execution_count": 20,
   "metadata": {},
   "outputs": [
    {
     "output_type": "stream",
     "name": "stdout",
     "text": [
      "['NotFound' 'Found' nan] id_12\n",
      "['New' 'Found' nan 'Unknown'] id_15\n",
      "['NotFound' 'Found' nan] id_16\n",
      "[nan 'IP_PROXY:TRANSPARENT' 'IP_PROXY:ANONYMOUS' 'IP_PROXY:HIDDEN'] id_23\n",
      "[nan 'Found' 'NotFound'] id_27\n",
      "['New' 'Found' nan] id_28\n",
      "['NotFound' 'Found' nan] id_29\n",
      "['Android 7.0' 'iOS 11.1.2' nan 'Mac OS X 10_11_6' 'Windows 10' 'Android'\n",
      " 'Linux' 'iOS 11.0.3' 'Mac OS X 10_7_5' 'Mac OS X 10_12_6'\n",
      " 'Mac OS X 10_13_1' 'iOS 11.1.0' 'Mac OS X 10_9_5' 'Windows 7'\n",
      " 'Windows 8.1' 'Mac' 'iOS 10.3.3' 'Mac OS X 10.12' 'Mac OS X 10_10_5'\n",
      " 'Mac OS X 10_11_5' 'iOS 9.3.5' 'Android 5.1.1' 'Android 7.1.1'\n",
      " 'Android 6.0' 'iOS 10.3.1' 'Mac OS X 10.9' 'iOS 11.1.1' 'Windows Vista'\n",
      " 'iOS 10.3.2' 'iOS 11.0.2' 'Mac OS X 10.11' 'Android 8.0.0' 'iOS 10.2.0'\n",
      " 'iOS 10.2.1' 'iOS 11.0.0' 'Mac OS X 10.10' 'Mac OS X 10_12_3'\n",
      " 'Mac OS X 10_12' 'Android 6.0.1' 'iOS' 'Mac OS X 10.13'\n",
      " 'Mac OS X 10_12_5' 'Mac OS X 10_8_5' 'iOS 11.0.1' 'iOS 10.0.2'\n",
      " 'Android 5.0.2' 'Windows XP' 'iOS 11.2.0' 'Mac OS X 10.6' 'Windows 8'\n",
      " 'Mac OS X 10_6_8' 'Mac OS X 10_11_4' 'Mac OS X 10_12_1' 'iOS 10.1.1'\n",
      " 'Mac OS X 10_11_3' 'Mac OS X 10_12_4' 'Mac OS X 10_13_2' 'Android 4.4.2'\n",
      " 'Mac OS X 10_12_2' 'Android 5.0' 'func' 'Android 7.1.2' 'Android 8.1.0'\n",
      " 'other' 'Mac OS X 10_13_3' 'iOS 11.2.1' 'iOS 11.2.5' 'Windows'\n",
      " 'iOS 11.2.2' 'iOS 11.3.0' 'iOS 11.2.6' 'Mac OS X 10_13_4'\n",
      " 'Mac OS X 10_13_5' 'iOS 11.4.0' 'iOS 11.3.1' 'iOS 11.4.1'] id_30\n",
      "['samsung browser 6.2' 'mobile safari 11.0' 'chrome 62.0' nan\n",
      " 'chrome 62.0 for android' 'edge 15.0' 'mobile safari generic'\n",
      " 'chrome 49.0' 'chrome 61.0' 'edge 16.0' 'safari generic' 'edge 14.0'\n",
      " 'chrome 56.0 for android' 'firefox 57.0' 'chrome 54.0 for android'\n",
      " 'mobile safari uiwebview' 'chrome' 'chrome 62.0 for ios' 'firefox'\n",
      " 'chrome 60.0 for android' 'mobile safari 10.0' 'chrome 61.0 for android'\n",
      " 'ie 11.0 for desktop' 'ie 11.0 for tablet' 'mobile safari 9.0'\n",
      " 'chrome generic' 'other' 'chrome 59.0 for android' 'firefox 56.0'\n",
      " 'android webview 4.0' 'chrome 55.0' 'opera 49.0' 'ie'\n",
      " 'chrome 55.0 for android' 'firefox 52.0' 'chrome 57.0 for android'\n",
      " 'chrome 56.0' 'chrome 46.0 for android' 'chrome 58.0' 'firefox 48.0'\n",
      " 'chrome 59.0' 'samsung browser 4.0' 'edge 13.0' 'chrome 53.0 for android'\n",
      " 'chrome 58.0 for android' 'chrome 60.0' 'mobile safari 8.0'\n",
      " 'firefox generic' 'Generic/Android 7.0' 'mobile' 'Samsung/SM-G532M'\n",
      " 'chrome 50.0 for android' 'chrome 51.0 for android' 'chrome 63.0'\n",
      " 'chrome 52.0 for android' 'chrome 51.0' 'firefox 55.0' 'edge' 'opera'\n",
      " 'chrome generic for android' 'aol' 'samsung browser 5.4' 'Samsung/SCH'\n",
      " 'silk' 'chrome 57.0' 'firefox 47.0' 'chrome 63.0 for android'\n",
      " 'Samsung/SM-G531H' 'chrome 43.0 for android' 'waterfox' 'Nokia/Lumia'\n",
      " 'chrome 63.0 for ios' 'puffin' 'Microsoft/Windows' 'cyberfox'\n",
      " 'Generic/Android' 'samsung' 'opera generic' 'chrome 49.0 for android'\n",
      " 'ZTE/Blade' 'safari' 'android browser 4.0' 'samsung browser 5.2'\n",
      " 'palemoon' 'maxthon' 'line' 'LG/K-200' 'iron' 'BLU/Dash' 'seamonkey'\n",
      " 'firefox 58.0' 'chrome 64.0 for android' 'chrome 64.0' 'firefox 59.0'\n",
      " 'chrome 64.0 for ios' 'M4Tel/M4' 'comodo' 'Lanix/Ilium'\n",
      " 'samsung browser generic' 'chromium' 'opera 51.0' 'Inco/Minion'\n",
      " 'samsung browser 7.0' 'Mozilla/Firefox' 'samsung browser 4.2'\n",
      " 'samsung browser 6.4' 'chrome 65.0' 'chrome 65.0 for android'\n",
      " 'chrome 65.0 for ios' 'Cherry' 'icedragon' 'android' 'edge 17.0'\n",
      " 'chrome 66.0' 'chrome 66.0 for android' 'safari 11.0' 'safari 9.0'\n",
      " 'safari 10.0' 'google' 'chrome 66.0 for ios'\n",
      " 'google search application 48.0' 'opera 52.0' 'firefox 60.0' 'opera 53.0'\n",
      " 'samsung browser 3.3' 'google search application 49.0' 'facebook'\n",
      " 'firefox mobile 61.0' 'chrome 67.0' 'chrome 69.0'\n",
      " 'chrome 67.0 for android'] id_31\n",
      "['2220x1080' '1334x750' nan '1280x800' '1366x768' '1920x1080' '1680x1050'\n",
      " '1136x640' '5120x2880' '2880x1800' '1920x1200' '2560x1600' '2048x1536'\n",
      " '1024x768' '1280x720' '2560x1440' '2208x1242' '2001x1125' '1440x900'\n",
      " '1600x900' '2672x1440' '1280x1024' '960x540' '2732x2048' '2436x1125'\n",
      " '2048x1152' '2960x1440' '1024x600' '855x480' '4096x2304' '2160x1440'\n",
      " '2562x1442' '801x480' '2736x1824' '3441x1440' '2880x1620' '3840x2160'\n",
      " '1638x922' '1280x768' '1360x768' '1280x960' '3440x1440' '1152x720'\n",
      " '1280x1025' '3360x2100' '2304x1296' '1152x864' '3200x1800' '2112x1188'\n",
      " '2224x1668' '2400x1350' '2000x1125' '1600x1000' '2560x1080' '1728x972'\n",
      " '3000x2000' '1024x640' '3840x2400' '2304x1440' '1280x600' '1400x1050'\n",
      " '1600x1200' '3201x1800' '1356x900' '1344x756' '1624x1080' '1536x864'\n",
      " '1800x1125' '1920x1281' '2961x1442' '1366x1024' '1344x840' '3360x1890'\n",
      " '1536x1152' '1200x675' '1480x720' '2400x1600' '3200x2000' '1281x801'\n",
      " '960x640' '1776x1000' '2048x1280' '2049x1152' '1138x640' '2160x1215'\n",
      " '2880x1440' '0x0' '2520x1575' '5760x3240' '3843x2163' '1184x720'\n",
      " '1440x810' '2076x1080' '1600x837' '1093x615' '1281x721' '1152x648'\n",
      " '2392x1440' '2048x1080' '2735x1825' '1680x945' '1805x1015' '5760x1080'\n",
      " '2816x1584' '4500x3000' '1684x947' '1440x960' '1364x768' '3072x1728'\n",
      " '5040x3150' '7500x5000' '768x576' '1768x992' '1658x946' '1200x720'\n",
      " '1239x697' '1188x720' '1232x800' '1920x1280' '1264x924' '1400x900'\n",
      " '3240x2160' '2961x1440' '1422x889' '1848x1155' '3360x1050' '3840x1080'\n",
      " '2010x1080' '2160x1350' '1440x720' '1280x712' '1512x945' '1296x774'\n",
      " '1368x768' '3520x1980' '800x600' '1700x960' '2560x1800' '6400x3600'\n",
      " '2368x1440' '1824x1026' '1912x1025' '600x450' '3840x1600' '1760x990'\n",
      " '2700x1800' '1371x857' '1776x1080' '2552x1337' '3600x2250' '2560x1700'\n",
      " '2816x1760' '1440x800' '1440x803' '1920x1018' '6016x3384' '1280x620'\n",
      " '1281x720' '1720x1440' '1408x880' '640x360' '1920x975' '976x600'\n",
      " '1062x630' '2800x1575' '6720x3780' '1440x759' '1120x700' '1921x1081'\n",
      " '1280x1023' '1279x1023' '1441x901' '1679x1049' '1680x1051' '2220x1081'\n",
      " '1920x1079' '1919x1199' '1680x1049' '1365x768' '1919x1079' '1919x1200'\n",
      " '1919x1080' '1366x767' '1584x990' '2880x1442' '1281x800' '1229x691'\n",
      " '1600x1024' '1600x899' '1536x960' '1502x844' '1920x1201' '1439x809'\n",
      " '1408x792' '1279x1024' '1599x900' '1920x1081' '921x691' '3841x2161'\n",
      " '1921x1080' '480x320' '1888x941' '2049x1536' '2160x1439' '1707x960'\n",
      " '1024x767' '1365x767' '3001x2000' '3839x2160' '1916x901' '3838x2158'\n",
      " '1599x899' '3199x1800' '1511x944' '2737x1825' '2736x1823' '2735x1823'\n",
      " '2559x1439' '2400x1500' '2882x1442' '1729x973' '1727x971' '1023x767'\n",
      " '1918x1080' '1439x900' '4499x2999' '1280x740' '2999x2000' '1024x552'\n",
      " '1440x899' '2255x1503' '1025x768' '1280x732' '3839x2159' '3840x2162'\n",
      " '3696x2310' '2159x1439' '2256x1504' '1439x899' '2159x1440' '1359x768'\n",
      " '1092x614' '2048x1278' '2591x1619' '4200x2625' '2710x1440' '1272x960'\n",
      " '1023x768' '3838x2160' '2100x1312' '1360x767' '1024x819' '1502x845'\n",
      " '2561x1442' '2559x1440' '2160x1081' '1920x1279' '2160x1080' '1596x710'\n",
      " '1496x844' '1280x900'] id_33\n",
      "['match_status:2' 'match_status:1' nan 'match_status:0' 'match_status:-1'] id_34\n",
      "['T' 'F' nan] id_35\n",
      "['F' nan 'T'] id_36\n",
      "['T' 'F' nan] id_37\n",
      "['T' nan 'F'] id_38\n",
      "['mobile' 'desktop' nan] DeviceType\n",
      "['SAMSUNG SM-G892A Build/NRD90M' 'iOS Device' 'Windows' ...\n",
      " 'LDN-LX3 Build/HUAWEILDN-LX3' 'Z955A' 'LG-E975'] DeviceInfo\n",
      "['H' 'C' 'S' 'R' 'W'] ProductCD\n",
      "['mastercard' 'visa' 'american express' 'discover' nan] card4\n",
      "['credit' 'debit' nan 'charge card' 'debit or credit'] card6\n",
      "['gmail.com' 'anonymous.com' 'hotmail.com' 'aol.com' 'yahoo.com' nan\n",
      " 'outlook.com' 'charter.net' 'comcast.net' 'optonline.net'\n",
      " 'embarqmail.com' 'live.com.mx' 'icloud.com' 'juno.com' 'att.net'\n",
      " 'msn.com' 'yahoo.com.mx' 'cox.net' 'servicios-ta.com' 'me.com'\n",
      " 'hotmail.es' 'live.com' 'verizon.net' 'bellsouth.net' 'sbcglobal.net'\n",
      " 'gmx.de' 'mail.com' 'frontier.com' 'frontiernet.net' 'outlook.es'\n",
      " 'suddenlink.net' 'roadrunner.com' 'mac.com' 'earthlink.net' 'web.de'\n",
      " 'twc.com' 'ymail.com' 'yahoo.fr' 'yahoo.de' 'windstream.net' 'gmail'\n",
      " 'rocketmail.com' 'cfl.rr.com' 'yahoo.es' 'live.fr' 'q.com'\n",
      " 'prodigy.net.mx' 'yahoo.co.uk' 'hotmail.fr' 'hotmail.de' 'netzero.net'\n",
      " 'cableone.net' 'aim.com' 'ptd.net' 'centurylink.net' 'hotmail.co.uk'\n",
      " 'netzero.com' 'sc.rr.com' 'yahoo.co.jp' 'protonmail.com'] P_emaildomain\n",
      "[nan 'gmail.com' 'hotmail.com' 'outlook.com' 'anonymous.com' 'charter.net'\n",
      " 'comcast.net' 'live.com.mx' 'icloud.com' 'yahoo.com' 'aol.com' 'juno.com'\n",
      " 'att.net' 'verizon.net' 'yahoo.com.mx' 'bellsouth.net' 'servicios-ta.com'\n",
      " 'ymail.com' 'hotmail.es' 'msn.com' 'optonline.net' 'live.com' 'gmx.de'\n",
      " 'aim.com' 'mail.com' 'me.com' 'outlook.es' 'cox.net' 'earthlink.net'\n",
      " 'embarqmail.com' 'web.de' 'sbcglobal.net' 'scranton.edu' 'mac.com'\n",
      " 'twc.com' 'roadrunner.com' 'yahoo.fr' 'yahoo.de' 'yahoo.es'\n",
      " 'frontiernet.net' 'gmail' 'live.fr' 'q.com' 'prodigy.net.mx'\n",
      " 'yahoo.co.uk' 'windstream.net' 'suddenlink.net' 'hotmail.fr' 'ptd.net'\n",
      " 'hotmail.de' 'frontier.com' 'cfl.rr.com' 'hotmail.co.uk' 'netzero.com'\n",
      " 'netzero.net' 'yahoo.co.jp' 'rocketmail.com' 'centurylink.net'\n",
      " 'protonmail.com' 'cableone.net' 'sc.rr.com'] R_emaildomain\n",
      "[nan 'T' 'F'] M1\n",
      "[nan 'T' 'F'] M2\n",
      "[nan 'T' 'F'] M3\n",
      "[nan 'M0' 'M2' 'M1'] M4\n",
      "[nan 'F' 'T'] M5\n",
      "[nan 'T' 'F'] M6\n",
      "[nan 'F' 'T'] M7\n",
      "[nan 'F' 'T'] M8\n",
      "[nan 'F' 'T'] M9\n"
     ]
    }
   ],
   "source": [
    "find_unique(object_columns)"
   ]
  },
  {
   "cell_type": "code",
   "execution_count": 30,
   "metadata": {},
   "outputs": [
    {
     "output_type": "execute_result",
     "data": {
      "text/plain": [
       "id_30\n",
       "Android             1079\n",
       "Android 4.4.2         63\n",
       "Android 5.0           41\n",
       "Android 5.0.2         55\n",
       "Android 5.1.1        350\n",
       "Android 6.0           80\n",
       "Android 6.0.1        566\n",
       "Android 7.0         2871\n",
       "Android 7.1.1        630\n",
       "Android 7.1.2         33\n",
       "Android 8.0.0        343\n",
       "Android 8.1.0        192\n",
       "Linux               1136\n",
       "Mac                  303\n",
       "Mac OS X 10.10       135\n",
       "Mac OS X 10.11       200\n",
       "Mac OS X 10.12       218\n",
       "Mac OS X 10.13       287\n",
       "Mac OS X 10.6         49\n",
       "Mac OS X 10.9         58\n",
       "Mac OS X 10_10_5    1651\n",
       "Mac OS X 10_11_3      54\n",
       "Mac OS X 10_11_4      53\n",
       "Mac OS X 10_11_5      82\n",
       "Mac OS X 10_11_6    2348\n",
       "Mac OS X 10_12        49\n",
       "Mac OS X 10_12_1      44\n",
       "Mac OS X 10_12_2      33\n",
       "Mac OS X 10_12_3      95\n",
       "Mac OS X 10_12_4     103\n",
       "                    ... \n",
       "Windows 8.1         1914\n",
       "Windows Vista        246\n",
       "Windows XP           131\n",
       "func                  10\n",
       "iOS                  274\n",
       "iOS 10.0.2            95\n",
       "iOS 10.1.1            96\n",
       "iOS 10.2.0           149\n",
       "iOS 10.2.1           285\n",
       "iOS 10.3.1           236\n",
       "iOS 10.3.2           428\n",
       "iOS 10.3.3          1558\n",
       "iOS 11.0.0           144\n",
       "iOS 11.0.1           127\n",
       "iOS 11.0.2           166\n",
       "iOS 11.0.3           659\n",
       "iOS 11.1.0           271\n",
       "iOS 11.1.1           700\n",
       "iOS 11.1.2          3699\n",
       "iOS 11.2.0           852\n",
       "iOS 11.2.1          3722\n",
       "iOS 11.2.2           902\n",
       "iOS 11.2.5          1200\n",
       "iOS 11.2.6          1647\n",
       "iOS 11.3.0          2016\n",
       "iOS 11.3.1           136\n",
       "iOS 11.4.0             5\n",
       "iOS 11.4.1             1\n",
       "iOS 9.3.5            414\n",
       "other                 15\n",
       "Name: id_31, Length: 75, dtype: int64"
      ]
     },
     "metadata": {},
     "execution_count": 30
    }
   ],
   "source": [
    "id_30_count = object_columns.groupby('id_30').aggregate(len)\n",
    "os_type = id_30_count['id_31']\n",
    "os_type "
   ]
  },
  {
   "cell_type": "code",
   "execution_count": 31,
   "metadata": {},
   "outputs": [
    {
     "output_type": "execute_result",
     "data": {
      "text/plain": [
       "id_31\n",
       "BLU/Dash                       1\n",
       "Cherry                         1\n",
       "Generic/Android               57\n",
       "Generic/Android 7.0           81\n",
       "Inco/Minion                    1\n",
       "LG/K-200                       1\n",
       "Lanix/Ilium                    3\n",
       "M4Tel/M4                       1\n",
       "Microsoft/Windows             25\n",
       "Mozilla/Firefox                5\n",
       "Nokia/Lumia                    1\n",
       "Samsung/SCH                    1\n",
       "Samsung/SM-G531H              52\n",
       "Samsung/SM-G532M             150\n",
       "ZTE/Blade                      9\n",
       "android                        1\n",
       "android browser 4.0          100\n",
       "android webview 4.0          285\n",
       "aol                            5\n",
       "chrome                       428\n",
       "chrome 43.0 for android       72\n",
       "chrome 46.0 for android       69\n",
       "chrome 49.0                  719\n",
       "chrome 49.0 for android       53\n",
       "chrome 50.0 for android      145\n",
       "chrome 51.0                   56\n",
       "chrome 51.0 for android       45\n",
       "chrome 52.0 for android      152\n",
       "chrome 53.0 for android       42\n",
       "chrome 54.0 for android       82\n",
       "                           ...  \n",
       "mobile safari 9.0            541\n",
       "mobile safari generic      11474\n",
       "mobile safari uiwebview       97\n",
       "opera                         83\n",
       "opera 49.0                   138\n",
       "opera 51.0                    49\n",
       "opera 52.0                    55\n",
       "opera 53.0                    46\n",
       "opera generic                 78\n",
       "other                        312\n",
       "palemoon                       2\n",
       "puffin                         2\n",
       "safari                        14\n",
       "safari 10.0                  111\n",
       "safari 11.0                  550\n",
       "safari 9.0                    43\n",
       "safari generic              8195\n",
       "samsung                       16\n",
       "samsung browser 3.3            8\n",
       "samsung browser 4.0           37\n",
       "samsung browser 4.2           18\n",
       "samsung browser 5.2           41\n",
       "samsung browser 5.4           43\n",
       "samsung browser 6.2         1061\n",
       "samsung browser 6.4          509\n",
       "samsung browser 7.0          101\n",
       "samsung browser generic      210\n",
       "seamonkey                      1\n",
       "silk                          19\n",
       "waterfox                       2\n",
       "Name: id_30, Length: 130, dtype: int64"
      ]
     },
     "metadata": {},
     "execution_count": 31
    }
   ],
   "source": [
    "id_31_count = object_columns.groupby('id_31').aggregate(len)\n",
    "device_type = id_31_count['id_30']\n",
    "device_type "
   ]
  },
  {
   "cell_type": "code",
   "execution_count": 45,
   "metadata": {},
   "outputs": [
    {
     "output_type": "stream",
     "name": "stdout",
     "text": [
      "isFraud    20663\ndtype: int64 Is Fraud\nisFraud    569877\ndtype: int64 Is not Fraud\n"
     ]
    }
   ],
   "source": [
    "# How many transactions were found to be fraud?\n",
    "\n",
    "# print(train[train['isFraud']== 1].count(), 'Fraud')\n",
    "# print(train[train['isFraud']== 0].count(), 'Not Fraud')\n",
    "\n",
    "fraud_column = train[['isFraud']]\n",
    "# fraud_column.head()\n",
    "is_fraud = fraud_column[fraud_column['isFraud']==1]\n",
    "not_fraud = fraud_column[fraud_column['isFraud']==0]\n",
    "print(is_fraud.count(), 'Is Fraud')\n",
    "print(not_fraud.count(), 'Is not Fraud')\n"
   ]
  },
  {
   "cell_type": "code",
   "execution_count": 65,
   "metadata": {},
   "outputs": [
    {
     "output_type": "execute_result",
     "data": {
      "text/plain": [
       "       Not Fraud  Is Fraud\n",
       "Count     569877     20663"
      ],
      "text/html": "<div>\n<style scoped>\n    .dataframe tbody tr th:only-of-type {\n        vertical-align: middle;\n    }\n\n    .dataframe tbody tr th {\n        vertical-align: top;\n    }\n\n    .dataframe thead th {\n        text-align: right;\n    }\n</style>\n<table border=\"1\" class=\"dataframe\">\n  <thead>\n    <tr style=\"text-align: right;\">\n      <th></th>\n      <th>Not Fraud</th>\n      <th>Is Fraud</th>\n    </tr>\n  </thead>\n  <tbody>\n    <tr>\n      <th>Count</th>\n      <td>569877</td>\n      <td>20663</td>\n    </tr>\n  </tbody>\n</table>\n</div>"
     },
     "metadata": {},
     "execution_count": 65
    }
   ],
   "source": [
    "fraud_df = pd.DataFrame({\n",
    "    \"Not Fraud\": not_fraud.count(),\n",
    "    \"Is Fraud\": is_fraud.count(),\n",
    "})\n",
    "\n",
    "fraud_df.rename(index={'isFraud': 'Count'})"
   ]
  },
  {
   "cell_type": "code",
   "execution_count": 62,
   "metadata": {},
   "outputs": [],
   "source": [
    "from sklearn.pipeline import Pipeline\n",
    "from sklearn.compose import ColumnTransformer\n",
    "from sklearn.preprocessing import StandardScaler\n",
    "from sklearn.preprocessing import OneHotEncoder\n",
    "from sklearn.impute import SimpleImputer\n",
    "\n",
    "\n",
    "num_pipeline = Pipeline([\n",
    "    \n",
    "(\"num_cols\", SimpleImputer(strategy='most_frequent')),\n",
    "\n",
    "])\n",
    "\n",
    "cat_pipeline = Pipeline([\n",
    "\n",
    "    (\"cat_col\", SimpleImputer(strategy='most_frequent')),\n",
    "    (\"encoder\", OneHotEncoder()),\n",
    "])\n",
    "\n",
    "\n",
    "number_columns = list(num_columns.columns)\n",
    "category_columns = list(object_columns.columns) \n",
    "\n",
    "full_pipeline = ColumnTransformer([\n",
    "    (\"num_pipeline\", num_pipeline, number_columns),\n",
    "    (\"cat_pipeline\", cat_pipeline, category_columns),\n",
    "])\n",
    "\n"
   ]
  },
  {
   "cell_type": "code",
   "execution_count": 63,
   "metadata": {},
   "outputs": [],
   "source": [
    "X_trainsformed = full_pipeline.fit_transform(X_train)"
   ]
  },
  {
   "source": [
    "# Select Model and Train "
   ],
   "cell_type": "markdown",
   "metadata": {}
  },
  {
   "cell_type": "code",
   "execution_count": 69,
   "metadata": {},
   "outputs": [
    {
     "output_type": "stream",
     "name": "stderr",
     "text": [
      "C:\\Users\\Khemra\\Anaconda3\\envs\\tf_scikit\\lib\\site-packages\\sklearn\\linear_model\\logistic.py:432: FutureWarning: Default solver will be changed to 'lbfgs' in 0.22. Specify a solver to silence this warning.\n  FutureWarning)\n"
     ]
    },
    {
     "output_type": "execute_result",
     "data": {
      "text/plain": [
       "LogisticRegression(C=1.0, class_weight=None, dual=False, fit_intercept=True,\n",
       "                   intercept_scaling=1, l1_ratio=None, max_iter=100,\n",
       "                   multi_class='warn', n_jobs=None, penalty='l2',\n",
       "                   random_state=None, solver='warn', tol=0.0001, verbose=0,\n",
       "                   warm_start=False)"
      ]
     },
     "metadata": {},
     "execution_count": 69
    }
   ],
   "source": [
    "from sklearn.linear_model import LogisticRegression\n",
    "\n",
    "log_clf = LogisticRegression()\n",
    "\n",
    "log_clf.fit(X_trainsformed, y_train)"
   ]
  },
  {
   "source": [
    "# Test Data Set "
   ],
   "cell_type": "markdown",
   "metadata": {}
  },
  {
   "cell_type": "code",
   "execution_count": 70,
   "metadata": {},
   "outputs": [
    {
     "output_type": "execute_result",
     "data": {
      "text/plain": [
       "(506691, 433)"
      ]
     },
     "metadata": {},
     "execution_count": 70
    }
   ],
   "source": [
    "test_ids = 'D:/Datasets/fraud_detection/test_identity.csv'\n",
    "test_trans = 'D:/Datasets/fraud_detection/test_transaction.csv' \n",
    "\n",
    "test_id = pd.read_csv(test_ids)\n",
    "test_tran = pd.read_csv(test_trans)\n",
    "\n",
    "# Merge the two data sets\n",
    "\n",
    "test = test_id.merge(test_tran, how='right', on='TransactionID')\n",
    "test.shape"
   ]
  },
  {
   "cell_type": "code",
   "execution_count": 71,
   "metadata": {},
   "outputs": [
    {
     "output_type": "execute_result",
     "data": {
      "text/plain": [
       "   TransactionID  id-01     id-02  id-03  id-04  id-05  id-06  id-07  id-08  \\\n",
       "0        3663586  -45.0  280290.0    NaN    NaN    0.0    0.0    NaN    NaN   \n",
       "1        3663588    0.0    3579.0    0.0    0.0    0.0    0.0    NaN    NaN   \n",
       "2        3663597   -5.0  185210.0    NaN    NaN    1.0    0.0    NaN    NaN   \n",
       "3        3663601  -45.0  252944.0    0.0    0.0    0.0    0.0    NaN    NaN   \n",
       "4        3663602  -95.0  328680.0    NaN    NaN    7.0  -33.0    NaN    NaN   \n",
       "\n",
       "   id-09  ...  V330  V331   V332  V333  V334   V335  V336  V337  V338  V339  \n",
       "0    NaN  ...   NaN   NaN    NaN   NaN   NaN    NaN   NaN   NaN   NaN   NaN  \n",
       "1    0.0  ...   0.0   0.0  310.0  90.0   0.0  310.0  90.0   0.0   0.0   0.0  \n",
       "2    NaN  ...   NaN   NaN    NaN   NaN   NaN    NaN   NaN   NaN   NaN   NaN  \n",
       "3    0.0  ...   NaN   NaN    NaN   NaN   NaN    NaN   NaN   NaN   NaN   NaN  \n",
       "4    NaN  ...   NaN   NaN    NaN   NaN   NaN    NaN   NaN   NaN   NaN   NaN  \n",
       "\n",
       "[5 rows x 433 columns]"
      ],
      "text/html": "<div>\n<style scoped>\n    .dataframe tbody tr th:only-of-type {\n        vertical-align: middle;\n    }\n\n    .dataframe tbody tr th {\n        vertical-align: top;\n    }\n\n    .dataframe thead th {\n        text-align: right;\n    }\n</style>\n<table border=\"1\" class=\"dataframe\">\n  <thead>\n    <tr style=\"text-align: right;\">\n      <th></th>\n      <th>TransactionID</th>\n      <th>id-01</th>\n      <th>id-02</th>\n      <th>id-03</th>\n      <th>id-04</th>\n      <th>id-05</th>\n      <th>id-06</th>\n      <th>id-07</th>\n      <th>id-08</th>\n      <th>id-09</th>\n      <th>...</th>\n      <th>V330</th>\n      <th>V331</th>\n      <th>V332</th>\n      <th>V333</th>\n      <th>V334</th>\n      <th>V335</th>\n      <th>V336</th>\n      <th>V337</th>\n      <th>V338</th>\n      <th>V339</th>\n    </tr>\n  </thead>\n  <tbody>\n    <tr>\n      <th>0</th>\n      <td>3663586</td>\n      <td>-45.0</td>\n      <td>280290.0</td>\n      <td>NaN</td>\n      <td>NaN</td>\n      <td>0.0</td>\n      <td>0.0</td>\n      <td>NaN</td>\n      <td>NaN</td>\n      <td>NaN</td>\n      <td>...</td>\n      <td>NaN</td>\n      <td>NaN</td>\n      <td>NaN</td>\n      <td>NaN</td>\n      <td>NaN</td>\n      <td>NaN</td>\n      <td>NaN</td>\n      <td>NaN</td>\n      <td>NaN</td>\n      <td>NaN</td>\n    </tr>\n    <tr>\n      <th>1</th>\n      <td>3663588</td>\n      <td>0.0</td>\n      <td>3579.0</td>\n      <td>0.0</td>\n      <td>0.0</td>\n      <td>0.0</td>\n      <td>0.0</td>\n      <td>NaN</td>\n      <td>NaN</td>\n      <td>0.0</td>\n      <td>...</td>\n      <td>0.0</td>\n      <td>0.0</td>\n      <td>310.0</td>\n      <td>90.0</td>\n      <td>0.0</td>\n      <td>310.0</td>\n      <td>90.0</td>\n      <td>0.0</td>\n      <td>0.0</td>\n      <td>0.0</td>\n    </tr>\n    <tr>\n      <th>2</th>\n      <td>3663597</td>\n      <td>-5.0</td>\n      <td>185210.0</td>\n      <td>NaN</td>\n      <td>NaN</td>\n      <td>1.0</td>\n      <td>0.0</td>\n      <td>NaN</td>\n      <td>NaN</td>\n      <td>NaN</td>\n      <td>...</td>\n      <td>NaN</td>\n      <td>NaN</td>\n      <td>NaN</td>\n      <td>NaN</td>\n      <td>NaN</td>\n      <td>NaN</td>\n      <td>NaN</td>\n      <td>NaN</td>\n      <td>NaN</td>\n      <td>NaN</td>\n    </tr>\n    <tr>\n      <th>3</th>\n      <td>3663601</td>\n      <td>-45.0</td>\n      <td>252944.0</td>\n      <td>0.0</td>\n      <td>0.0</td>\n      <td>0.0</td>\n      <td>0.0</td>\n      <td>NaN</td>\n      <td>NaN</td>\n      <td>0.0</td>\n      <td>...</td>\n      <td>NaN</td>\n      <td>NaN</td>\n      <td>NaN</td>\n      <td>NaN</td>\n      <td>NaN</td>\n      <td>NaN</td>\n      <td>NaN</td>\n      <td>NaN</td>\n      <td>NaN</td>\n      <td>NaN</td>\n    </tr>\n    <tr>\n      <th>4</th>\n      <td>3663602</td>\n      <td>-95.0</td>\n      <td>328680.0</td>\n      <td>NaN</td>\n      <td>NaN</td>\n      <td>7.0</td>\n      <td>-33.0</td>\n      <td>NaN</td>\n      <td>NaN</td>\n      <td>NaN</td>\n      <td>...</td>\n      <td>NaN</td>\n      <td>NaN</td>\n      <td>NaN</td>\n      <td>NaN</td>\n      <td>NaN</td>\n      <td>NaN</td>\n      <td>NaN</td>\n      <td>NaN</td>\n      <td>NaN</td>\n      <td>NaN</td>\n    </tr>\n  </tbody>\n</table>\n<p>5 rows × 433 columns</p>\n</div>"
     },
     "metadata": {},
     "execution_count": 71
    }
   ],
   "source": [
    "test.head()"
   ]
  },
  {
   "cell_type": "code",
   "execution_count": 75,
   "metadata": {},
   "outputs": [],
   "source": [
    "test_num_columns = list(test.select_dtypes(include=['float64', 'int64']))\n",
    "test_obj_columns = list(test.select_dtypes(include=['object']))"
   ]
  },
  {
   "cell_type": "code",
   "execution_count": 77,
   "metadata": {},
   "outputs": [
    {
     "output_type": "stream",
     "name": "stderr",
     "text": [
      "C:\\Users\\Khemra\\Anaconda3\\envs\\tf_scikit\\lib\\site-packages\\pandas\\core\\indexing.py:1494: FutureWarning: \n",
      "Passing list-likes to .loc or [] with any missing label will raise\n",
      "KeyError in the future, you can use .reindex() as an alternative.\n",
      "\n",
      "See the documentation here:\n",
      "https://pandas.pydata.org/pandas-docs/stable/indexing.html#deprecate-loc-reindex-listlike\n",
      "  return self._getitem_tuple(key)\n",
      "C:\\Users\\Khemra\\Anaconda3\\envs\\tf_scikit\\lib\\site-packages\\pandas\\core\\indexing.py:1494: FutureWarning: \n",
      "Passing list-likes to .loc or [] with any missing label will raise\n",
      "KeyError in the future, you can use .reindex() as an alternative.\n",
      "\n",
      "See the documentation here:\n",
      "https://pandas.pydata.org/pandas-docs/stable/indexing.html#deprecate-loc-reindex-listlike\n",
      "  return self._getitem_tuple(key)\n"
     ]
    },
    {
     "output_type": "error",
     "ename": "ValueError",
     "evalue": "Found unknown categories ['LG-H872', 'Pixel 2 XL Build/PPR2.180905.005', 'LLD-L31', 'SM-J327T', '8050G', '5049W', 'SM-G950', 'TRT-L53', 'BLL-L22', 'FP1U', '5080X', 'ATU-L11', 'LM-X210', 'KFKAWI', 'SM-J727R4', 'Zebra', 'CMR-W19', 'RCT6873W42M_F7', 'BLL-L23', 'SM-J400F', 'G3312', 'Moto E (4) Plus Build/NMA26.42-162', 'Mi A1 Build/OPM1.171019.026', 'hi6250 Build/MRA58K', 'SM-J530L', 'moto g(6) play Build/OPP27.91-87', 'H3223 Build/50.1.A.10.40', 'FRD-L09', 'GT-I9301I', 'LG-D852G', 'SM-J500F', 'aura', 'Z981', 'ZTE BLADE A0620 Build/NMF26F', 'BBF100-2', 'SM-N9600 Build/M1AJQ', 'BLADE V9', 'E5663', 'verykools5702', 'SM-G532M', 'CLT-L29 Build/HUAWEICLT-L29', 'SM-G935F', '5052Y', 'TA-1028', 'SM-N900', 'BLADE A602', 'VIE-L29', 'SAMSUNG SM-J330FN Build/NRD90M', 'PSPCM20A0', 'T09', '4027A', 'Pixel 2', 'XT1635-02 Build/OPNS27.76-12-22-9', 'Pixel 2 Build/PPR1.180610.009', 'POCOPHONE', 'BLADE L7', 'SM-N960U', 'SM-G920R7', 'Bluboo', 'Orange_Rise_33', '6045O', 'SM-G550T1', 'SM-A700K', 'HTC Desire 10 lifestyle', 'LG-H500', 'SM-J120H', 'ASUS_X00LDA', 'COL-L29', 'BND-L21', 'HUAWEI G7-L03', 'LG-H840', 'Moto G (5) Build/NPPS25.137-93-12', 'SM-G930V Build/R16NW', 'SM-G9500', 'SAMSUNG-SM-N915A Build/KTU84P', 'SM-J530GM', 'LG-V400', 'MI 4W Build/MMB29M', '7040N', 'ANE-LX1', 'SM-T387V', 'S9+', 'Neffos', 'GT-I9060M', 'SM-J111M', 'SM-G925F', 'SM-A530F', 'Lenovo PB2-650Y', 'SM-A530W', 'SM-G9650', 'LG-G710', 'SM-G531H', 'FRD-L19', 'EVA-L19', 'DUO', 'SM-G930F', 'SM-J320FN', 'HUAWEI VNS-L31', 'moto g(6) Build/OPSS27.82-87-3', 'ONEPLUS A3003 Build/OPR1.170623.032', 'SM-J810M Build/R16NW', 'SM-N950F', 'SM-G903F', 'moto e5 plus', 'SM-A510M', 'EML-L29', 'E5306 Build/27.1.A.1.81', 'LM-X210CM', '4047A', 'SM-J701F', 'SAMSUNG SM-G930P Build/R16NW', 'SAMSUNG SM-P900 Build/LRX22G', 'LM-X212(G', 'SM-G360P', 'moto e5 play Build/OCPS27.91-51-3-3', 'VK410', 'moto z3', 'Gravity', 'SAMSUNG-SM-G530A', 'N5702L', 'LG-X240', 'FIG-LX1', 'FRD-L04', 'LLD-L21', 'Pixel XL', 'LGUS110', 'BKL-L09', 'A1_PRO', 'moto g(6)', 'SM-J337A', 'H3311', 'LGL82VL', 'SAMSUNG-SM-T337A', 'SM-J327W', 'a500', 'SAMSUNG-SM-J320A', 'Lenovo P2a42', 'RCT6303W87M7', 'CUBOT_X18_Plus', 'BLA-A09', 'SM-T385M', 'LGMS330', 'Ilium L1120', 'ONIX', 'SAMSUNG SM-T820 Build/R16NW', 'SM-J327U', 'Phone', 'LG-K500', 'KFDOWI', 'KFTHWI', 'SM-T560NU', 'HS20502-16', 'SAMSUNG SM-N960U Build/M1AJQ', 'SM-J737T', 'LG-H930', 'Nexus 5', '5026A Build/NRD90M', 'Astro', '5086A', 'N9517', 'LG-V530', 'LG-H811', 'XT1053', 'SM-G935F Build/R16NW', 'SM-N920C', 'VS986', 'moto x4 Build/OPWS27.57-40-17', 'D5303', 'G3313 Build/43.0.A.7.55', 'SAMSUNG SM-G935F Build/R16NW', 'SAMSUNG SM-G610M Build/M1AJQ', 'Moto E (4) Plus Build/NMA26.42-167', '5080A', 'SM-G850F', 'E6883', 'ZTE-Z999', 'BBB100-1 Build/OPM1.171019.026', 'ZTE BLADE A6', 'Pixel 2 Build/PPR2.180905.005', 'weimei_we', 'SM-A600FN', 'LGLS775', 'LG-D415', 'LG-H542', 'S8', 'SM-J737P', 'SM-J337V', 'SM-N910C', 'Nokia', 'E5306 Build/27.3.A.0.173', 'EV05', 'BLADE V8 SE', 'LM-V350', 'WAS-LX3', 'CHC-U03', 'B1-850', 'Nexus 5X Build/N2G48C', 'CMR-AL09', 'SM-J510H', 'Moto G (5) Build/OPP28.85-13', 'Nexus 6P', 'MYA-L03', 'SM-P555M', 'SAMSUNG SM-G532F Build/MMB29T', 'SM-G600S', 'BLA-A09 Build/HUAWEIBLA-A09', 'SM-N910T', 'SM-G935P', 'A10', 'VS501', 'QMV7B', 'moto g(6) play', 'VTR-L09', 'SM-A320FL Build/R16NW', 'HUAWEI RIO-L03', 'SM-G532G', 'rv:65.0', 'SAMSUNG-SM-G870A Build/LRX21T', 'SM-G930U Build/R16NW', 'SM-T320', 'Max10', 'S60', 'LG-H870DS Build/OPR1.170623.032', 'R7plusf', 'Moto G (4) Build/NPJS25.93-14.7-8', 'U2', 'F3111', 'SM-G610M Build/M1AJQ', 'SM-J700M', 'CPU', 'SM-J200G Build/LMY47X', 'Note8', 'Hisense F8 MINI', 'SM-A750G', 'CLT-L29', 'SAMSUNG SM-N950F Build/R16NW', 'D2206', 'Alumini_3_Plus', 'C2105', 'SAMSUNG SM-G935T Build/R16NW', 'LG-X180g', 'SM-G920F', 'Moto G (5)', 'Z916BL', 'SM-J327V', 'Life', 'RNE-L22', 'Moto Z2 Play Build/OPS27.76-12-25', 'SM-N910V', 'LG-K540', 'SM-N960F', 'SM-T837V', 'ASUS_A007', 'D5803', 'AGS-W09', 'FLA-LX3 Build/HUAWEIFLA-LX3', 'ASUS_Z012DC', 'SM-T713', 'ALP-L09', 'Lenovo PB2-670Y', 'SM-J120FN', 'G8441', 'K011 Build/KOT49H', 'HTL23', 'LG-TP260', '9003A', 'S60 Lite Build/NRD90M', 'LG-D325', 'Moto G (5) Build/OPPS28.85-13-2', 'ZTE BLADE V8 MINI', 'Nokia 6.1 Build/OPR1.170623.026', 'SM-N960W', 'Lenovo K33b36', 'SM-J727T1', 'SM-N900W8', 'SM-J500M', 'SM-G960U1', 'G3223 Build/48.1.A.2.50', 'BLADE', 'LM-Q710.FG', 'CAM-L03', 'SM-T360', 'Redmi Note 5A', 'SAMSUNG-SM-J727A', 'A37fw', 'Aquaris_M4.5', 'Moto E (4) Build/NMA26.42-157', 'SM-J320F', 'LM-X210 Build/N2G47H', 'BLN-L21', 'SM-G892U', 'Pixel XL Build/PPR2.181005.003', 'SGP621', 'SM-T560', 'moto e5 Build/OPP27.91-25', 'i50F Build/NRD90M', 'VS995', 'moto x4', 'Hisense U963', 'SM-J701M', 'SM-A310F', 'SAMSUNG SM-A605GN Build/R16NW', 'IM6', 'SAMSUNG SM-A520F Build/R16NW', 'SM-G930W8', 'SM-T378V', 'SM-P350', 'SAMSUNG-SM-G930A Build/R16NW', 'SM-G935V Build/R16NW', 'moto e5 play Build/OPG28.54-19', 'N1', 'P5525A', 'ATU-LX3 Build/HUAWEIATU-LX3', 'BLADE A520', 'SM-G357FZ', 'SM-G930T Build/R16NW', 'SM-G930F Build/R16NW', 'SM-A300FU', 'INFINIT_1', 'RIM', 'Galaxy', 'LG-X150', 'Azumi_IRO_A5_Q', 'SM-T817V', 'SM-S737TL', 'SM-S337TL', 'SM-G930U', 'rv:62.0', 'Infinit_X_CAM', 'PRA-LX1', 'TA-1021 Build/OPR1.170623.026', 'LLD-L31 Build/HONORLLD-L31', 'Lenovo A2016b30', 'LG-D690', 'BLA-AL00', 'K014', 'M5', 'Moto G Play', 'SM-A520W Build/R16NW', 'SAMSUNG-SM-J327A', 'SM-J701MT', 'SM-G900H', 'LGL158VL', 'A462C', 'SM-J727T', 'hi6210sft', 'Lifesize', 'SM-G960N', 'LGMS210', 'Redmi 6A', 'ZTE-K88', 'SAMSUNG SM-J610G Build/M1AJQ', 'Pixel 2 XL Build/PPR2.181005.003', 'HK-914581', 'CPH1835 Build/O11019', 'LG-M430', 'A7', 'AGS-L03', 'Ilium X510', 'SM-T357W', 'AX681', '5099A', '9024W', 'TA-1039 Build/OPR1.170623.026', 'iris', 'ONEPLUS A5000', 'ENERGY', 'Blade V6', 'FIG-LX1 Build/HUAWEIFIG-LX1', '5058A', 'moto g(6) plus Build/OPWS27.113-25-4', 'SM-G928T', 'moto g(6) plus', 'LG-H955', 'LG-H650', 'TU20402-58', 'Hisense L675', 'SM-J337T', 'EML-L09', 'rv:60.1.0', 'LM-X410PM', 'SM-T113NU', 'ASUS_A006', 'G3313 Build/43.0.A.7.70', 'SM-A605GN', 'moto e5 play', 'SM-N915T', 'Moto E (4) Plus', 'ANE-LX2', 'SM-G955U', '5010G', 'ALCATELONETOUCH', 'SM-A320FL', 'LG-H910', '2014819', 'SM-A530F Build/R16NW', 'LG-H634', 'JKM-LX3', 'LG-D805', 'LG-X210', 'GT-I9505', 'AW790', 'Infinity', 'KFASWI', '6016A', 'LG-X220', 'ASUS_X008DC', 'Redmi Note 3', 'C6506', 'LG-M400', 'SM-J260M', 'EML-L09 Build/HUAWEIEML-L09', 'LGLS676', 'rv:27.0', 'SM-J400M', 'LDN-L21', 'Hisense T963', 'SM-G930R4 Build/R16NW', 'Infinit MX Build/NRD90M', 'moto g(6) plus Build/OPW27.113-89', 'HTC 10', 'SM-J737P Build/R16NW', 'SAMSUNG SM-A530F Build/NMF26X', 'LG-M327', '8082', 'Ilium X520', 'SM-A605GN Build/R16NW', 'Redmi 5 Plus', 'SM-J730GM', 'P10', 'Moto Z2 Play Build/OPSS27.76-12-25-7', 'breeze', 'gxq6580_weg_l', 'MYA-L13', 'LGMP450', '5033A', 'GT-I8190L', 'RCT6103W46', 'Nokia_X', 'LG-K200', 'LG-M151', 'ASUS_X00PD', 'C6506 Build/10.7.A.0.222', 'SM-G800F', 'GT-I9195 Build/KOT49H', 'moto e5', 'ATU-L21', 'RIDGE', 'LG-K580', 'TR10RS1', 'XT1572', 'AGS-L09', 'RNE-L23', 'T1-A21w', 'moto g(6) play Build/OPP27.91-140', 'SAMSUNG SM-J600G Build/R16NW', 'moto e5 play Build/OPGS28.54-19-2', 'motorola one', 'LM-Q710.FGN', 'Q01A', 'PAR-LX9', 'SAMSUNG SM-J510FN Build/NMF26X', 'SM-G800M', 'Z818L', 'moto e5 Build/OPP27.91-146', 'SM-C5010', '5025G', 'SM-J737V', 'BV6000S', 'HTC Desire 626s', 'SH-01K', 'LG-K520', 'SM-G355M', 'SM-G900F', 'SM-G925V', 'D5503 Build/14.6.A.0.368', '5049Z', 'LGMP260', 'MXG401', 'HTC One A9s', 'Moto G Play Build/NPIS26.48-43-2', 'LM-Q610(FGN', 'R505', 'Max10 Build/LMY47I', 'Armor', 'G3223 Build/48.1.A.2.21', 'RCT6973W43MD', 'Neffos_C9A', 'Z851M', 'Ilium M3 Build/NRD90M', 'M4 SS4458', 'Redmi 4X', '5099A Build/O00623', 'Moto Z2 Play Build/OPSS27.76-12-25-3', 'Mi A1', 'PRA-LX3', 'Alcatel_5044R', 'LGL157BL', 'HUAWEI VNS-L23', 'DIG-L03', 'SGH-T999L', 'SM-T530NU', 'SM-N900P', 'E6782', 'CAM-L21', 'moto g(6) Build/OPS27.82-87', 'LG-M250', 'SM-G930VC', '5085B', 'BLA-L09', '7048X', 'ASUS_Z017DC', 'LG-K410', 'VKY-L09', 'LYA-L09', 'Redmi 5A Build/N2G47H', 'SM-J700T', 'Hisense F23', 'Pixel 2 XL Build/OPM2.171026.006.H1', 'SAMSUNG SM-T377W Build/NMF26X', 'FLA-LX3', 'HTC One M9PLUS', 'ASUS_Z00XS', 'SM-G955U1', 'SM-G960F', 'Moto G (5) Plus Build/NPNS25.137-93-14', 'XT1562 Build/MPDS24.107-52-11', 'SAMSUNG SM-J810M Build/R16NW', 'GHIA_AXIS7', 'SM-N920G', 'SM-G900M', 'A50LT', 'Redmi Note 6 Pro', 'SGP512', 'AUM-L29', 'G8231', 'Fedora', 'Moto Z2 Play', 'LM-X410.F', 'VORAGO', 'LG-K240', 'SM-A600T1', 'SHV39', 'SM-N960U Build/M1AJQ', 'SM-G960W', 'ONEPLUS A5000 Build/OPM1.171019.011', 'SAMSUNG SM-T580 Build/M1AJQ', 'KYOCERA-C6742', 'SM-G925T', 'BLA-L29 Build/HUAWEIBLA-L29S', 'Alcatel_5098O', 'F3216', 'ASUS_Z01HD', 'SM-J327T1', 'Nexus 5X Build/OPM7.181005.003', 'SNE-LX3', 'SM-G900T', 'G24027K', 'LG-LS777', 'H8216', 'HUAWEI Y560-L03', 'Blade L2 Plus', 'Alpha 950', 'ASUS_A009', 'RCT6873W42M', 'K81', 'SM-G955N', 'SAMSUNG-SM-G891A Build/R16NW', 'Pixel 3', 'SM-S367VL', '4047G', 'SM-A5100', '5026A', 'SAMSUNG SM-G930F Build/R16NW', 'Moto G (5) Plus Build/NPNS25.137-92-14', 'SM-J330FN', 'Moto E (4) Build/NMA26.42-167', 'ALE-L21', 'Blade V6 Plus', 'rv:26.0', 'SM-G611F', 'LG-K120', 'SM-A500M', 'ONEPLUS A3010', 'motorola', 'SAMSUNG SM-G930T Build/R16NW', 'SM-N9200', 'moto g(6) plus Build/OPWS27.113-89-2', 'D6653', 'SM-N9600', 'LG-UK495', 'SM-P905V', 'Infinit_Lite_2', 'LM-X410(FG', 'LG-H918', 'M4_B2', 'SM-J320V', 'rv:28.0', 'HTC One', 'GT-S6810M', 'LG-K530', 'KFFOWI', 'rv:64.0', 'SM-T217T', 'DLI-L22', 'E2306', 'SM-J510MN', 'MHA-L29', 'ONEPLUS A6003 Build/PKQ1.180716.001', 'SO-02H', 'KFGIWI', 'Moto C', 'SAMSUNG SM-A530F Build/R16NW', 'SM-G935S', 'DRA-L21', 'LG-D120 Build/KOT49I.V10a', 'SM-G570M', 'SAMSUNG SM-G935A Build/R16NW', 'BAC-L03', 'SM-G570M Build/R16NW', 'SM-G930P Build/R16NW', 'SAMSUNG-SM-J321AZ', 'LG-H860', 'CRO-L03', 'GHIA_AXIS7P', 'N9519', 'GT-I9300I', 'M4 SS4456', 'ALE-L02', 'SM-T677V', 'SM-G965F', '5015A', 'iPhone 6plus', 'ANE-LX3', 'SM-G965U1', 'KYOCERA-C6742A', 'NX591J', 'SAMSUNG SM-N910F/N910FXXU1DQL2 Build/MMB29M', 'BLADE V9 Build/OPR1.170623.032', 'HUAWEI TAG-L13', 'SM-G9600', 'Z9', 'FIG-LX3', 'Pixel 2 Build/OPM2.171026.006.G1', 'EVA-L09', 'LG-H931 Build/OPR1.170623.026', 'LM-G710VM', 'SM-N950U', 'LG-M210', 'ONEPLUS A6013', 'ANE-LX1 Build/HUAWEIANE-LX1', 'es-es', '6036A Build/JLS36C', 'SM-J530F', 'Miracle', 'NX16A11264', 'LG-M153', 'carbon_harpia', 'Mi A2 Lite', 'G8141 Build/47.1.A.12.270', 'SM-G950U', '5054S', 'Alcatel_6060C', 'SAMSUNG SM-J510MN Build/NMF26X', '5011A', 'SM-J415G', 'SAMSUNG SM-G960F Build/R16NW', 'DRA-LX3 Build/HUAWEIDRA-LX3', 'P5047A', 'G3112', 'LGL59BL', 'SM-G357M', 'Pixel Build/OPM4.171019.021.P1', 'Neffos X1 Max', 'SM-A720F', 'LG-M703', 'Z956', 'SM-N7505', 'E6910', 'ROCKET', 'LGL84VL', 'Moto G (4) Build/NPJS25.93-14-8.1-9', 'Rex Build/MRA58K', 'SAMSUNG SM-A520W Build/NRD90M', 'BAH-L09', 'Nexus 5X', 'SM-T110', 'LG-M710', 'moto g(6) Build/OPS27.82-72', 'HMA-L09', 'Azumi_DOSHI_A55_QL', 'ONEPLUS A3000', 'SM-N920I', 'SM-T337T', 'WAS-LX1A', 'SM-T820', 'SM-G950N', 'BLA-L29', 'LG-M700', 'Redmi 6', 'Pixel 2 XL', 'BLADE A6 MAX Build/N2G47H', 'C5', 'GT-I9060L', 'SM-J727U', 'Android 8.0.0', 'PSPCL20A0', 'SM-T805 Build/MMB29K', 'SM-G316M', 'KFAPWI', 'XT1562', 'SAMSUNG SM-J737P Build/R16NW', '5056A', 'SAMSUNG SM-G960U1 Build/R16NW', 'SM-J700H', 'Z957', 'F3116', 'Shift', 'rv:36.0', 'XT1585', 'SAMSUNG SM-J737T Build/R16NW', 'LG-H870DS', 'SM-J320M', 'LGMS550', 'Shock', 'LG-K425', 'Z982', 'moto g(6) Build/OPS27.82-41', 'LAVA_R1', 'C6902', 'NATIVO Build/NRD90M', 'Lumia', 'L-03K', 'A10 Pro Build/LMY47I', 'N9137', 'Moto G (4)', 'Neffos_C7', 'LG-H700', 'XT1635-02 Build/OPNS27.76-12-22-3', 'SM-J710MN', 'P002', 'Tank', 'ASUS_X00AD', 'G3412', 'LG-H631MX', 'rv:21.0', 'TRT-LX2', 'verykool_s5516', 'ONEPLUS A3003', 'SM-G950F', 'SM-J720F', 'RCT6513W87', 'Pixel 2 Build/OPM2.171026.006.C1', 'SM-J810Y', 'KFARWI', 'SM-T900', 'G8232', 'moto e5 cruise', 'SM-T597V', '7048A', 'VS988', 'SM-J600G Build/R16NW', 'LG-M700 Build/OPM1.171019.026', 'VIE-L09', 'SM-T813', 'LG-K557 Build/MXB48T', 'LenovoA3300-GV', 'verykools5036', 'Redmi Note 3 Build/NMF26Q', 'LG-H870', 'Moto X Play', 'Slate', 'MI MAX 3', 'Redmi 4A', 'ALE-L23', 'LG-M320', 'SM-S727VL', 'MB520', 'SHIFT4.2', 'P00I', 'Che2-L23', 'Pixel 2 Build/PPR2.181005.003', 'SM-J727V', 'MotoG3 Build/MPIS24.65-33.1-2-10', 'SAMSUNG-SM-G891A', 'ONEPLUS A5010', 'SM-T700', 'Gini s5Pro Build/NRD90M', 'SM-G386F', 'SM-G925P', 'SAMSUNG SM-J400M Build/R16NW', 'LG-TP450', 'UNIQ', 'SM-A520F', 'TechPad_10Y', 'Blade V580', 'P5526A', 'NEM-L51', 'SM-T350', 'SM-G892U Build/R16NW', 'CPH1725', 'PRA-LX2', 'GLAM', 'Mi A2', 'SM-J810M', 'HTC 10 Build/OPR1.170623.027', 'SM-A510F', 'KFAUWI', 'moto x4 Build/OPWS27.57-40-22', 'SAMSUNG-SM-G530AZ', 'LG-LS993', 'moto g(6) play Build/OPP27.91-143', 'LM-G710', 'SM-A730F', 'LG-V410/V41020e', 'SM-A320F', 'SM-G930VL', 'ASUS_X00HD', 'HTC Desire 650', 'arc', 'Lenovo TB-7104F Build/O11019', 'SM-J600G', 'SM-J106B', 'LG-Q710AL', 'VKY-L29', 'SM-T280', 'rv:63.0', 'SM-J105B', 'Q05A', 'SM-G960U', 'SCH-I545', 'KEMPLER_TV', 'Moto E (4)', 'CLT-L04 Build/HUAWEICLT-L04', 'MHA-L09', '4009A', 'Moto G (5) Plus Build/OPS28.85-13', 'Moto Z3 Play Build/OPW28.70-22', 'SAMSUNG SM-N950N Build/R16NW', 'SAMSUNG SM-G930A Build/R16NW', 'LG-H990', 'SM-N960U1', 'AX921', 'SM-J600GT', 'MIX Build/OPR1.170623.032', '6043A', 'DRA-LX3', 'Hisense Hi 3 Build/NRD90M', 'LM-Q610.FG', 'ATU-LX3', 'SLA-L03', 'U972', 'MotoE2', 'SM-G900T Build/LMY47X', 'M4 SS4457', 'SM-J327VPP', 'LG-K220', '6062W', 'SAMSUNG-SM-G920A', 'moto e5 plus Build/OPP27.91-122', 'BAH-W09', 'LG-X230', 'SGP311', 'Power_2', 'HUAWEI CUN-L03', 'RAINBOW', 'verykoolS5027', '5059A', 'G3121', 'SM-T827V', 'SAMSUNG SM-G900M Build/MMB29M', 'ASUS_Z01MD', 'ONEPLUS A6003', 'LGL164VL', 'SM-J200M', 'KFTT', 'Redmi Note 4', 'Z988', 'D2303', 'Polaroid', 'MIX', 'STUDIO', 'LML413DL', 'SM-G930V', 'LG-D280', 'SAMSUNG SM-G390F Build/NRD90M', 'Z730', 'P008', 'SM-J327P', 'Moto Z2 Play Build/NPSS26.118-19-22', '5012G', 'LEX722', 'VS987', 'Moto Z3 Play', 'A502DL', 'SM-J600FN', 'R8006', 'Moto G (5) Build/NPPS25.137-93-14', 'GT-N5120', 'LG-X165g', 'LG-H873 Build/NRD90U', 'SAMSUNG-SM-G928A', 'F5121 Build/34.4.A.2.107', 'SM-G532MT', 'PSPC550', 'KFSUWI', 'SM-P580', 'BLADE V8Q', 'KFTBWI', 'Hisense F20', 'CMR-W09', 'G3121 Build/48.1.A.2.21', 'G3123 Build/48.1.A.2.21', 'G3311', 'SM-G935T Build/R16NW', 'LG-D631', 'M4 SS4458-R', 'E5603', 'LG-D852', 'BGO-DL09', 'BND-L24', 'H8314', 'NX551J', 'SM-T710', '8080', 'Hisense F24', '5041C', 'ALP-L29', '2PS64', 'Z899VL', 'Moto E (4) Build/NDQ26.69-64-9', 'SM-N900V', 'Moto G (5) Plus', 'M4 SS4453', 'SAMSUNG SM-A320FL Build/R16NW', 'Moto G (5) Plus Build/OPSS28.85-13-3', 'A622GL', 'SM-J400M Build/R16NW', '8_Plus', 'CPH1835', 'RCT6B03W13', 'RNE-L03', 'LG-LS997', 'RNE-L21', 'VS988 Build/OPR1.170623.032', 'moto e5 Build/OPP27.91-72', 'INE-LX2 Build/HUAWEIINE-LX2', 'FunWebProducts', 'GT-I9060I', 'BLN-L24', 'Tab8', 'PIC-LX9', 'LG-K430', 'Redmi S2', 'SM-J250F', 'ULTRA', 'LG-H873', 'LG-H831', 'hi6250', 'SM-G965U', 'Moto G (5) Plus Build/NPN25.137-35', 'N9560', 'LDN-LX3', 'M4_B3', 'SM-G610M', 'LG-LS997 Build/OPR1.170623.032', 'GT-N8013', 'Redmi 5 Plus Build/OPM1.171019.019', 'LM-Q850', 'Nokia 2 Build/NMF26F', 'SL729', 'VS990', 'SM-J710F', 'SM-N920F', 'Energy', 'LM-Q710(FGN', 'SM-G935R4', 'Pixel XL Build/OPM4.171019.021.P1', 'SC-03K', 'SM-A920F', 'SM-G900F Build/NJH47F', 'H3223', 'Moto C Plus', 'SM-G530H', 'TA-1033', 'Ilium X710', 'CLT-L04', 'G3123 Build/48.1.A.2.50', 'ASUS_A002A', 'SM-G950U1', 'SM-G930R4', '5044T', 'SM-N950U1', 'VF-895N', 'XT1650 Build/OCLS27.76-69-6', 'TA-1039', 'LG-US998', 'Pixel 3 XL', 'LG-K210', 'F3112', 'LM-V405', 'HTC Desire 530', 'H3123', 'Y635-L03', '5085A', 'SM-G930W8 Build/R16NW', 'SM-J610G', 'Redmi Note 5', 'HUAWEI VNS-L53', 'Redmi Note 5 Build/OPM1.171019.011', 'ZEI403', 'SM-J730G', 'SM-J250M'] in column 16 during transform",
     "traceback": [
      "\u001b[1;31m---------------------------------------------------------------------------\u001b[0m",
      "\u001b[1;31mValueError\u001b[0m                                Traceback (most recent call last)",
      "\u001b[1;32m<ipython-input-77-7003bd7ca123>\u001b[0m in \u001b[0;36m<module>\u001b[1;34m\u001b[0m\n\u001b[0;32m      1\u001b[0m \u001b[1;31m# transform the test data to the pipeline\u001b[0m\u001b[1;33m\u001b[0m\u001b[1;33m\u001b[0m\u001b[1;33m\u001b[0m\u001b[0m\n\u001b[0;32m      2\u001b[0m \u001b[1;33m\u001b[0m\u001b[0m\n\u001b[1;32m----> 3\u001b[1;33m \u001b[0mfull_pipeline\u001b[0m\u001b[1;33m.\u001b[0m\u001b[0mtransform\u001b[0m\u001b[1;33m(\u001b[0m\u001b[0mtest\u001b[0m\u001b[1;33m)\u001b[0m\u001b[1;33m\u001b[0m\u001b[1;33m\u001b[0m\u001b[0m\n\u001b[0m",
      "\u001b[1;32m~\\Anaconda3\\envs\\tf_scikit\\lib\\site-packages\\sklearn\\compose\\_column_transformer.py\u001b[0m in \u001b[0;36mtransform\u001b[1;34m(self, X)\u001b[0m\n\u001b[0;32m    510\u001b[0m \u001b[1;33m\u001b[0m\u001b[0m\n\u001b[0;32m    511\u001b[0m         \u001b[0mX\u001b[0m \u001b[1;33m=\u001b[0m \u001b[0m_check_X\u001b[0m\u001b[1;33m(\u001b[0m\u001b[0mX\u001b[0m\u001b[1;33m)\u001b[0m\u001b[1;33m\u001b[0m\u001b[1;33m\u001b[0m\u001b[0m\n\u001b[1;32m--> 512\u001b[1;33m         \u001b[0mXs\u001b[0m \u001b[1;33m=\u001b[0m \u001b[0mself\u001b[0m\u001b[1;33m.\u001b[0m\u001b[0m_fit_transform\u001b[0m\u001b[1;33m(\u001b[0m\u001b[0mX\u001b[0m\u001b[1;33m,\u001b[0m \u001b[1;32mNone\u001b[0m\u001b[1;33m,\u001b[0m \u001b[0m_transform_one\u001b[0m\u001b[1;33m,\u001b[0m \u001b[0mfitted\u001b[0m\u001b[1;33m=\u001b[0m\u001b[1;32mTrue\u001b[0m\u001b[1;33m)\u001b[0m\u001b[1;33m\u001b[0m\u001b[1;33m\u001b[0m\u001b[0m\n\u001b[0m\u001b[0;32m    513\u001b[0m         \u001b[0mself\u001b[0m\u001b[1;33m.\u001b[0m\u001b[0m_validate_output\u001b[0m\u001b[1;33m(\u001b[0m\u001b[0mXs\u001b[0m\u001b[1;33m)\u001b[0m\u001b[1;33m\u001b[0m\u001b[1;33m\u001b[0m\u001b[0m\n\u001b[0;32m    514\u001b[0m \u001b[1;33m\u001b[0m\u001b[0m\n",
      "\u001b[1;32m~\\Anaconda3\\envs\\tf_scikit\\lib\\site-packages\\sklearn\\compose\\_column_transformer.py\u001b[0m in \u001b[0;36m_fit_transform\u001b[1;34m(self, X, y, func, fitted)\u001b[0m\n\u001b[0;32m    410\u001b[0m                     message=self._log_message(name, idx, len(transformers)))\n\u001b[0;32m    411\u001b[0m                 for idx, (name, trans, column, weight) in enumerate(\n\u001b[1;32m--> 412\u001b[1;33m                         self._iter(fitted=fitted, replace_strings=True), 1))\n\u001b[0m\u001b[0;32m    413\u001b[0m         \u001b[1;32mexcept\u001b[0m \u001b[0mValueError\u001b[0m \u001b[1;32mas\u001b[0m \u001b[0me\u001b[0m\u001b[1;33m:\u001b[0m\u001b[1;33m\u001b[0m\u001b[1;33m\u001b[0m\u001b[0m\n\u001b[0;32m    414\u001b[0m             \u001b[1;32mif\u001b[0m \u001b[1;34m\"Expected 2D array, got 1D array instead\"\u001b[0m \u001b[1;32min\u001b[0m \u001b[0mstr\u001b[0m\u001b[1;33m(\u001b[0m\u001b[0me\u001b[0m\u001b[1;33m)\u001b[0m\u001b[1;33m:\u001b[0m\u001b[1;33m\u001b[0m\u001b[1;33m\u001b[0m\u001b[0m\n",
      "\u001b[1;32m~\\Anaconda3\\envs\\tf_scikit\\lib\\site-packages\\joblib\\parallel.py\u001b[0m in \u001b[0;36m__call__\u001b[1;34m(self, iterable)\u001b[0m\n\u001b[0;32m    922\u001b[0m                 \u001b[0mself\u001b[0m\u001b[1;33m.\u001b[0m\u001b[0m_iterating\u001b[0m \u001b[1;33m=\u001b[0m \u001b[0mself\u001b[0m\u001b[1;33m.\u001b[0m\u001b[0m_original_iterator\u001b[0m \u001b[1;32mis\u001b[0m \u001b[1;32mnot\u001b[0m \u001b[1;32mNone\u001b[0m\u001b[1;33m\u001b[0m\u001b[1;33m\u001b[0m\u001b[0m\n\u001b[0;32m    923\u001b[0m \u001b[1;33m\u001b[0m\u001b[0m\n\u001b[1;32m--> 924\u001b[1;33m             \u001b[1;32mwhile\u001b[0m \u001b[0mself\u001b[0m\u001b[1;33m.\u001b[0m\u001b[0mdispatch_one_batch\u001b[0m\u001b[1;33m(\u001b[0m\u001b[0miterator\u001b[0m\u001b[1;33m)\u001b[0m\u001b[1;33m:\u001b[0m\u001b[1;33m\u001b[0m\u001b[1;33m\u001b[0m\u001b[0m\n\u001b[0m\u001b[0;32m    925\u001b[0m                 \u001b[1;32mpass\u001b[0m\u001b[1;33m\u001b[0m\u001b[1;33m\u001b[0m\u001b[0m\n\u001b[0;32m    926\u001b[0m \u001b[1;33m\u001b[0m\u001b[0m\n",
      "\u001b[1;32m~\\Anaconda3\\envs\\tf_scikit\\lib\\site-packages\\joblib\\parallel.py\u001b[0m in \u001b[0;36mdispatch_one_batch\u001b[1;34m(self, iterator)\u001b[0m\n\u001b[0;32m    757\u001b[0m                 \u001b[1;32mreturn\u001b[0m \u001b[1;32mFalse\u001b[0m\u001b[1;33m\u001b[0m\u001b[1;33m\u001b[0m\u001b[0m\n\u001b[0;32m    758\u001b[0m             \u001b[1;32melse\u001b[0m\u001b[1;33m:\u001b[0m\u001b[1;33m\u001b[0m\u001b[1;33m\u001b[0m\u001b[0m\n\u001b[1;32m--> 759\u001b[1;33m                 \u001b[0mself\u001b[0m\u001b[1;33m.\u001b[0m\u001b[0m_dispatch\u001b[0m\u001b[1;33m(\u001b[0m\u001b[0mtasks\u001b[0m\u001b[1;33m)\u001b[0m\u001b[1;33m\u001b[0m\u001b[1;33m\u001b[0m\u001b[0m\n\u001b[0m\u001b[0;32m    760\u001b[0m                 \u001b[1;32mreturn\u001b[0m \u001b[1;32mTrue\u001b[0m\u001b[1;33m\u001b[0m\u001b[1;33m\u001b[0m\u001b[0m\n\u001b[0;32m    761\u001b[0m \u001b[1;33m\u001b[0m\u001b[0m\n",
      "\u001b[1;32m~\\Anaconda3\\envs\\tf_scikit\\lib\\site-packages\\joblib\\parallel.py\u001b[0m in \u001b[0;36m_dispatch\u001b[1;34m(self, batch)\u001b[0m\n\u001b[0;32m    714\u001b[0m         \u001b[1;32mwith\u001b[0m \u001b[0mself\u001b[0m\u001b[1;33m.\u001b[0m\u001b[0m_lock\u001b[0m\u001b[1;33m:\u001b[0m\u001b[1;33m\u001b[0m\u001b[1;33m\u001b[0m\u001b[0m\n\u001b[0;32m    715\u001b[0m             \u001b[0mjob_idx\u001b[0m \u001b[1;33m=\u001b[0m \u001b[0mlen\u001b[0m\u001b[1;33m(\u001b[0m\u001b[0mself\u001b[0m\u001b[1;33m.\u001b[0m\u001b[0m_jobs\u001b[0m\u001b[1;33m)\u001b[0m\u001b[1;33m\u001b[0m\u001b[1;33m\u001b[0m\u001b[0m\n\u001b[1;32m--> 716\u001b[1;33m             \u001b[0mjob\u001b[0m \u001b[1;33m=\u001b[0m \u001b[0mself\u001b[0m\u001b[1;33m.\u001b[0m\u001b[0m_backend\u001b[0m\u001b[1;33m.\u001b[0m\u001b[0mapply_async\u001b[0m\u001b[1;33m(\u001b[0m\u001b[0mbatch\u001b[0m\u001b[1;33m,\u001b[0m \u001b[0mcallback\u001b[0m\u001b[1;33m=\u001b[0m\u001b[0mcb\u001b[0m\u001b[1;33m)\u001b[0m\u001b[1;33m\u001b[0m\u001b[1;33m\u001b[0m\u001b[0m\n\u001b[0m\u001b[0;32m    717\u001b[0m             \u001b[1;31m# A job can complete so quickly than its callback is\u001b[0m\u001b[1;33m\u001b[0m\u001b[1;33m\u001b[0m\u001b[1;33m\u001b[0m\u001b[0m\n\u001b[0;32m    718\u001b[0m             \u001b[1;31m# called before we get here, causing self._jobs to\u001b[0m\u001b[1;33m\u001b[0m\u001b[1;33m\u001b[0m\u001b[1;33m\u001b[0m\u001b[0m\n",
      "\u001b[1;32m~\\Anaconda3\\envs\\tf_scikit\\lib\\site-packages\\joblib\\_parallel_backends.py\u001b[0m in \u001b[0;36mapply_async\u001b[1;34m(self, func, callback)\u001b[0m\n\u001b[0;32m    180\u001b[0m     \u001b[1;32mdef\u001b[0m \u001b[0mapply_async\u001b[0m\u001b[1;33m(\u001b[0m\u001b[0mself\u001b[0m\u001b[1;33m,\u001b[0m \u001b[0mfunc\u001b[0m\u001b[1;33m,\u001b[0m \u001b[0mcallback\u001b[0m\u001b[1;33m=\u001b[0m\u001b[1;32mNone\u001b[0m\u001b[1;33m)\u001b[0m\u001b[1;33m:\u001b[0m\u001b[1;33m\u001b[0m\u001b[1;33m\u001b[0m\u001b[0m\n\u001b[0;32m    181\u001b[0m         \u001b[1;34m\"\"\"Schedule a func to be run\"\"\"\u001b[0m\u001b[1;33m\u001b[0m\u001b[1;33m\u001b[0m\u001b[0m\n\u001b[1;32m--> 182\u001b[1;33m         \u001b[0mresult\u001b[0m \u001b[1;33m=\u001b[0m \u001b[0mImmediateResult\u001b[0m\u001b[1;33m(\u001b[0m\u001b[0mfunc\u001b[0m\u001b[1;33m)\u001b[0m\u001b[1;33m\u001b[0m\u001b[1;33m\u001b[0m\u001b[0m\n\u001b[0m\u001b[0;32m    183\u001b[0m         \u001b[1;32mif\u001b[0m \u001b[0mcallback\u001b[0m\u001b[1;33m:\u001b[0m\u001b[1;33m\u001b[0m\u001b[1;33m\u001b[0m\u001b[0m\n\u001b[0;32m    184\u001b[0m             \u001b[0mcallback\u001b[0m\u001b[1;33m(\u001b[0m\u001b[0mresult\u001b[0m\u001b[1;33m)\u001b[0m\u001b[1;33m\u001b[0m\u001b[1;33m\u001b[0m\u001b[0m\n",
      "\u001b[1;32m~\\Anaconda3\\envs\\tf_scikit\\lib\\site-packages\\joblib\\_parallel_backends.py\u001b[0m in \u001b[0;36m__init__\u001b[1;34m(self, batch)\u001b[0m\n\u001b[0;32m    547\u001b[0m         \u001b[1;31m# Don't delay the application, to avoid keeping the input\u001b[0m\u001b[1;33m\u001b[0m\u001b[1;33m\u001b[0m\u001b[1;33m\u001b[0m\u001b[0m\n\u001b[0;32m    548\u001b[0m         \u001b[1;31m# arguments in memory\u001b[0m\u001b[1;33m\u001b[0m\u001b[1;33m\u001b[0m\u001b[1;33m\u001b[0m\u001b[0m\n\u001b[1;32m--> 549\u001b[1;33m         \u001b[0mself\u001b[0m\u001b[1;33m.\u001b[0m\u001b[0mresults\u001b[0m \u001b[1;33m=\u001b[0m \u001b[0mbatch\u001b[0m\u001b[1;33m(\u001b[0m\u001b[1;33m)\u001b[0m\u001b[1;33m\u001b[0m\u001b[1;33m\u001b[0m\u001b[0m\n\u001b[0m\u001b[0;32m    550\u001b[0m \u001b[1;33m\u001b[0m\u001b[0m\n\u001b[0;32m    551\u001b[0m     \u001b[1;32mdef\u001b[0m \u001b[0mget\u001b[0m\u001b[1;33m(\u001b[0m\u001b[0mself\u001b[0m\u001b[1;33m)\u001b[0m\u001b[1;33m:\u001b[0m\u001b[1;33m\u001b[0m\u001b[1;33m\u001b[0m\u001b[0m\n",
      "\u001b[1;32m~\\Anaconda3\\envs\\tf_scikit\\lib\\site-packages\\joblib\\parallel.py\u001b[0m in \u001b[0;36m__call__\u001b[1;34m(self)\u001b[0m\n\u001b[0;32m    223\u001b[0m         \u001b[1;32mwith\u001b[0m \u001b[0mparallel_backend\u001b[0m\u001b[1;33m(\u001b[0m\u001b[0mself\u001b[0m\u001b[1;33m.\u001b[0m\u001b[0m_backend\u001b[0m\u001b[1;33m,\u001b[0m \u001b[0mn_jobs\u001b[0m\u001b[1;33m=\u001b[0m\u001b[0mself\u001b[0m\u001b[1;33m.\u001b[0m\u001b[0m_n_jobs\u001b[0m\u001b[1;33m)\u001b[0m\u001b[1;33m:\u001b[0m\u001b[1;33m\u001b[0m\u001b[1;33m\u001b[0m\u001b[0m\n\u001b[0;32m    224\u001b[0m             return [func(*args, **kwargs)\n\u001b[1;32m--> 225\u001b[1;33m                     for func, args, kwargs in self.items]\n\u001b[0m\u001b[0;32m    226\u001b[0m \u001b[1;33m\u001b[0m\u001b[0m\n\u001b[0;32m    227\u001b[0m     \u001b[1;32mdef\u001b[0m \u001b[0m__len__\u001b[0m\u001b[1;33m(\u001b[0m\u001b[0mself\u001b[0m\u001b[1;33m)\u001b[0m\u001b[1;33m:\u001b[0m\u001b[1;33m\u001b[0m\u001b[1;33m\u001b[0m\u001b[0m\n",
      "\u001b[1;32m~\\Anaconda3\\envs\\tf_scikit\\lib\\site-packages\\joblib\\parallel.py\u001b[0m in \u001b[0;36m<listcomp>\u001b[1;34m(.0)\u001b[0m\n\u001b[0;32m    223\u001b[0m         \u001b[1;32mwith\u001b[0m \u001b[0mparallel_backend\u001b[0m\u001b[1;33m(\u001b[0m\u001b[0mself\u001b[0m\u001b[1;33m.\u001b[0m\u001b[0m_backend\u001b[0m\u001b[1;33m,\u001b[0m \u001b[0mn_jobs\u001b[0m\u001b[1;33m=\u001b[0m\u001b[0mself\u001b[0m\u001b[1;33m.\u001b[0m\u001b[0m_n_jobs\u001b[0m\u001b[1;33m)\u001b[0m\u001b[1;33m:\u001b[0m\u001b[1;33m\u001b[0m\u001b[1;33m\u001b[0m\u001b[0m\n\u001b[0;32m    224\u001b[0m             return [func(*args, **kwargs)\n\u001b[1;32m--> 225\u001b[1;33m                     for func, args, kwargs in self.items]\n\u001b[0m\u001b[0;32m    226\u001b[0m \u001b[1;33m\u001b[0m\u001b[0m\n\u001b[0;32m    227\u001b[0m     \u001b[1;32mdef\u001b[0m \u001b[0m__len__\u001b[0m\u001b[1;33m(\u001b[0m\u001b[0mself\u001b[0m\u001b[1;33m)\u001b[0m\u001b[1;33m:\u001b[0m\u001b[1;33m\u001b[0m\u001b[1;33m\u001b[0m\u001b[0m\n",
      "\u001b[1;32m~\\Anaconda3\\envs\\tf_scikit\\lib\\site-packages\\sklearn\\pipeline.py\u001b[0m in \u001b[0;36m_transform_one\u001b[1;34m(transformer, X, y, weight, **fit_params)\u001b[0m\n\u001b[0;32m    693\u001b[0m \u001b[1;33m\u001b[0m\u001b[0m\n\u001b[0;32m    694\u001b[0m \u001b[1;32mdef\u001b[0m \u001b[0m_transform_one\u001b[0m\u001b[1;33m(\u001b[0m\u001b[0mtransformer\u001b[0m\u001b[1;33m,\u001b[0m \u001b[0mX\u001b[0m\u001b[1;33m,\u001b[0m \u001b[0my\u001b[0m\u001b[1;33m,\u001b[0m \u001b[0mweight\u001b[0m\u001b[1;33m,\u001b[0m \u001b[1;33m**\u001b[0m\u001b[0mfit_params\u001b[0m\u001b[1;33m)\u001b[0m\u001b[1;33m:\u001b[0m\u001b[1;33m\u001b[0m\u001b[1;33m\u001b[0m\u001b[0m\n\u001b[1;32m--> 695\u001b[1;33m     \u001b[0mres\u001b[0m \u001b[1;33m=\u001b[0m \u001b[0mtransformer\u001b[0m\u001b[1;33m.\u001b[0m\u001b[0mtransform\u001b[0m\u001b[1;33m(\u001b[0m\u001b[0mX\u001b[0m\u001b[1;33m)\u001b[0m\u001b[1;33m\u001b[0m\u001b[1;33m\u001b[0m\u001b[0m\n\u001b[0m\u001b[0;32m    696\u001b[0m     \u001b[1;31m# if we have a weight for this transformer, multiply output\u001b[0m\u001b[1;33m\u001b[0m\u001b[1;33m\u001b[0m\u001b[1;33m\u001b[0m\u001b[0m\n\u001b[0;32m    697\u001b[0m     \u001b[1;32mif\u001b[0m \u001b[0mweight\u001b[0m \u001b[1;32mis\u001b[0m \u001b[1;32mNone\u001b[0m\u001b[1;33m:\u001b[0m\u001b[1;33m\u001b[0m\u001b[1;33m\u001b[0m\u001b[0m\n",
      "\u001b[1;32m~\\Anaconda3\\envs\\tf_scikit\\lib\\site-packages\\sklearn\\pipeline.py\u001b[0m in \u001b[0;36m_transform\u001b[1;34m(self, X)\u001b[0m\n\u001b[0;32m    538\u001b[0m         \u001b[0mXt\u001b[0m \u001b[1;33m=\u001b[0m \u001b[0mX\u001b[0m\u001b[1;33m\u001b[0m\u001b[1;33m\u001b[0m\u001b[0m\n\u001b[0;32m    539\u001b[0m         \u001b[1;32mfor\u001b[0m \u001b[0m_\u001b[0m\u001b[1;33m,\u001b[0m \u001b[0m_\u001b[0m\u001b[1;33m,\u001b[0m \u001b[0mtransform\u001b[0m \u001b[1;32min\u001b[0m \u001b[0mself\u001b[0m\u001b[1;33m.\u001b[0m\u001b[0m_iter\u001b[0m\u001b[1;33m(\u001b[0m\u001b[1;33m)\u001b[0m\u001b[1;33m:\u001b[0m\u001b[1;33m\u001b[0m\u001b[1;33m\u001b[0m\u001b[0m\n\u001b[1;32m--> 540\u001b[1;33m             \u001b[0mXt\u001b[0m \u001b[1;33m=\u001b[0m \u001b[0mtransform\u001b[0m\u001b[1;33m.\u001b[0m\u001b[0mtransform\u001b[0m\u001b[1;33m(\u001b[0m\u001b[0mXt\u001b[0m\u001b[1;33m)\u001b[0m\u001b[1;33m\u001b[0m\u001b[1;33m\u001b[0m\u001b[0m\n\u001b[0m\u001b[0;32m    541\u001b[0m         \u001b[1;32mreturn\u001b[0m \u001b[0mXt\u001b[0m\u001b[1;33m\u001b[0m\u001b[1;33m\u001b[0m\u001b[0m\n\u001b[0;32m    542\u001b[0m \u001b[1;33m\u001b[0m\u001b[0m\n",
      "\u001b[1;32m~\\Anaconda3\\envs\\tf_scikit\\lib\\site-packages\\sklearn\\preprocessing\\_encoders.py\u001b[0m in \u001b[0;36mtransform\u001b[1;34m(self, X)\u001b[0m\n\u001b[0;32m    730\u001b[0m                                        copy=True)\n\u001b[0;32m    731\u001b[0m         \u001b[1;32melse\u001b[0m\u001b[1;33m:\u001b[0m\u001b[1;33m\u001b[0m\u001b[1;33m\u001b[0m\u001b[0m\n\u001b[1;32m--> 732\u001b[1;33m             \u001b[1;32mreturn\u001b[0m \u001b[0mself\u001b[0m\u001b[1;33m.\u001b[0m\u001b[0m_transform_new\u001b[0m\u001b[1;33m(\u001b[0m\u001b[0mX\u001b[0m\u001b[1;33m)\u001b[0m\u001b[1;33m\u001b[0m\u001b[1;33m\u001b[0m\u001b[0m\n\u001b[0m\u001b[0;32m    733\u001b[0m \u001b[1;33m\u001b[0m\u001b[0m\n\u001b[0;32m    734\u001b[0m     \u001b[1;32mdef\u001b[0m \u001b[0minverse_transform\u001b[0m\u001b[1;33m(\u001b[0m\u001b[0mself\u001b[0m\u001b[1;33m,\u001b[0m \u001b[0mX\u001b[0m\u001b[1;33m)\u001b[0m\u001b[1;33m:\u001b[0m\u001b[1;33m\u001b[0m\u001b[1;33m\u001b[0m\u001b[0m\n",
      "\u001b[1;32m~\\Anaconda3\\envs\\tf_scikit\\lib\\site-packages\\sklearn\\preprocessing\\_encoders.py\u001b[0m in \u001b[0;36m_transform_new\u001b[1;34m(self, X)\u001b[0m\n\u001b[0;32m    678\u001b[0m         \u001b[1;34m\"\"\"New implementation assuming categorical input\"\"\"\u001b[0m\u001b[1;33m\u001b[0m\u001b[1;33m\u001b[0m\u001b[0m\n\u001b[0;32m    679\u001b[0m         \u001b[1;31m# validation of X happens in _check_X called by _transform\u001b[0m\u001b[1;33m\u001b[0m\u001b[1;33m\u001b[0m\u001b[1;33m\u001b[0m\u001b[0m\n\u001b[1;32m--> 680\u001b[1;33m         \u001b[0mX_int\u001b[0m\u001b[1;33m,\u001b[0m \u001b[0mX_mask\u001b[0m \u001b[1;33m=\u001b[0m \u001b[0mself\u001b[0m\u001b[1;33m.\u001b[0m\u001b[0m_transform\u001b[0m\u001b[1;33m(\u001b[0m\u001b[0mX\u001b[0m\u001b[1;33m,\u001b[0m \u001b[0mhandle_unknown\u001b[0m\u001b[1;33m=\u001b[0m\u001b[0mself\u001b[0m\u001b[1;33m.\u001b[0m\u001b[0mhandle_unknown\u001b[0m\u001b[1;33m)\u001b[0m\u001b[1;33m\u001b[0m\u001b[1;33m\u001b[0m\u001b[0m\n\u001b[0m\u001b[0;32m    681\u001b[0m \u001b[1;33m\u001b[0m\u001b[0m\n\u001b[0;32m    682\u001b[0m         \u001b[0mn_samples\u001b[0m\u001b[1;33m,\u001b[0m \u001b[0mn_features\u001b[0m \u001b[1;33m=\u001b[0m \u001b[0mX_int\u001b[0m\u001b[1;33m.\u001b[0m\u001b[0mshape\u001b[0m\u001b[1;33m\u001b[0m\u001b[1;33m\u001b[0m\u001b[0m\n",
      "\u001b[1;32m~\\Anaconda3\\envs\\tf_scikit\\lib\\site-packages\\sklearn\\preprocessing\\_encoders.py\u001b[0m in \u001b[0;36m_transform\u001b[1;34m(self, X, handle_unknown)\u001b[0m\n\u001b[0;32m    120\u001b[0m                     msg = (\"Found unknown categories {0} in column {1}\"\n\u001b[0;32m    121\u001b[0m                            \" during transform\".format(diff, i))\n\u001b[1;32m--> 122\u001b[1;33m                     \u001b[1;32mraise\u001b[0m \u001b[0mValueError\u001b[0m\u001b[1;33m(\u001b[0m\u001b[0mmsg\u001b[0m\u001b[1;33m)\u001b[0m\u001b[1;33m\u001b[0m\u001b[1;33m\u001b[0m\u001b[0m\n\u001b[0m\u001b[0;32m    123\u001b[0m                 \u001b[1;32melse\u001b[0m\u001b[1;33m:\u001b[0m\u001b[1;33m\u001b[0m\u001b[1;33m\u001b[0m\u001b[0m\n\u001b[0;32m    124\u001b[0m                     \u001b[1;31m# Set the problematic rows to an acceptable value and\u001b[0m\u001b[1;33m\u001b[0m\u001b[1;33m\u001b[0m\u001b[1;33m\u001b[0m\u001b[0m\n",
      "\u001b[1;31mValueError\u001b[0m: Found unknown categories ['LG-H872', 'Pixel 2 XL Build/PPR2.180905.005', 'LLD-L31', 'SM-J327T', '8050G', '5049W', 'SM-G950', 'TRT-L53', 'BLL-L22', 'FP1U', '5080X', 'ATU-L11', 'LM-X210', 'KFKAWI', 'SM-J727R4', 'Zebra', 'CMR-W19', 'RCT6873W42M_F7', 'BLL-L23', 'SM-J400F', 'G3312', 'Moto E (4) Plus Build/NMA26.42-162', 'Mi A1 Build/OPM1.171019.026', 'hi6250 Build/MRA58K', 'SM-J530L', 'moto g(6) play Build/OPP27.91-87', 'H3223 Build/50.1.A.10.40', 'FRD-L09', 'GT-I9301I', 'LG-D852G', 'SM-J500F', 'aura', 'Z981', 'ZTE BLADE A0620 Build/NMF26F', 'BBF100-2', 'SM-N9600 Build/M1AJQ', 'BLADE V9', 'E5663', 'verykools5702', 'SM-G532M', 'CLT-L29 Build/HUAWEICLT-L29', 'SM-G935F', '5052Y', 'TA-1028', 'SM-N900', 'BLADE A602', 'VIE-L29', 'SAMSUNG SM-J330FN Build/NRD90M', 'PSPCM20A0', 'T09', '4027A', 'Pixel 2', 'XT1635-02 Build/OPNS27.76-12-22-9', 'Pixel 2 Build/PPR1.180610.009', 'POCOPHONE', 'BLADE L7', 'SM-N960U', 'SM-G920R7', 'Bluboo', 'Orange_Rise_33', '6045O', 'SM-G550T1', 'SM-A700K', 'HTC Desire 10 lifestyle', 'LG-H500', 'SM-J120H', 'ASUS_X00LDA', 'COL-L29', 'BND-L21', 'HUAWEI G7-L03', 'LG-H840', 'Moto G (5) Build/NPPS25.137-93-12', 'SM-G930V Build/R16NW', 'SM-G9500', 'SAMSUNG-SM-N915A Build/KTU84P', 'SM-J530GM', 'LG-V400', 'MI 4W Build/MMB29M', '7040N', 'ANE-LX1', 'SM-T387V', 'S9+', 'Neffos', 'GT-I9060M', 'SM-J111M', 'SM-G925F', 'SM-A530F', 'Lenovo PB2-650Y', 'SM-A530W', 'SM-G9650', 'LG-G710', 'SM-G531H', 'FRD-L19', 'EVA-L19', 'DUO', 'SM-G930F', 'SM-J320FN', 'HUAWEI VNS-L31', 'moto g(6) Build/OPSS27.82-87-3', 'ONEPLUS A3003 Build/OPR1.170623.032', 'SM-J810M Build/R16NW', 'SM-N950F', 'SM-G903F', 'moto e5 plus', 'SM-A510M', 'EML-L29', 'E5306 Build/27.1.A.1.81', 'LM-X210CM', '4047A', 'SM-J701F', 'SAMSUNG SM-G930P Build/R16NW', 'SAMSUNG SM-P900 Build/LRX22G', 'LM-X212(G', 'SM-G360P', 'moto e5 play Build/OCPS27.91-51-3-3', 'VK410', 'moto z3', 'Gravity', 'SAMSUNG-SM-G530A', 'N5702L', 'LG-X240', 'FIG-LX1', 'FRD-L04', 'LLD-L21', 'Pixel XL', 'LGUS110', 'BKL-L09', 'A1_PRO', 'moto g(6)', 'SM-J337A', 'H3311', 'LGL82VL', 'SAMSUNG-SM-T337A', 'SM-J327W', 'a500', 'SAMSUNG-SM-J320A', 'Lenovo P2a42', 'RCT6303W87M7', 'CUBOT_X18_Plus', 'BLA-A09', 'SM-T385M', 'LGMS330', 'Ilium L1120', 'ONIX', 'SAMSUNG SM-T820 Build/R16NW', 'SM-J327U', 'Phone', 'LG-K500', 'KFDOWI', 'KFTHWI', 'SM-T560NU', 'HS20502-16', 'SAMSUNG SM-N960U Build/M1AJQ', 'SM-J737T', 'LG-H930', 'Nexus 5', '5026A Build/NRD90M', 'Astro', '5086A', 'N9517', 'LG-V530', 'LG-H811', 'XT1053', 'SM-G935F Build/R16NW', 'SM-N920C', 'VS986', 'moto x4 Build/OPWS27.57-40-17', 'D5303', 'G3313 Build/43.0.A.7.55', 'SAMSUNG SM-G935F Build/R16NW', 'SAMSUNG SM-G610M Build/M1AJQ', 'Moto E (4) Plus Build/NMA26.42-167', '5080A', 'SM-G850F', 'E6883', 'ZTE-Z999', 'BBB100-1 Build/OPM1.171019.026', 'ZTE BLADE A6', 'Pixel 2 Build/PPR2.180905.005', 'weimei_we', 'SM-A600FN', 'LGLS775', 'LG-D415', 'LG-H542', 'S8', 'SM-J737P', 'SM-J337V', 'SM-N910C', 'Nokia', 'E5306 Build/27.3.A.0.173', 'EV05', 'BLADE V8 SE', 'LM-V350', 'WAS-LX3', 'CHC-U03', 'B1-850', 'Nexus 5X Build/N2G48C', 'CMR-AL09', 'SM-J510H', 'Moto G (5) Build/OPP28.85-13', 'Nexus 6P', 'MYA-L03', 'SM-P555M', 'SAMSUNG SM-G532F Build/MMB29T', 'SM-G600S', 'BLA-A09 Build/HUAWEIBLA-A09', 'SM-N910T', 'SM-G935P', 'A10', 'VS501', 'QMV7B', 'moto g(6) play', 'VTR-L09', 'SM-A320FL Build/R16NW', 'HUAWEI RIO-L03', 'SM-G532G', 'rv:65.0', 'SAMSUNG-SM-G870A Build/LRX21T', 'SM-G930U Build/R16NW', 'SM-T320', 'Max10', 'S60', 'LG-H870DS Build/OPR1.170623.032', 'R7plusf', 'Moto G (4) Build/NPJS25.93-14.7-8', 'U2', 'F3111', 'SM-G610M Build/M1AJQ', 'SM-J700M', 'CPU', 'SM-J200G Build/LMY47X', 'Note8', 'Hisense F8 MINI', 'SM-A750G', 'CLT-L29', 'SAMSUNG SM-N950F Build/R16NW', 'D2206', 'Alumini_3_Plus', 'C2105', 'SAMSUNG SM-G935T Build/R16NW', 'LG-X180g', 'SM-G920F', 'Moto G (5)', 'Z916BL', 'SM-J327V', 'Life', 'RNE-L22', 'Moto Z2 Play Build/OPS27.76-12-25', 'SM-N910V', 'LG-K540', 'SM-N960F', 'SM-T837V', 'ASUS_A007', 'D5803', 'AGS-W09', 'FLA-LX3 Build/HUAWEIFLA-LX3', 'ASUS_Z012DC', 'SM-T713', 'ALP-L09', 'Lenovo PB2-670Y', 'SM-J120FN', 'G8441', 'K011 Build/KOT49H', 'HTL23', 'LG-TP260', '9003A', 'S60 Lite Build/NRD90M', 'LG-D325', 'Moto G (5) Build/OPPS28.85-13-2', 'ZTE BLADE V8 MINI', 'Nokia 6.1 Build/OPR1.170623.026', 'SM-N960W', 'Lenovo K33b36', 'SM-J727T1', 'SM-N900W8', 'SM-J500M', 'SM-G960U1', 'G3223 Build/48.1.A.2.50', 'BLADE', 'LM-Q710.FG', 'CAM-L03', 'SM-T360', 'Redmi Note 5A', 'SAMSUNG-SM-J727A', 'A37fw', 'Aquaris_M4.5', 'Moto E (4) Build/NMA26.42-157', 'SM-J320F', 'LM-X210 Build/N2G47H', 'BLN-L21', 'SM-G892U', 'Pixel XL Build/PPR2.181005.003', 'SGP621', 'SM-T560', 'moto e5 Build/OPP27.91-25', 'i50F Build/NRD90M', 'VS995', 'moto x4', 'Hisense U963', 'SM-J701M', 'SM-A310F', 'SAMSUNG SM-A605GN Build/R16NW', 'IM6', 'SAMSUNG SM-A520F Build/R16NW', 'SM-G930W8', 'SM-T378V', 'SM-P350', 'SAMSUNG-SM-G930A Build/R16NW', 'SM-G935V Build/R16NW', 'moto e5 play Build/OPG28.54-19', 'N1', 'P5525A', 'ATU-LX3 Build/HUAWEIATU-LX3', 'BLADE A520', 'SM-G357FZ', 'SM-G930T Build/R16NW', 'SM-G930F Build/R16NW', 'SM-A300FU', 'INFINIT_1', 'RIM', 'Galaxy', 'LG-X150', 'Azumi_IRO_A5_Q', 'SM-T817V', 'SM-S737TL', 'SM-S337TL', 'SM-G930U', 'rv:62.0', 'Infinit_X_CAM', 'PRA-LX1', 'TA-1021 Build/OPR1.170623.026', 'LLD-L31 Build/HONORLLD-L31', 'Lenovo A2016b30', 'LG-D690', 'BLA-AL00', 'K014', 'M5', 'Moto G Play', 'SM-A520W Build/R16NW', 'SAMSUNG-SM-J327A', 'SM-J701MT', 'SM-G900H', 'LGL158VL', 'A462C', 'SM-J727T', 'hi6210sft', 'Lifesize', 'SM-G960N', 'LGMS210', 'Redmi 6A', 'ZTE-K88', 'SAMSUNG SM-J610G Build/M1AJQ', 'Pixel 2 XL Build/PPR2.181005.003', 'HK-914581', 'CPH1835 Build/O11019', 'LG-M430', 'A7', 'AGS-L03', 'Ilium X510', 'SM-T357W', 'AX681', '5099A', '9024W', 'TA-1039 Build/OPR1.170623.026', 'iris', 'ONEPLUS A5000', 'ENERGY', 'Blade V6', 'FIG-LX1 Build/HUAWEIFIG-LX1', '5058A', 'moto g(6) plus Build/OPWS27.113-25-4', 'SM-G928T', 'moto g(6) plus', 'LG-H955', 'LG-H650', 'TU20402-58', 'Hisense L675', 'SM-J337T', 'EML-L09', 'rv:60.1.0', 'LM-X410PM', 'SM-T113NU', 'ASUS_A006', 'G3313 Build/43.0.A.7.70', 'SM-A605GN', 'moto e5 play', 'SM-N915T', 'Moto E (4) Plus', 'ANE-LX2', 'SM-G955U', '5010G', 'ALCATELONETOUCH', 'SM-A320FL', 'LG-H910', '2014819', 'SM-A530F Build/R16NW', 'LG-H634', 'JKM-LX3', 'LG-D805', 'LG-X210', 'GT-I9505', 'AW790', 'Infinity', 'KFASWI', '6016A', 'LG-X220', 'ASUS_X008DC', 'Redmi Note 3', 'C6506', 'LG-M400', 'SM-J260M', 'EML-L09 Build/HUAWEIEML-L09', 'LGLS676', 'rv:27.0', 'SM-J400M', 'LDN-L21', 'Hisense T963', 'SM-G930R4 Build/R16NW', 'Infinit MX Build/NRD90M', 'moto g(6) plus Build/OPW27.113-89', 'HTC 10', 'SM-J737P Build/R16NW', 'SAMSUNG SM-A530F Build/NMF26X', 'LG-M327', '8082', 'Ilium X520', 'SM-A605GN Build/R16NW', 'Redmi 5 Plus', 'SM-J730GM', 'P10', 'Moto Z2 Play Build/OPSS27.76-12-25-7', 'breeze', 'gxq6580_weg_l', 'MYA-L13', 'LGMP450', '5033A', 'GT-I8190L', 'RCT6103W46', 'Nokia_X', 'LG-K200', 'LG-M151', 'ASUS_X00PD', 'C6506 Build/10.7.A.0.222', 'SM-G800F', 'GT-I9195 Build/KOT49H', 'moto e5', 'ATU-L21', 'RIDGE', 'LG-K580', 'TR10RS1', 'XT1572', 'AGS-L09', 'RNE-L23', 'T1-A21w', 'moto g(6) play Build/OPP27.91-140', 'SAMSUNG SM-J600G Build/R16NW', 'moto e5 play Build/OPGS28.54-19-2', 'motorola one', 'LM-Q710.FGN', 'Q01A', 'PAR-LX9', 'SAMSUNG SM-J510FN Build/NMF26X', 'SM-G800M', 'Z818L', 'moto e5 Build/OPP27.91-146', 'SM-C5010', '5025G', 'SM-J737V', 'BV6000S', 'HTC Desire 626s', 'SH-01K', 'LG-K520', 'SM-G355M', 'SM-G900F', 'SM-G925V', 'D5503 Build/14.6.A.0.368', '5049Z', 'LGMP260', 'MXG401', 'HTC One A9s', 'Moto G Play Build/NPIS26.48-43-2', 'LM-Q610(FGN', 'R505', 'Max10 Build/LMY47I', 'Armor', 'G3223 Build/48.1.A.2.21', 'RCT6973W43MD', 'Neffos_C9A', 'Z851M', 'Ilium M3 Build/NRD90M', 'M4 SS4458', 'Redmi 4X', '5099A Build/O00623', 'Moto Z2 Play Build/OPSS27.76-12-25-3', 'Mi A1', 'PRA-LX3', 'Alcatel_5044R', 'LGL157BL', 'HUAWEI VNS-L23', 'DIG-L03', 'SGH-T999L', 'SM-T530NU', 'SM-N900P', 'E6782', 'CAM-L21', 'moto g(6) Build/OPS27.82-87', 'LG-M250', 'SM-G930VC', '5085B', 'BLA-L09', '7048X', 'ASUS_Z017DC', 'LG-K410', 'VKY-L09', 'LYA-L09', 'Redmi 5A Build/N2G47H', 'SM-J700T', 'Hisense F23', 'Pixel 2 XL Build/OPM2.171026.006.H1', 'SAMSUNG SM-T377W Build/NMF26X', 'FLA-LX3', 'HTC One M9PLUS', 'ASUS_Z00XS', 'SM-G955U1', 'SM-G960F', 'Moto G (5) Plus Build/NPNS25.137-93-14', 'XT1562 Build/MPDS24.107-52-11', 'SAMSUNG SM-J810M Build/R16NW', 'GHIA_AXIS7', 'SM-N920G', 'SM-G900M', 'A50LT', 'Redmi Note 6 Pro', 'SGP512', 'AUM-L29', 'G8231', 'Fedora', 'Moto Z2 Play', 'LM-X410.F', 'VORAGO', 'LG-K240', 'SM-A600T1', 'SHV39', 'SM-N960U Build/M1AJQ', 'SM-G960W', 'ONEPLUS A5000 Build/OPM1.171019.011', 'SAMSUNG SM-T580 Build/M1AJQ', 'KYOCERA-C6742', 'SM-G925T', 'BLA-L29 Build/HUAWEIBLA-L29S', 'Alcatel_5098O', 'F3216', 'ASUS_Z01HD', 'SM-J327T1', 'Nexus 5X Build/OPM7.181005.003', 'SNE-LX3', 'SM-G900T', 'G24027K', 'LG-LS777', 'H8216', 'HUAWEI Y560-L03', 'Blade L2 Plus', 'Alpha 950', 'ASUS_A009', 'RCT6873W42M', 'K81', 'SM-G955N', 'SAMSUNG-SM-G891A Build/R16NW', 'Pixel 3', 'SM-S367VL', '4047G', 'SM-A5100', '5026A', 'SAMSUNG SM-G930F Build/R16NW', 'Moto G (5) Plus Build/NPNS25.137-92-14', 'SM-J330FN', 'Moto E (4) Build/NMA26.42-167', 'ALE-L21', 'Blade V6 Plus', 'rv:26.0', 'SM-G611F', 'LG-K120', 'SM-A500M', 'ONEPLUS A3010', 'motorola', 'SAMSUNG SM-G930T Build/R16NW', 'SM-N9200', 'moto g(6) plus Build/OPWS27.113-89-2', 'D6653', 'SM-N9600', 'LG-UK495', 'SM-P905V', 'Infinit_Lite_2', 'LM-X410(FG', 'LG-H918', 'M4_B2', 'SM-J320V', 'rv:28.0', 'HTC One', 'GT-S6810M', 'LG-K530', 'KFFOWI', 'rv:64.0', 'SM-T217T', 'DLI-L22', 'E2306', 'SM-J510MN', 'MHA-L29', 'ONEPLUS A6003 Build/PKQ1.180716.001', 'SO-02H', 'KFGIWI', 'Moto C', 'SAMSUNG SM-A530F Build/R16NW', 'SM-G935S', 'DRA-L21', 'LG-D120 Build/KOT49I.V10a', 'SM-G570M', 'SAMSUNG SM-G935A Build/R16NW', 'BAC-L03', 'SM-G570M Build/R16NW', 'SM-G930P Build/R16NW', 'SAMSUNG-SM-J321AZ', 'LG-H860', 'CRO-L03', 'GHIA_AXIS7P', 'N9519', 'GT-I9300I', 'M4 SS4456', 'ALE-L02', 'SM-T677V', 'SM-G965F', '5015A', 'iPhone 6plus', 'ANE-LX3', 'SM-G965U1', 'KYOCERA-C6742A', 'NX591J', 'SAMSUNG SM-N910F/N910FXXU1DQL2 Build/MMB29M', 'BLADE V9 Build/OPR1.170623.032', 'HUAWEI TAG-L13', 'SM-G9600', 'Z9', 'FIG-LX3', 'Pixel 2 Build/OPM2.171026.006.G1', 'EVA-L09', 'LG-H931 Build/OPR1.170623.026', 'LM-G710VM', 'SM-N950U', 'LG-M210', 'ONEPLUS A6013', 'ANE-LX1 Build/HUAWEIANE-LX1', 'es-es', '6036A Build/JLS36C', 'SM-J530F', 'Miracle', 'NX16A11264', 'LG-M153', 'carbon_harpia', 'Mi A2 Lite', 'G8141 Build/47.1.A.12.270', 'SM-G950U', '5054S', 'Alcatel_6060C', 'SAMSUNG SM-J510MN Build/NMF26X', '5011A', 'SM-J415G', 'SAMSUNG SM-G960F Build/R16NW', 'DRA-LX3 Build/HUAWEIDRA-LX3', 'P5047A', 'G3112', 'LGL59BL', 'SM-G357M', 'Pixel Build/OPM4.171019.021.P1', 'Neffos X1 Max', 'SM-A720F', 'LG-M703', 'Z956', 'SM-N7505', 'E6910', 'ROCKET', 'LGL84VL', 'Moto G (4) Build/NPJS25.93-14-8.1-9', 'Rex Build/MRA58K', 'SAMSUNG SM-A520W Build/NRD90M', 'BAH-L09', 'Nexus 5X', 'SM-T110', 'LG-M710', 'moto g(6) Build/OPS27.82-72', 'HMA-L09', 'Azumi_DOSHI_A55_QL', 'ONEPLUS A3000', 'SM-N920I', 'SM-T337T', 'WAS-LX1A', 'SM-T820', 'SM-G950N', 'BLA-L29', 'LG-M700', 'Redmi 6', 'Pixel 2 XL', 'BLADE A6 MAX Build/N2G47H', 'C5', 'GT-I9060L', 'SM-J727U', 'Android 8.0.0', 'PSPCL20A0', 'SM-T805 Build/MMB29K', 'SM-G316M', 'KFAPWI', 'XT1562', 'SAMSUNG SM-J737P Build/R16NW', '5056A', 'SAMSUNG SM-G960U1 Build/R16NW', 'SM-J700H', 'Z957', 'F3116', 'Shift', 'rv:36.0', 'XT1585', 'SAMSUNG SM-J737T Build/R16NW', 'LG-H870DS', 'SM-J320M', 'LGMS550', 'Shock', 'LG-K425', 'Z982', 'moto g(6) Build/OPS27.82-41', 'LAVA_R1', 'C6902', 'NATIVO Build/NRD90M', 'Lumia', 'L-03K', 'A10 Pro Build/LMY47I', 'N9137', 'Moto G (4)', 'Neffos_C7', 'LG-H700', 'XT1635-02 Build/OPNS27.76-12-22-3', 'SM-J710MN', 'P002', 'Tank', 'ASUS_X00AD', 'G3412', 'LG-H631MX', 'rv:21.0', 'TRT-LX2', 'verykool_s5516', 'ONEPLUS A3003', 'SM-G950F', 'SM-J720F', 'RCT6513W87', 'Pixel 2 Build/OPM2.171026.006.C1', 'SM-J810Y', 'KFARWI', 'SM-T900', 'G8232', 'moto e5 cruise', 'SM-T597V', '7048A', 'VS988', 'SM-J600G Build/R16NW', 'LG-M700 Build/OPM1.171019.026', 'VIE-L09', 'SM-T813', 'LG-K557 Build/MXB48T', 'LenovoA3300-GV', 'verykools5036', 'Redmi Note 3 Build/NMF26Q', 'LG-H870', 'Moto X Play', 'Slate', 'MI MAX 3', 'Redmi 4A', 'ALE-L23', 'LG-M320', 'SM-S727VL', 'MB520', 'SHIFT4.2', 'P00I', 'Che2-L23', 'Pixel 2 Build/PPR2.181005.003', 'SM-J727V', 'MotoG3 Build/MPIS24.65-33.1-2-10', 'SAMSUNG-SM-G891A', 'ONEPLUS A5010', 'SM-T700', 'Gini s5Pro Build/NRD90M', 'SM-G386F', 'SM-G925P', 'SAMSUNG SM-J400M Build/R16NW', 'LG-TP450', 'UNIQ', 'SM-A520F', 'TechPad_10Y', 'Blade V580', 'P5526A', 'NEM-L51', 'SM-T350', 'SM-G892U Build/R16NW', 'CPH1725', 'PRA-LX2', 'GLAM', 'Mi A2', 'SM-J810M', 'HTC 10 Build/OPR1.170623.027', 'SM-A510F', 'KFAUWI', 'moto x4 Build/OPWS27.57-40-22', 'SAMSUNG-SM-G530AZ', 'LG-LS993', 'moto g(6) play Build/OPP27.91-143', 'LM-G710', 'SM-A730F', 'LG-V410/V41020e', 'SM-A320F', 'SM-G930VL', 'ASUS_X00HD', 'HTC Desire 650', 'arc', 'Lenovo TB-7104F Build/O11019', 'SM-J600G', 'SM-J106B', 'LG-Q710AL', 'VKY-L29', 'SM-T280', 'rv:63.0', 'SM-J105B', 'Q05A', 'SM-G960U', 'SCH-I545', 'KEMPLER_TV', 'Moto E (4)', 'CLT-L04 Build/HUAWEICLT-L04', 'MHA-L09', '4009A', 'Moto G (5) Plus Build/OPS28.85-13', 'Moto Z3 Play Build/OPW28.70-22', 'SAMSUNG SM-N950N Build/R16NW', 'SAMSUNG SM-G930A Build/R16NW', 'LG-H990', 'SM-N960U1', 'AX921', 'SM-J600GT', 'MIX Build/OPR1.170623.032', '6043A', 'DRA-LX3', 'Hisense Hi 3 Build/NRD90M', 'LM-Q610.FG', 'ATU-LX3', 'SLA-L03', 'U972', 'MotoE2', 'SM-G900T Build/LMY47X', 'M4 SS4457', 'SM-J327VPP', 'LG-K220', '6062W', 'SAMSUNG-SM-G920A', 'moto e5 plus Build/OPP27.91-122', 'BAH-W09', 'LG-X230', 'SGP311', 'Power_2', 'HUAWEI CUN-L03', 'RAINBOW', 'verykoolS5027', '5059A', 'G3121', 'SM-T827V', 'SAMSUNG SM-G900M Build/MMB29M', 'ASUS_Z01MD', 'ONEPLUS A6003', 'LGL164VL', 'SM-J200M', 'KFTT', 'Redmi Note 4', 'Z988', 'D2303', 'Polaroid', 'MIX', 'STUDIO', 'LML413DL', 'SM-G930V', 'LG-D280', 'SAMSUNG SM-G390F Build/NRD90M', 'Z730', 'P008', 'SM-J327P', 'Moto Z2 Play Build/NPSS26.118-19-22', '5012G', 'LEX722', 'VS987', 'Moto Z3 Play', 'A502DL', 'SM-J600FN', 'R8006', 'Moto G (5) Build/NPPS25.137-93-14', 'GT-N5120', 'LG-X165g', 'LG-H873 Build/NRD90U', 'SAMSUNG-SM-G928A', 'F5121 Build/34.4.A.2.107', 'SM-G532MT', 'PSPC550', 'KFSUWI', 'SM-P580', 'BLADE V8Q', 'KFTBWI', 'Hisense F20', 'CMR-W09', 'G3121 Build/48.1.A.2.21', 'G3123 Build/48.1.A.2.21', 'G3311', 'SM-G935T Build/R16NW', 'LG-D631', 'M4 SS4458-R', 'E5603', 'LG-D852', 'BGO-DL09', 'BND-L24', 'H8314', 'NX551J', 'SM-T710', '8080', 'Hisense F24', '5041C', 'ALP-L29', '2PS64', 'Z899VL', 'Moto E (4) Build/NDQ26.69-64-9', 'SM-N900V', 'Moto G (5) Plus', 'M4 SS4453', 'SAMSUNG SM-A320FL Build/R16NW', 'Moto G (5) Plus Build/OPSS28.85-13-3', 'A622GL', 'SM-J400M Build/R16NW', '8_Plus', 'CPH1835', 'RCT6B03W13', 'RNE-L03', 'LG-LS997', 'RNE-L21', 'VS988 Build/OPR1.170623.032', 'moto e5 Build/OPP27.91-72', 'INE-LX2 Build/HUAWEIINE-LX2', 'FunWebProducts', 'GT-I9060I', 'BLN-L24', 'Tab8', 'PIC-LX9', 'LG-K430', 'Redmi S2', 'SM-J250F', 'ULTRA', 'LG-H873', 'LG-H831', 'hi6250', 'SM-G965U', 'Moto G (5) Plus Build/NPN25.137-35', 'N9560', 'LDN-LX3', 'M4_B3', 'SM-G610M', 'LG-LS997 Build/OPR1.170623.032', 'GT-N8013', 'Redmi 5 Plus Build/OPM1.171019.019', 'LM-Q850', 'Nokia 2 Build/NMF26F', 'SL729', 'VS990', 'SM-J710F', 'SM-N920F', 'Energy', 'LM-Q710(FGN', 'SM-G935R4', 'Pixel XL Build/OPM4.171019.021.P1', 'SC-03K', 'SM-A920F', 'SM-G900F Build/NJH47F', 'H3223', 'Moto C Plus', 'SM-G530H', 'TA-1033', 'Ilium X710', 'CLT-L04', 'G3123 Build/48.1.A.2.50', 'ASUS_A002A', 'SM-G950U1', 'SM-G930R4', '5044T', 'SM-N950U1', 'VF-895N', 'XT1650 Build/OCLS27.76-69-6', 'TA-1039', 'LG-US998', 'Pixel 3 XL', 'LG-K210', 'F3112', 'LM-V405', 'HTC Desire 530', 'H3123', 'Y635-L03', '5085A', 'SM-G930W8 Build/R16NW', 'SM-J610G', 'Redmi Note 5', 'HUAWEI VNS-L53', 'Redmi Note 5 Build/OPM1.171019.011', 'ZEI403', 'SM-J730G', 'SM-J250M'] in column 16 during transform"
     ]
    }
   ],
   "source": [
    "# transform the test data to the pipeline \n",
    "\n",
    "X_test_tr = full_pipeline.transform(test)"
   ]
  },
  {
   "cell_type": "code",
   "execution_count": null,
   "metadata": {},
   "outputs": [],
   "source": []
  }
 ]
}