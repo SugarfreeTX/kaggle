{
 "metadata": {
  "language_info": {
   "codemirror_mode": {
    "name": "ipython",
    "version": 3
   },
   "file_extension": ".py",
   "mimetype": "text/x-python",
   "name": "python",
   "nbconvert_exporter": "python",
   "pygments_lexer": "ipython3",
   "version": "3.7.3"
  },
  "orig_nbformat": 2,
  "kernelspec": {
   "name": "python373jvsc74a57bd0f0c7d524dfacda734fd50009d57013c7a811b3c8ec235c8d3089710534b712e6",
   "display_name": "Python 3.7.3 64-bit ('tf_scikit': conda)"
  }
 },
 "nbformat": 4,
 "nbformat_minor": 2,
 "cells": [
  {
   "source": [
    "# IEEE-CIS fraud Detection (Kaggle)"
   ],
   "cell_type": "markdown",
   "metadata": {}
  },
  {
   "cell_type": "code",
   "execution_count": 1,
   "metadata": {},
   "outputs": [],
   "source": [
    "train_id = 'D:/Datasets/fraud_detection/train_identity.csv'\n",
    "train_tran = 'D:/Datasets/fraud_detection/train_transaction.csv' "
   ]
  },
  {
   "cell_type": "code",
   "execution_count": 2,
   "metadata": {},
   "outputs": [
    {
     "output_type": "stream",
     "name": "stdout",
     "text": [
      "   TransactionID  id_01     id_02  id_03  id_04  id_05  id_06  id_07  id_08  \\\n0        2987004    0.0   70787.0    NaN    NaN    NaN    NaN    NaN    NaN   \n1        2987008   -5.0   98945.0    NaN    NaN    0.0   -5.0    NaN    NaN   \n2        2987010   -5.0  191631.0    0.0    0.0    0.0    0.0    NaN    NaN   \n3        2987011   -5.0  221832.0    NaN    NaN    0.0   -6.0    NaN    NaN   \n4        2987016    0.0    7460.0    0.0    0.0    1.0    0.0    NaN    NaN   \n\n   id_09  ...                id_31  id_32      id_33           id_34  id_35  \\\n0    NaN  ...  samsung browser 6.2   32.0  2220x1080  match_status:2      T   \n1    NaN  ...   mobile safari 11.0   32.0   1334x750  match_status:1      T   \n2    0.0  ...          chrome 62.0    NaN        NaN             NaN      F   \n3    NaN  ...          chrome 62.0    NaN        NaN             NaN      F   \n4    0.0  ...          chrome 62.0   24.0   1280x800  match_status:2      T   \n\n  id_36 id_37  id_38  DeviceType                     DeviceInfo  \n0     F     T      T      mobile  SAMSUNG SM-G892A Build/NRD90M  \n1     F     F      T      mobile                     iOS Device  \n2     F     T      T     desktop                        Windows  \n3     F     T      T     desktop                            NaN  \n4     F     T      T     desktop                          MacOS  \n\n[5 rows x 41 columns]\n   TransactionID  isFraud  TransactionDT  TransactionAmt ProductCD  card1  \\\n0        2987000        0          86400            68.5         W  13926   \n1        2987001        0          86401            29.0         W   2755   \n2        2987002        0          86469            59.0         W   4663   \n3        2987003        0          86499            50.0         W  18132   \n4        2987004        0          86506            50.0         H   4497   \n\n   card2  card3       card4  card5  ... V330  V331  V332  V333  V334 V335  \\\n0    NaN  150.0    discover  142.0  ...  NaN   NaN   NaN   NaN   NaN  NaN   \n1  404.0  150.0  mastercard  102.0  ...  NaN   NaN   NaN   NaN   NaN  NaN   \n2  490.0  150.0        visa  166.0  ...  NaN   NaN   NaN   NaN   NaN  NaN   \n3  567.0  150.0  mastercard  117.0  ...  NaN   NaN   NaN   NaN   NaN  NaN   \n4  514.0  150.0  mastercard  102.0  ...  0.0   0.0   0.0   0.0   0.0  0.0   \n\n  V336  V337  V338  V339  \n0  NaN   NaN   NaN   NaN  \n1  NaN   NaN   NaN   NaN  \n2  NaN   NaN   NaN   NaN  \n3  NaN   NaN   NaN   NaN  \n4  0.0   0.0   0.0   0.0  \n\n[5 rows x 394 columns]\n"
     ]
    }
   ],
   "source": [
    "import pandas as pd \n",
    "import numpy as np \n",
    "import matplotlib.pyplot as plt \n",
    "\n",
    "train_ids = pd.read_csv(train_id)\n",
    "train_trans = pd.read_csv(train_tran)\n",
    "\n",
    "print(train_ids.head())\n",
    "print(train_trans.head())"
   ]
  },
  {
   "cell_type": "code",
   "execution_count": 3,
   "metadata": {},
   "outputs": [
    {
     "output_type": "stream",
     "name": "stdout",
     "text": [
      "<class 'pandas.core.frame.DataFrame'>\n",
      "RangeIndex: 144233 entries, 0 to 144232\n",
      "Data columns (total 41 columns):\n",
      "TransactionID    144233 non-null int64\n",
      "id_01            144233 non-null float64\n",
      "id_02            140872 non-null float64\n",
      "id_03            66324 non-null float64\n",
      "id_04            66324 non-null float64\n",
      "id_05            136865 non-null float64\n",
      "id_06            136865 non-null float64\n",
      "id_07            5155 non-null float64\n",
      "id_08            5155 non-null float64\n",
      "id_09            74926 non-null float64\n",
      "id_10            74926 non-null float64\n",
      "id_11            140978 non-null float64\n",
      "id_12            144233 non-null object\n",
      "id_13            127320 non-null float64\n",
      "id_14            80044 non-null float64\n",
      "id_15            140985 non-null object\n",
      "id_16            129340 non-null object\n",
      "id_17            139369 non-null float64\n",
      "id_18            45113 non-null float64\n",
      "id_19            139318 non-null float64\n",
      "id_20            139261 non-null float64\n",
      "id_21            5159 non-null float64\n",
      "id_22            5169 non-null float64\n",
      "id_23            5169 non-null object\n",
      "id_24            4747 non-null float64\n",
      "id_25            5132 non-null float64\n",
      "id_26            5163 non-null float64\n",
      "id_27            5169 non-null object\n",
      "id_28            140978 non-null object\n",
      "id_29            140978 non-null object\n",
      "id_30            77565 non-null object\n",
      "id_31            140282 non-null object\n",
      "id_32            77586 non-null float64\n",
      "id_33            73289 non-null object\n",
      "id_34            77805 non-null object\n",
      "id_35            140985 non-null object\n",
      "id_36            140985 non-null object\n",
      "id_37            140985 non-null object\n",
      "id_38            140985 non-null object\n",
      "DeviceType       140810 non-null object\n",
      "DeviceInfo       118666 non-null object\n",
      "dtypes: float64(23), int64(1), object(17)\n",
      "memory usage: 45.1+ MB\n",
      "None\n"
     ]
    }
   ],
   "source": [
    "print(train_ids.info())"
   ]
  },
  {
   "cell_type": "code",
   "execution_count": 4,
   "metadata": {},
   "outputs": [
    {
     "output_type": "stream",
     "name": "stdout",
     "text": [
      "<class 'pandas.core.frame.DataFrame'>\nRangeIndex: 590540 entries, 0 to 590539\nColumns: 394 entries, TransactionID to V339\ndtypes: float64(376), int64(4), object(14)\nmemory usage: 1.7+ GB\nNone\n"
     ]
    }
   ],
   "source": [
    "print(train_trans.info())"
   ]
  },
  {
   "cell_type": "code",
   "execution_count": 5,
   "metadata": {},
   "outputs": [
    {
     "output_type": "execute_result",
     "data": {
      "text/plain": [
       "      id_12  id_15     id_16 id_23 id_27  id_28     id_29             id_30  \\\n",
       "0  NotFound    New  NotFound   NaN   NaN    New  NotFound       Android 7.0   \n",
       "1  NotFound    New  NotFound   NaN   NaN    New  NotFound        iOS 11.1.2   \n",
       "2  NotFound  Found     Found   NaN   NaN  Found     Found               NaN   \n",
       "3  NotFound    New  NotFound   NaN   NaN    New  NotFound               NaN   \n",
       "4  NotFound  Found     Found   NaN   NaN  Found     Found  Mac OS X 10_11_6   \n",
       "\n",
       "                 id_31      id_33           id_34 id_35 id_36 id_37 id_38  \\\n",
       "0  samsung browser 6.2  2220x1080  match_status:2     T     F     T     T   \n",
       "1   mobile safari 11.0   1334x750  match_status:1     T     F     F     T   \n",
       "2          chrome 62.0        NaN             NaN     F     F     T     T   \n",
       "3          chrome 62.0        NaN             NaN     F     F     T     T   \n",
       "4          chrome 62.0   1280x800  match_status:2     T     F     T     T   \n",
       "\n",
       "  DeviceType                     DeviceInfo  \n",
       "0     mobile  SAMSUNG SM-G892A Build/NRD90M  \n",
       "1     mobile                     iOS Device  \n",
       "2    desktop                        Windows  \n",
       "3    desktop                            NaN  \n",
       "4    desktop                          MacOS  "
      ],
      "text/html": "<div>\n<style scoped>\n    .dataframe tbody tr th:only-of-type {\n        vertical-align: middle;\n    }\n\n    .dataframe tbody tr th {\n        vertical-align: top;\n    }\n\n    .dataframe thead th {\n        text-align: right;\n    }\n</style>\n<table border=\"1\" class=\"dataframe\">\n  <thead>\n    <tr style=\"text-align: right;\">\n      <th></th>\n      <th>id_12</th>\n      <th>id_15</th>\n      <th>id_16</th>\n      <th>id_23</th>\n      <th>id_27</th>\n      <th>id_28</th>\n      <th>id_29</th>\n      <th>id_30</th>\n      <th>id_31</th>\n      <th>id_33</th>\n      <th>id_34</th>\n      <th>id_35</th>\n      <th>id_36</th>\n      <th>id_37</th>\n      <th>id_38</th>\n      <th>DeviceType</th>\n      <th>DeviceInfo</th>\n    </tr>\n  </thead>\n  <tbody>\n    <tr>\n      <th>0</th>\n      <td>NotFound</td>\n      <td>New</td>\n      <td>NotFound</td>\n      <td>NaN</td>\n      <td>NaN</td>\n      <td>New</td>\n      <td>NotFound</td>\n      <td>Android 7.0</td>\n      <td>samsung browser 6.2</td>\n      <td>2220x1080</td>\n      <td>match_status:2</td>\n      <td>T</td>\n      <td>F</td>\n      <td>T</td>\n      <td>T</td>\n      <td>mobile</td>\n      <td>SAMSUNG SM-G892A Build/NRD90M</td>\n    </tr>\n    <tr>\n      <th>1</th>\n      <td>NotFound</td>\n      <td>New</td>\n      <td>NotFound</td>\n      <td>NaN</td>\n      <td>NaN</td>\n      <td>New</td>\n      <td>NotFound</td>\n      <td>iOS 11.1.2</td>\n      <td>mobile safari 11.0</td>\n      <td>1334x750</td>\n      <td>match_status:1</td>\n      <td>T</td>\n      <td>F</td>\n      <td>F</td>\n      <td>T</td>\n      <td>mobile</td>\n      <td>iOS Device</td>\n    </tr>\n    <tr>\n      <th>2</th>\n      <td>NotFound</td>\n      <td>Found</td>\n      <td>Found</td>\n      <td>NaN</td>\n      <td>NaN</td>\n      <td>Found</td>\n      <td>Found</td>\n      <td>NaN</td>\n      <td>chrome 62.0</td>\n      <td>NaN</td>\n      <td>NaN</td>\n      <td>F</td>\n      <td>F</td>\n      <td>T</td>\n      <td>T</td>\n      <td>desktop</td>\n      <td>Windows</td>\n    </tr>\n    <tr>\n      <th>3</th>\n      <td>NotFound</td>\n      <td>New</td>\n      <td>NotFound</td>\n      <td>NaN</td>\n      <td>NaN</td>\n      <td>New</td>\n      <td>NotFound</td>\n      <td>NaN</td>\n      <td>chrome 62.0</td>\n      <td>NaN</td>\n      <td>NaN</td>\n      <td>F</td>\n      <td>F</td>\n      <td>T</td>\n      <td>T</td>\n      <td>desktop</td>\n      <td>NaN</td>\n    </tr>\n    <tr>\n      <th>4</th>\n      <td>NotFound</td>\n      <td>Found</td>\n      <td>Found</td>\n      <td>NaN</td>\n      <td>NaN</td>\n      <td>Found</td>\n      <td>Found</td>\n      <td>Mac OS X 10_11_6</td>\n      <td>chrome 62.0</td>\n      <td>1280x800</td>\n      <td>match_status:2</td>\n      <td>T</td>\n      <td>F</td>\n      <td>T</td>\n      <td>T</td>\n      <td>desktop</td>\n      <td>MacOS</td>\n    </tr>\n  </tbody>\n</table>\n</div>"
     },
     "metadata": {},
     "execution_count": 5
    }
   ],
   "source": [
    "# Object columns from train_ids df\n",
    "\n",
    "train_ids.loc[:, train_ids.dtypes == object].head()"
   ]
  },
  {
   "cell_type": "code",
   "execution_count": 6,
   "metadata": {},
   "outputs": [
    {
     "output_type": "execute_result",
     "data": {
      "text/plain": [
       "  ProductCD       card4   card6 P_emaildomain R_emaildomain   M1   M2   M3  \\\n",
       "0         W    discover  credit           NaN           NaN    T    T    T   \n",
       "1         W  mastercard  credit     gmail.com           NaN  NaN  NaN  NaN   \n",
       "2         W        visa   debit   outlook.com           NaN    T    T    T   \n",
       "3         W  mastercard   debit     yahoo.com           NaN  NaN  NaN  NaN   \n",
       "4         H  mastercard  credit     gmail.com           NaN  NaN  NaN  NaN   \n",
       "\n",
       "    M4   M5   M6   M7   M8   M9  \n",
       "0   M2    F    T  NaN  NaN  NaN  \n",
       "1   M0    T    T  NaN  NaN  NaN  \n",
       "2   M0    F    F    F    F    F  \n",
       "3   M0    T    F  NaN  NaN  NaN  \n",
       "4  NaN  NaN  NaN  NaN  NaN  NaN  "
      ],
      "text/html": "<div>\n<style scoped>\n    .dataframe tbody tr th:only-of-type {\n        vertical-align: middle;\n    }\n\n    .dataframe tbody tr th {\n        vertical-align: top;\n    }\n\n    .dataframe thead th {\n        text-align: right;\n    }\n</style>\n<table border=\"1\" class=\"dataframe\">\n  <thead>\n    <tr style=\"text-align: right;\">\n      <th></th>\n      <th>ProductCD</th>\n      <th>card4</th>\n      <th>card6</th>\n      <th>P_emaildomain</th>\n      <th>R_emaildomain</th>\n      <th>M1</th>\n      <th>M2</th>\n      <th>M3</th>\n      <th>M4</th>\n      <th>M5</th>\n      <th>M6</th>\n      <th>M7</th>\n      <th>M8</th>\n      <th>M9</th>\n    </tr>\n  </thead>\n  <tbody>\n    <tr>\n      <th>0</th>\n      <td>W</td>\n      <td>discover</td>\n      <td>credit</td>\n      <td>NaN</td>\n      <td>NaN</td>\n      <td>T</td>\n      <td>T</td>\n      <td>T</td>\n      <td>M2</td>\n      <td>F</td>\n      <td>T</td>\n      <td>NaN</td>\n      <td>NaN</td>\n      <td>NaN</td>\n    </tr>\n    <tr>\n      <th>1</th>\n      <td>W</td>\n      <td>mastercard</td>\n      <td>credit</td>\n      <td>gmail.com</td>\n      <td>NaN</td>\n      <td>NaN</td>\n      <td>NaN</td>\n      <td>NaN</td>\n      <td>M0</td>\n      <td>T</td>\n      <td>T</td>\n      <td>NaN</td>\n      <td>NaN</td>\n      <td>NaN</td>\n    </tr>\n    <tr>\n      <th>2</th>\n      <td>W</td>\n      <td>visa</td>\n      <td>debit</td>\n      <td>outlook.com</td>\n      <td>NaN</td>\n      <td>T</td>\n      <td>T</td>\n      <td>T</td>\n      <td>M0</td>\n      <td>F</td>\n      <td>F</td>\n      <td>F</td>\n      <td>F</td>\n      <td>F</td>\n    </tr>\n    <tr>\n      <th>3</th>\n      <td>W</td>\n      <td>mastercard</td>\n      <td>debit</td>\n      <td>yahoo.com</td>\n      <td>NaN</td>\n      <td>NaN</td>\n      <td>NaN</td>\n      <td>NaN</td>\n      <td>M0</td>\n      <td>T</td>\n      <td>F</td>\n      <td>NaN</td>\n      <td>NaN</td>\n      <td>NaN</td>\n    </tr>\n    <tr>\n      <th>4</th>\n      <td>H</td>\n      <td>mastercard</td>\n      <td>credit</td>\n      <td>gmail.com</td>\n      <td>NaN</td>\n      <td>NaN</td>\n      <td>NaN</td>\n      <td>NaN</td>\n      <td>NaN</td>\n      <td>NaN</td>\n      <td>NaN</td>\n      <td>NaN</td>\n      <td>NaN</td>\n      <td>NaN</td>\n    </tr>\n  </tbody>\n</table>\n</div>"
     },
     "metadata": {},
     "execution_count": 6
    }
   ],
   "source": [
    "# Object columns in train_trans \n",
    "\n",
    "train_trans.loc[:, train_trans.dtypes == object].head()\n"
   ]
  },
  {
   "cell_type": "code",
   "execution_count": 7,
   "metadata": {},
   "outputs": [
    {
     "output_type": "stream",
     "name": "stdout",
     "text": [
      "14 train_trans\n17 train_ids\n"
     ]
    }
   ],
   "source": [
    "print(len(train_trans.loc[:, train_trans.dtypes == object].columns), 'train_trans')\n",
    "print(len(train_ids.loc[:, train_ids.dtypes == object].columns), 'train_ids')"
   ]
  },
  {
   "source": [
    "# Merge Data "
   ],
   "cell_type": "markdown",
   "metadata": {}
  },
  {
   "cell_type": "code",
   "execution_count": 8,
   "metadata": {},
   "outputs": [
    {
     "output_type": "execute_result",
     "data": {
      "text/plain": [
       "(590540, 434)"
      ]
     },
     "metadata": {},
     "execution_count": 8
    }
   ],
   "source": [
    "train = train_ids.merge(train_trans, how='right', on='TransactionID')\n",
    "train.shape"
   ]
  },
  {
   "cell_type": "code",
   "execution_count": 9,
   "metadata": {},
   "outputs": [
    {
     "output_type": "stream",
     "name": "stdout",
     "text": [
      "<class 'pandas.core.frame.DataFrame'>\nInt64Index: 590540 entries, 0 to 590539\nColumns: 434 entries, TransactionID to V339\ndtypes: float64(399), int64(4), object(31)\nmemory usage: 1.9+ GB\n"
     ]
    }
   ],
   "source": [
    "train.info()"
   ]
  },
  {
   "cell_type": "code",
   "execution_count": 10,
   "metadata": {},
   "outputs": [
    {
     "output_type": "execute_result",
     "data": {
      "text/plain": [
       "0    0\n",
       "1    0\n",
       "2    0\n",
       "3    0\n",
       "4    0\n",
       "Name: isFraud, dtype: int64"
      ]
     },
     "metadata": {},
     "execution_count": 10
    }
   ],
   "source": [
    "# y_train \n",
    "\n",
    "y_train = train['isFraud']\n",
    "y_train.head()"
   ]
  },
  {
   "cell_type": "code",
   "execution_count": 11,
   "metadata": {},
   "outputs": [
    {
     "output_type": "execute_result",
     "data": {
      "text/plain": [
       "   TransactionID  id_01     id_02  id_03  id_04  id_05  id_06  id_07  id_08  \\\n",
       "0        2987004    0.0   70787.0    NaN    NaN    NaN    NaN    NaN    NaN   \n",
       "1        2987008   -5.0   98945.0    NaN    NaN    0.0   -5.0    NaN    NaN   \n",
       "2        2987010   -5.0  191631.0    0.0    0.0    0.0    0.0    NaN    NaN   \n",
       "3        2987011   -5.0  221832.0    NaN    NaN    0.0   -6.0    NaN    NaN   \n",
       "4        2987016    0.0    7460.0    0.0    0.0    1.0    0.0    NaN    NaN   \n",
       "\n",
       "   id_09  ...  V330  V331 V332  V333  V334 V335 V336  V337  V338  V339  \n",
       "0    NaN  ...   0.0   0.0  0.0   0.0   0.0  0.0  0.0   0.0   0.0   0.0  \n",
       "1    NaN  ...   0.0   0.0  0.0   0.0   0.0  0.0  0.0   0.0   0.0   0.0  \n",
       "2    0.0  ...   NaN   NaN  NaN   NaN   NaN  NaN  NaN   NaN   NaN   NaN  \n",
       "3    NaN  ...   NaN   NaN  NaN   NaN   NaN  NaN  NaN   NaN   NaN   NaN  \n",
       "4    0.0  ...   0.0   0.0  0.0   0.0   0.0  0.0  0.0   0.0   0.0   0.0  \n",
       "\n",
       "[5 rows x 433 columns]"
      ],
      "text/html": "<div>\n<style scoped>\n    .dataframe tbody tr th:only-of-type {\n        vertical-align: middle;\n    }\n\n    .dataframe tbody tr th {\n        vertical-align: top;\n    }\n\n    .dataframe thead th {\n        text-align: right;\n    }\n</style>\n<table border=\"1\" class=\"dataframe\">\n  <thead>\n    <tr style=\"text-align: right;\">\n      <th></th>\n      <th>TransactionID</th>\n      <th>id_01</th>\n      <th>id_02</th>\n      <th>id_03</th>\n      <th>id_04</th>\n      <th>id_05</th>\n      <th>id_06</th>\n      <th>id_07</th>\n      <th>id_08</th>\n      <th>id_09</th>\n      <th>...</th>\n      <th>V330</th>\n      <th>V331</th>\n      <th>V332</th>\n      <th>V333</th>\n      <th>V334</th>\n      <th>V335</th>\n      <th>V336</th>\n      <th>V337</th>\n      <th>V338</th>\n      <th>V339</th>\n    </tr>\n  </thead>\n  <tbody>\n    <tr>\n      <th>0</th>\n      <td>2987004</td>\n      <td>0.0</td>\n      <td>70787.0</td>\n      <td>NaN</td>\n      <td>NaN</td>\n      <td>NaN</td>\n      <td>NaN</td>\n      <td>NaN</td>\n      <td>NaN</td>\n      <td>NaN</td>\n      <td>...</td>\n      <td>0.0</td>\n      <td>0.0</td>\n      <td>0.0</td>\n      <td>0.0</td>\n      <td>0.0</td>\n      <td>0.0</td>\n      <td>0.0</td>\n      <td>0.0</td>\n      <td>0.0</td>\n      <td>0.0</td>\n    </tr>\n    <tr>\n      <th>1</th>\n      <td>2987008</td>\n      <td>-5.0</td>\n      <td>98945.0</td>\n      <td>NaN</td>\n      <td>NaN</td>\n      <td>0.0</td>\n      <td>-5.0</td>\n      <td>NaN</td>\n      <td>NaN</td>\n      <td>NaN</td>\n      <td>...</td>\n      <td>0.0</td>\n      <td>0.0</td>\n      <td>0.0</td>\n      <td>0.0</td>\n      <td>0.0</td>\n      <td>0.0</td>\n      <td>0.0</td>\n      <td>0.0</td>\n      <td>0.0</td>\n      <td>0.0</td>\n    </tr>\n    <tr>\n      <th>2</th>\n      <td>2987010</td>\n      <td>-5.0</td>\n      <td>191631.0</td>\n      <td>0.0</td>\n      <td>0.0</td>\n      <td>0.0</td>\n      <td>0.0</td>\n      <td>NaN</td>\n      <td>NaN</td>\n      <td>0.0</td>\n      <td>...</td>\n      <td>NaN</td>\n      <td>NaN</td>\n      <td>NaN</td>\n      <td>NaN</td>\n      <td>NaN</td>\n      <td>NaN</td>\n      <td>NaN</td>\n      <td>NaN</td>\n      <td>NaN</td>\n      <td>NaN</td>\n    </tr>\n    <tr>\n      <th>3</th>\n      <td>2987011</td>\n      <td>-5.0</td>\n      <td>221832.0</td>\n      <td>NaN</td>\n      <td>NaN</td>\n      <td>0.0</td>\n      <td>-6.0</td>\n      <td>NaN</td>\n      <td>NaN</td>\n      <td>NaN</td>\n      <td>...</td>\n      <td>NaN</td>\n      <td>NaN</td>\n      <td>NaN</td>\n      <td>NaN</td>\n      <td>NaN</td>\n      <td>NaN</td>\n      <td>NaN</td>\n      <td>NaN</td>\n      <td>NaN</td>\n      <td>NaN</td>\n    </tr>\n    <tr>\n      <th>4</th>\n      <td>2987016</td>\n      <td>0.0</td>\n      <td>7460.0</td>\n      <td>0.0</td>\n      <td>0.0</td>\n      <td>1.0</td>\n      <td>0.0</td>\n      <td>NaN</td>\n      <td>NaN</td>\n      <td>0.0</td>\n      <td>...</td>\n      <td>0.0</td>\n      <td>0.0</td>\n      <td>0.0</td>\n      <td>0.0</td>\n      <td>0.0</td>\n      <td>0.0</td>\n      <td>0.0</td>\n      <td>0.0</td>\n      <td>0.0</td>\n      <td>0.0</td>\n    </tr>\n  </tbody>\n</table>\n<p>5 rows × 433 columns</p>\n</div>"
     },
     "metadata": {},
     "execution_count": 11
    }
   ],
   "source": [
    "X_train = train.drop(['isFraud'], axis=1)\n",
    "X_train.head()"
   ]
  },
  {
   "source": [
    "# Data Clean \n",
    "\n",
    "<u>Below are the object columns for the X_train df</u>\n",
    "\n",
    "id_12\tid_15\tid_16\tid_23\tid_27\tid_28\tid_29\tid_30\tid_31\tid_33\tid_34\tid_35\tid_36\tid_37\tid_38\tDeviceType\tDeviceInfo\n",
    "\n",
    "ProductCD\tcard4\tcard6\tP_emaildomain\tR_emaildomain\tM1\tM2\tM3\tM4\tM5\tM6\tM7\tM8\tM9"
   ],
   "cell_type": "markdown",
   "metadata": {}
  },
  {
   "cell_type": "code",
   "execution_count": 12,
   "metadata": {},
   "outputs": [],
   "source": [
    "object_columns = ['id_12', 'id_15', 'id_16', 'id_23', 'id_27', 'id_28', 'id_29', 'id_30', 'id_31', 'id_33', 'id_34', 'id_35', 'id_36', 'id_37', 'id_38', 'DeviceType', 'DeviceInfo', 'ProductCD', 'card4', 'card6', 'P_emaildomain', 'R_emaildomain', 'M1', 'M2', 'M3', 'M4', 'M5', 'M6', 'M7', 'M8', 'M9']\n",
    "\n"
   ]
  },
  {
   "cell_type": "code",
   "execution_count": 13,
   "metadata": {},
   "outputs": [],
   "source": [
    "num_columns = X_train.select_dtypes(include=['float64', 'int64'])"
   ]
  },
  {
   "cell_type": "code",
   "execution_count": 14,
   "metadata": {},
   "outputs": [],
   "source": [
    "object_columns = X_train.select_dtypes(include=['object'])"
   ]
  },
  {
   "cell_type": "code",
   "execution_count": 15,
   "metadata": {},
   "outputs": [
    {
     "output_type": "stream",
     "name": "stdout",
     "text": [
      "402\n31\n"
     ]
    }
   ],
   "source": [
    "print(len(num_columns.columns))\n",
    "print(len(object_columns.columns))"
   ]
  },
  {
   "source": [
    "I think what I will have to do is build a pipeline to clean these two seperate DFs and then merge them again using the Transaction IDs after cleaning. "
   ],
   "cell_type": "markdown",
   "metadata": {}
  },
  {
   "cell_type": "code",
   "execution_count": 16,
   "metadata": {},
   "outputs": [
    {
     "output_type": "execute_result",
     "data": {
      "text/plain": [
       "   TransactionID  id_01     id_02  id_03  id_04  id_05  id_06  id_07  id_08  \\\n",
       "0        2987004    0.0   70787.0    NaN    NaN    NaN    NaN    NaN    NaN   \n",
       "1        2987008   -5.0   98945.0    NaN    NaN    0.0   -5.0    NaN    NaN   \n",
       "2        2987010   -5.0  191631.0    0.0    0.0    0.0    0.0    NaN    NaN   \n",
       "3        2987011   -5.0  221832.0    NaN    NaN    0.0   -6.0    NaN    NaN   \n",
       "4        2987016    0.0    7460.0    0.0    0.0    1.0    0.0    NaN    NaN   \n",
       "\n",
       "   id_09  ...  V330  V331  V332  V333  V334  V335  V336  V337  V338  V339  \n",
       "0    NaN  ...   0.0   0.0   0.0   0.0   0.0   0.0   0.0   0.0   0.0   0.0  \n",
       "1    NaN  ...   0.0   0.0   0.0   0.0   0.0   0.0   0.0   0.0   0.0   0.0  \n",
       "2    0.0  ...   NaN   NaN   NaN   NaN   NaN   NaN   NaN   NaN   NaN   NaN  \n",
       "3    NaN  ...   NaN   NaN   NaN   NaN   NaN   NaN   NaN   NaN   NaN   NaN  \n",
       "4    0.0  ...   0.0   0.0   0.0   0.0   0.0   0.0   0.0   0.0   0.0   0.0  \n",
       "\n",
       "[5 rows x 402 columns]"
      ],
      "text/html": "<div>\n<style scoped>\n    .dataframe tbody tr th:only-of-type {\n        vertical-align: middle;\n    }\n\n    .dataframe tbody tr th {\n        vertical-align: top;\n    }\n\n    .dataframe thead th {\n        text-align: right;\n    }\n</style>\n<table border=\"1\" class=\"dataframe\">\n  <thead>\n    <tr style=\"text-align: right;\">\n      <th></th>\n      <th>TransactionID</th>\n      <th>id_01</th>\n      <th>id_02</th>\n      <th>id_03</th>\n      <th>id_04</th>\n      <th>id_05</th>\n      <th>id_06</th>\n      <th>id_07</th>\n      <th>id_08</th>\n      <th>id_09</th>\n      <th>...</th>\n      <th>V330</th>\n      <th>V331</th>\n      <th>V332</th>\n      <th>V333</th>\n      <th>V334</th>\n      <th>V335</th>\n      <th>V336</th>\n      <th>V337</th>\n      <th>V338</th>\n      <th>V339</th>\n    </tr>\n  </thead>\n  <tbody>\n    <tr>\n      <th>0</th>\n      <td>2987004</td>\n      <td>0.0</td>\n      <td>70787.0</td>\n      <td>NaN</td>\n      <td>NaN</td>\n      <td>NaN</td>\n      <td>NaN</td>\n      <td>NaN</td>\n      <td>NaN</td>\n      <td>NaN</td>\n      <td>...</td>\n      <td>0.0</td>\n      <td>0.0</td>\n      <td>0.0</td>\n      <td>0.0</td>\n      <td>0.0</td>\n      <td>0.0</td>\n      <td>0.0</td>\n      <td>0.0</td>\n      <td>0.0</td>\n      <td>0.0</td>\n    </tr>\n    <tr>\n      <th>1</th>\n      <td>2987008</td>\n      <td>-5.0</td>\n      <td>98945.0</td>\n      <td>NaN</td>\n      <td>NaN</td>\n      <td>0.0</td>\n      <td>-5.0</td>\n      <td>NaN</td>\n      <td>NaN</td>\n      <td>NaN</td>\n      <td>...</td>\n      <td>0.0</td>\n      <td>0.0</td>\n      <td>0.0</td>\n      <td>0.0</td>\n      <td>0.0</td>\n      <td>0.0</td>\n      <td>0.0</td>\n      <td>0.0</td>\n      <td>0.0</td>\n      <td>0.0</td>\n    </tr>\n    <tr>\n      <th>2</th>\n      <td>2987010</td>\n      <td>-5.0</td>\n      <td>191631.0</td>\n      <td>0.0</td>\n      <td>0.0</td>\n      <td>0.0</td>\n      <td>0.0</td>\n      <td>NaN</td>\n      <td>NaN</td>\n      <td>0.0</td>\n      <td>...</td>\n      <td>NaN</td>\n      <td>NaN</td>\n      <td>NaN</td>\n      <td>NaN</td>\n      <td>NaN</td>\n      <td>NaN</td>\n      <td>NaN</td>\n      <td>NaN</td>\n      <td>NaN</td>\n      <td>NaN</td>\n    </tr>\n    <tr>\n      <th>3</th>\n      <td>2987011</td>\n      <td>-5.0</td>\n      <td>221832.0</td>\n      <td>NaN</td>\n      <td>NaN</td>\n      <td>0.0</td>\n      <td>-6.0</td>\n      <td>NaN</td>\n      <td>NaN</td>\n      <td>NaN</td>\n      <td>...</td>\n      <td>NaN</td>\n      <td>NaN</td>\n      <td>NaN</td>\n      <td>NaN</td>\n      <td>NaN</td>\n      <td>NaN</td>\n      <td>NaN</td>\n      <td>NaN</td>\n      <td>NaN</td>\n      <td>NaN</td>\n    </tr>\n    <tr>\n      <th>4</th>\n      <td>2987016</td>\n      <td>0.0</td>\n      <td>7460.0</td>\n      <td>0.0</td>\n      <td>0.0</td>\n      <td>1.0</td>\n      <td>0.0</td>\n      <td>NaN</td>\n      <td>NaN</td>\n      <td>0.0</td>\n      <td>...</td>\n      <td>0.0</td>\n      <td>0.0</td>\n      <td>0.0</td>\n      <td>0.0</td>\n      <td>0.0</td>\n      <td>0.0</td>\n      <td>0.0</td>\n      <td>0.0</td>\n      <td>0.0</td>\n      <td>0.0</td>\n    </tr>\n  </tbody>\n</table>\n<p>5 rows × 402 columns</p>\n</div>"
     },
     "metadata": {},
     "execution_count": 16
    }
   ],
   "source": [
    "# Seeing what is the missing values for the num_columns \n",
    "\n",
    "num_columns.head()"
   ]
  },
  {
   "cell_type": "code",
   "execution_count": 17,
   "metadata": {},
   "outputs": [
    {
     "output_type": "execute_result",
     "data": {
      "text/plain": [
       "      id_12  id_15     id_16 id_23 id_27  id_28     id_29             id_30  \\\n",
       "0  NotFound    New  NotFound   NaN   NaN    New  NotFound       Android 7.0   \n",
       "1  NotFound    New  NotFound   NaN   NaN    New  NotFound        iOS 11.1.2   \n",
       "2  NotFound  Found     Found   NaN   NaN  Found     Found               NaN   \n",
       "3  NotFound    New  NotFound   NaN   NaN    New  NotFound               NaN   \n",
       "4  NotFound  Found     Found   NaN   NaN  Found     Found  Mac OS X 10_11_6   \n",
       "\n",
       "                 id_31      id_33  ... R_emaildomain   M1   M2   M3   M4   M5  \\\n",
       "0  samsung browser 6.2  2220x1080  ...           NaN  NaN  NaN  NaN  NaN  NaN   \n",
       "1   mobile safari 11.0   1334x750  ...           NaN  NaN  NaN  NaN  NaN  NaN   \n",
       "2          chrome 62.0        NaN  ...     gmail.com  NaN  NaN  NaN   M0  NaN   \n",
       "3          chrome 62.0        NaN  ...   hotmail.com  NaN  NaN  NaN   M0  NaN   \n",
       "4          chrome 62.0   1280x800  ...           NaN  NaN  NaN  NaN  NaN  NaN   \n",
       "\n",
       "    M6   M7   M8   M9  \n",
       "0  NaN  NaN  NaN  NaN  \n",
       "1  NaN  NaN  NaN  NaN  \n",
       "2  NaN  NaN  NaN  NaN  \n",
       "3  NaN  NaN  NaN  NaN  \n",
       "4  NaN  NaN  NaN  NaN  \n",
       "\n",
       "[5 rows x 31 columns]"
      ],
      "text/html": "<div>\n<style scoped>\n    .dataframe tbody tr th:only-of-type {\n        vertical-align: middle;\n    }\n\n    .dataframe tbody tr th {\n        vertical-align: top;\n    }\n\n    .dataframe thead th {\n        text-align: right;\n    }\n</style>\n<table border=\"1\" class=\"dataframe\">\n  <thead>\n    <tr style=\"text-align: right;\">\n      <th></th>\n      <th>id_12</th>\n      <th>id_15</th>\n      <th>id_16</th>\n      <th>id_23</th>\n      <th>id_27</th>\n      <th>id_28</th>\n      <th>id_29</th>\n      <th>id_30</th>\n      <th>id_31</th>\n      <th>id_33</th>\n      <th>...</th>\n      <th>R_emaildomain</th>\n      <th>M1</th>\n      <th>M2</th>\n      <th>M3</th>\n      <th>M4</th>\n      <th>M5</th>\n      <th>M6</th>\n      <th>M7</th>\n      <th>M8</th>\n      <th>M9</th>\n    </tr>\n  </thead>\n  <tbody>\n    <tr>\n      <th>0</th>\n      <td>NotFound</td>\n      <td>New</td>\n      <td>NotFound</td>\n      <td>NaN</td>\n      <td>NaN</td>\n      <td>New</td>\n      <td>NotFound</td>\n      <td>Android 7.0</td>\n      <td>samsung browser 6.2</td>\n      <td>2220x1080</td>\n      <td>...</td>\n      <td>NaN</td>\n      <td>NaN</td>\n      <td>NaN</td>\n      <td>NaN</td>\n      <td>NaN</td>\n      <td>NaN</td>\n      <td>NaN</td>\n      <td>NaN</td>\n      <td>NaN</td>\n      <td>NaN</td>\n    </tr>\n    <tr>\n      <th>1</th>\n      <td>NotFound</td>\n      <td>New</td>\n      <td>NotFound</td>\n      <td>NaN</td>\n      <td>NaN</td>\n      <td>New</td>\n      <td>NotFound</td>\n      <td>iOS 11.1.2</td>\n      <td>mobile safari 11.0</td>\n      <td>1334x750</td>\n      <td>...</td>\n      <td>NaN</td>\n      <td>NaN</td>\n      <td>NaN</td>\n      <td>NaN</td>\n      <td>NaN</td>\n      <td>NaN</td>\n      <td>NaN</td>\n      <td>NaN</td>\n      <td>NaN</td>\n      <td>NaN</td>\n    </tr>\n    <tr>\n      <th>2</th>\n      <td>NotFound</td>\n      <td>Found</td>\n      <td>Found</td>\n      <td>NaN</td>\n      <td>NaN</td>\n      <td>Found</td>\n      <td>Found</td>\n      <td>NaN</td>\n      <td>chrome 62.0</td>\n      <td>NaN</td>\n      <td>...</td>\n      <td>gmail.com</td>\n      <td>NaN</td>\n      <td>NaN</td>\n      <td>NaN</td>\n      <td>M0</td>\n      <td>NaN</td>\n      <td>NaN</td>\n      <td>NaN</td>\n      <td>NaN</td>\n      <td>NaN</td>\n    </tr>\n    <tr>\n      <th>3</th>\n      <td>NotFound</td>\n      <td>New</td>\n      <td>NotFound</td>\n      <td>NaN</td>\n      <td>NaN</td>\n      <td>New</td>\n      <td>NotFound</td>\n      <td>NaN</td>\n      <td>chrome 62.0</td>\n      <td>NaN</td>\n      <td>...</td>\n      <td>hotmail.com</td>\n      <td>NaN</td>\n      <td>NaN</td>\n      <td>NaN</td>\n      <td>M0</td>\n      <td>NaN</td>\n      <td>NaN</td>\n      <td>NaN</td>\n      <td>NaN</td>\n      <td>NaN</td>\n    </tr>\n    <tr>\n      <th>4</th>\n      <td>NotFound</td>\n      <td>Found</td>\n      <td>Found</td>\n      <td>NaN</td>\n      <td>NaN</td>\n      <td>Found</td>\n      <td>Found</td>\n      <td>Mac OS X 10_11_6</td>\n      <td>chrome 62.0</td>\n      <td>1280x800</td>\n      <td>...</td>\n      <td>NaN</td>\n      <td>NaN</td>\n      <td>NaN</td>\n      <td>NaN</td>\n      <td>NaN</td>\n      <td>NaN</td>\n      <td>NaN</td>\n      <td>NaN</td>\n      <td>NaN</td>\n      <td>NaN</td>\n    </tr>\n  </tbody>\n</table>\n<p>5 rows × 31 columns</p>\n</div>"
     },
     "metadata": {},
     "execution_count": 17
    }
   ],
   "source": [
    "object_columns.head()"
   ]
  },
  {
   "source": [
    "I'll fill the NaN values for both DF using SimpleImputer(strategy='most_frequent')"
   ],
   "cell_type": "markdown",
   "metadata": {}
  },
  {
   "cell_type": "code",
   "execution_count": 18,
   "metadata": {},
   "outputs": [
    {
     "output_type": "execute_result",
     "data": {
      "text/plain": [
       "['id_12',\n",
       " 'id_15',\n",
       " 'id_16',\n",
       " 'id_23',\n",
       " 'id_27',\n",
       " 'id_28',\n",
       " 'id_29',\n",
       " 'id_30',\n",
       " 'id_31',\n",
       " 'id_33',\n",
       " 'id_34',\n",
       " 'id_35',\n",
       " 'id_36',\n",
       " 'id_37',\n",
       " 'id_38',\n",
       " 'DeviceType',\n",
       " 'DeviceInfo',\n",
       " 'ProductCD',\n",
       " 'card4',\n",
       " 'card6',\n",
       " 'P_emaildomain',\n",
       " 'R_emaildomain',\n",
       " 'M1',\n",
       " 'M2',\n",
       " 'M3',\n",
       " 'M4',\n",
       " 'M5',\n",
       " 'M6',\n",
       " 'M7',\n",
       " 'M8',\n",
       " 'M9']"
      ]
     },
     "metadata": {},
     "execution_count": 18
    }
   ],
   "source": [
    "# Now to see how many different classes there are for each object column\n",
    "\n",
    "list(object_columns.columns)"
   ]
  },
  {
   "source": [
    "Can I create a loop that will iterate through the object_columns and output the unique values for each column? "
   ],
   "cell_type": "markdown",
   "metadata": {}
  },
  {
   "cell_type": "code",
   "execution_count": 19,
   "metadata": {},
   "outputs": [],
   "source": [
    "def find_unique(df):\n",
    "    for i in df:\n",
    "        print(df[i].unique(), i)"
   ]
  },
  {
   "cell_type": "code",
   "execution_count": 20,
   "metadata": {},
   "outputs": [
    {
     "output_type": "stream",
     "name": "stdout",
     "text": [
      "['NotFound' 'Found' nan] id_12\n",
      "['New' 'Found' nan 'Unknown'] id_15\n",
      "['NotFound' 'Found' nan] id_16\n",
      "[nan 'IP_PROXY:TRANSPARENT' 'IP_PROXY:ANONYMOUS' 'IP_PROXY:HIDDEN'] id_23\n",
      "[nan 'Found' 'NotFound'] id_27\n",
      "['New' 'Found' nan] id_28\n",
      "['NotFound' 'Found' nan] id_29\n",
      "['Android 7.0' 'iOS 11.1.2' nan 'Mac OS X 10_11_6' 'Windows 10' 'Android'\n",
      " 'Linux' 'iOS 11.0.3' 'Mac OS X 10_7_5' 'Mac OS X 10_12_6'\n",
      " 'Mac OS X 10_13_1' 'iOS 11.1.0' 'Mac OS X 10_9_5' 'Windows 7'\n",
      " 'Windows 8.1' 'Mac' 'iOS 10.3.3' 'Mac OS X 10.12' 'Mac OS X 10_10_5'\n",
      " 'Mac OS X 10_11_5' 'iOS 9.3.5' 'Android 5.1.1' 'Android 7.1.1'\n",
      " 'Android 6.0' 'iOS 10.3.1' 'Mac OS X 10.9' 'iOS 11.1.1' 'Windows Vista'\n",
      " 'iOS 10.3.2' 'iOS 11.0.2' 'Mac OS X 10.11' 'Android 8.0.0' 'iOS 10.2.0'\n",
      " 'iOS 10.2.1' 'iOS 11.0.0' 'Mac OS X 10.10' 'Mac OS X 10_12_3'\n",
      " 'Mac OS X 10_12' 'Android 6.0.1' 'iOS' 'Mac OS X 10.13'\n",
      " 'Mac OS X 10_12_5' 'Mac OS X 10_8_5' 'iOS 11.0.1' 'iOS 10.0.2'\n",
      " 'Android 5.0.2' 'Windows XP' 'iOS 11.2.0' 'Mac OS X 10.6' 'Windows 8'\n",
      " 'Mac OS X 10_6_8' 'Mac OS X 10_11_4' 'Mac OS X 10_12_1' 'iOS 10.1.1'\n",
      " 'Mac OS X 10_11_3' 'Mac OS X 10_12_4' 'Mac OS X 10_13_2' 'Android 4.4.2'\n",
      " 'Mac OS X 10_12_2' 'Android 5.0' 'func' 'Android 7.1.2' 'Android 8.1.0'\n",
      " 'other' 'Mac OS X 10_13_3' 'iOS 11.2.1' 'iOS 11.2.5' 'Windows'\n",
      " 'iOS 11.2.2' 'iOS 11.3.0' 'iOS 11.2.6' 'Mac OS X 10_13_4'\n",
      " 'Mac OS X 10_13_5' 'iOS 11.4.0' 'iOS 11.3.1' 'iOS 11.4.1'] id_30\n",
      "['samsung browser 6.2' 'mobile safari 11.0' 'chrome 62.0' nan\n",
      " 'chrome 62.0 for android' 'edge 15.0' 'mobile safari generic'\n",
      " 'chrome 49.0' 'chrome 61.0' 'edge 16.0' 'safari generic' 'edge 14.0'\n",
      " 'chrome 56.0 for android' 'firefox 57.0' 'chrome 54.0 for android'\n",
      " 'mobile safari uiwebview' 'chrome' 'chrome 62.0 for ios' 'firefox'\n",
      " 'chrome 60.0 for android' 'mobile safari 10.0' 'chrome 61.0 for android'\n",
      " 'ie 11.0 for desktop' 'ie 11.0 for tablet' 'mobile safari 9.0'\n",
      " 'chrome generic' 'other' 'chrome 59.0 for android' 'firefox 56.0'\n",
      " 'android webview 4.0' 'chrome 55.0' 'opera 49.0' 'ie'\n",
      " 'chrome 55.0 for android' 'firefox 52.0' 'chrome 57.0 for android'\n",
      " 'chrome 56.0' 'chrome 46.0 for android' 'chrome 58.0' 'firefox 48.0'\n",
      " 'chrome 59.0' 'samsung browser 4.0' 'edge 13.0' 'chrome 53.0 for android'\n",
      " 'chrome 58.0 for android' 'chrome 60.0' 'mobile safari 8.0'\n",
      " 'firefox generic' 'Generic/Android 7.0' 'mobile' 'Samsung/SM-G532M'\n",
      " 'chrome 50.0 for android' 'chrome 51.0 for android' 'chrome 63.0'\n",
      " 'chrome 52.0 for android' 'chrome 51.0' 'firefox 55.0' 'edge' 'opera'\n",
      " 'chrome generic for android' 'aol' 'samsung browser 5.4' 'Samsung/SCH'\n",
      " 'silk' 'chrome 57.0' 'firefox 47.0' 'chrome 63.0 for android'\n",
      " 'Samsung/SM-G531H' 'chrome 43.0 for android' 'waterfox' 'Nokia/Lumia'\n",
      " 'chrome 63.0 for ios' 'puffin' 'Microsoft/Windows' 'cyberfox'\n",
      " 'Generic/Android' 'samsung' 'opera generic' 'chrome 49.0 for android'\n",
      " 'ZTE/Blade' 'safari' 'android browser 4.0' 'samsung browser 5.2'\n",
      " 'palemoon' 'maxthon' 'line' 'LG/K-200' 'iron' 'BLU/Dash' 'seamonkey'\n",
      " 'firefox 58.0' 'chrome 64.0 for android' 'chrome 64.0' 'firefox 59.0'\n",
      " 'chrome 64.0 for ios' 'M4Tel/M4' 'comodo' 'Lanix/Ilium'\n",
      " 'samsung browser generic' 'chromium' 'opera 51.0' 'Inco/Minion'\n",
      " 'samsung browser 7.0' 'Mozilla/Firefox' 'samsung browser 4.2'\n",
      " 'samsung browser 6.4' 'chrome 65.0' 'chrome 65.0 for android'\n",
      " 'chrome 65.0 for ios' 'Cherry' 'icedragon' 'android' 'edge 17.0'\n",
      " 'chrome 66.0' 'chrome 66.0 for android' 'safari 11.0' 'safari 9.0'\n",
      " 'safari 10.0' 'google' 'chrome 66.0 for ios'\n",
      " 'google search application 48.0' 'opera 52.0' 'firefox 60.0' 'opera 53.0'\n",
      " 'samsung browser 3.3' 'google search application 49.0' 'facebook'\n",
      " 'firefox mobile 61.0' 'chrome 67.0' 'chrome 69.0'\n",
      " 'chrome 67.0 for android'] id_31\n",
      "['2220x1080' '1334x750' nan '1280x800' '1366x768' '1920x1080' '1680x1050'\n",
      " '1136x640' '5120x2880' '2880x1800' '1920x1200' '2560x1600' '2048x1536'\n",
      " '1024x768' '1280x720' '2560x1440' '2208x1242' '2001x1125' '1440x900'\n",
      " '1600x900' '2672x1440' '1280x1024' '960x540' '2732x2048' '2436x1125'\n",
      " '2048x1152' '2960x1440' '1024x600' '855x480' '4096x2304' '2160x1440'\n",
      " '2562x1442' '801x480' '2736x1824' '3441x1440' '2880x1620' '3840x2160'\n",
      " '1638x922' '1280x768' '1360x768' '1280x960' '3440x1440' '1152x720'\n",
      " '1280x1025' '3360x2100' '2304x1296' '1152x864' '3200x1800' '2112x1188'\n",
      " '2224x1668' '2400x1350' '2000x1125' '1600x1000' '2560x1080' '1728x972'\n",
      " '3000x2000' '1024x640' '3840x2400' '2304x1440' '1280x600' '1400x1050'\n",
      " '1600x1200' '3201x1800' '1356x900' '1344x756' '1624x1080' '1536x864'\n",
      " '1800x1125' '1920x1281' '2961x1442' '1366x1024' '1344x840' '3360x1890'\n",
      " '1536x1152' '1200x675' '1480x720' '2400x1600' '3200x2000' '1281x801'\n",
      " '960x640' '1776x1000' '2048x1280' '2049x1152' '1138x640' '2160x1215'\n",
      " '2880x1440' '0x0' '2520x1575' '5760x3240' '3843x2163' '1184x720'\n",
      " '1440x810' '2076x1080' '1600x837' '1093x615' '1281x721' '1152x648'\n",
      " '2392x1440' '2048x1080' '2735x1825' '1680x945' '1805x1015' '5760x1080'\n",
      " '2816x1584' '4500x3000' '1684x947' '1440x960' '1364x768' '3072x1728'\n",
      " '5040x3150' '7500x5000' '768x576' '1768x992' '1658x946' '1200x720'\n",
      " '1239x697' '1188x720' '1232x800' '1920x1280' '1264x924' '1400x900'\n",
      " '3240x2160' '2961x1440' '1422x889' '1848x1155' '3360x1050' '3840x1080'\n",
      " '2010x1080' '2160x1350' '1440x720' '1280x712' '1512x945' '1296x774'\n",
      " '1368x768' '3520x1980' '800x600' '1700x960' '2560x1800' '6400x3600'\n",
      " '2368x1440' '1824x1026' '1912x1025' '600x450' '3840x1600' '1760x990'\n",
      " '2700x1800' '1371x857' '1776x1080' '2552x1337' '3600x2250' '2560x1700'\n",
      " '2816x1760' '1440x800' '1440x803' '1920x1018' '6016x3384' '1280x620'\n",
      " '1281x720' '1720x1440' '1408x880' '640x360' '1920x975' '976x600'\n",
      " '1062x630' '2800x1575' '6720x3780' '1440x759' '1120x700' '1921x1081'\n",
      " '1280x1023' '1279x1023' '1441x901' '1679x1049' '1680x1051' '2220x1081'\n",
      " '1920x1079' '1919x1199' '1680x1049' '1365x768' '1919x1079' '1919x1200'\n",
      " '1919x1080' '1366x767' '1584x990' '2880x1442' '1281x800' '1229x691'\n",
      " '1600x1024' '1600x899' '1536x960' '1502x844' '1920x1201' '1439x809'\n",
      " '1408x792' '1279x1024' '1599x900' '1920x1081' '921x691' '3841x2161'\n",
      " '1921x1080' '480x320' '1888x941' '2049x1536' '2160x1439' '1707x960'\n",
      " '1024x767' '1365x767' '3001x2000' '3839x2160' '1916x901' '3838x2158'\n",
      " '1599x899' '3199x1800' '1511x944' '2737x1825' '2736x1823' '2735x1823'\n",
      " '2559x1439' '2400x1500' '2882x1442' '1729x973' '1727x971' '1023x767'\n",
      " '1918x1080' '1439x900' '4499x2999' '1280x740' '2999x2000' '1024x552'\n",
      " '1440x899' '2255x1503' '1025x768' '1280x732' '3839x2159' '3840x2162'\n",
      " '3696x2310' '2159x1439' '2256x1504' '1439x899' '2159x1440' '1359x768'\n",
      " '1092x614' '2048x1278' '2591x1619' '4200x2625' '2710x1440' '1272x960'\n",
      " '1023x768' '3838x2160' '2100x1312' '1360x767' '1024x819' '1502x845'\n",
      " '2561x1442' '2559x1440' '2160x1081' '1920x1279' '2160x1080' '1596x710'\n",
      " '1496x844' '1280x900'] id_33\n",
      "['match_status:2' 'match_status:1' nan 'match_status:0' 'match_status:-1'] id_34\n",
      "['T' 'F' nan] id_35\n",
      "['F' nan 'T'] id_36\n",
      "['T' 'F' nan] id_37\n",
      "['T' nan 'F'] id_38\n",
      "['mobile' 'desktop' nan] DeviceType\n",
      "['SAMSUNG SM-G892A Build/NRD90M' 'iOS Device' 'Windows' ...\n",
      " 'LDN-LX3 Build/HUAWEILDN-LX3' 'Z955A' 'LG-E975'] DeviceInfo\n",
      "['H' 'C' 'S' 'R' 'W'] ProductCD\n",
      "['mastercard' 'visa' 'american express' 'discover' nan] card4\n",
      "['credit' 'debit' nan 'charge card' 'debit or credit'] card6\n",
      "['gmail.com' 'anonymous.com' 'hotmail.com' 'aol.com' 'yahoo.com' nan\n",
      " 'outlook.com' 'charter.net' 'comcast.net' 'optonline.net'\n",
      " 'embarqmail.com' 'live.com.mx' 'icloud.com' 'juno.com' 'att.net'\n",
      " 'msn.com' 'yahoo.com.mx' 'cox.net' 'servicios-ta.com' 'me.com'\n",
      " 'hotmail.es' 'live.com' 'verizon.net' 'bellsouth.net' 'sbcglobal.net'\n",
      " 'gmx.de' 'mail.com' 'frontier.com' 'frontiernet.net' 'outlook.es'\n",
      " 'suddenlink.net' 'roadrunner.com' 'mac.com' 'earthlink.net' 'web.de'\n",
      " 'twc.com' 'ymail.com' 'yahoo.fr' 'yahoo.de' 'windstream.net' 'gmail'\n",
      " 'rocketmail.com' 'cfl.rr.com' 'yahoo.es' 'live.fr' 'q.com'\n",
      " 'prodigy.net.mx' 'yahoo.co.uk' 'hotmail.fr' 'hotmail.de' 'netzero.net'\n",
      " 'cableone.net' 'aim.com' 'ptd.net' 'centurylink.net' 'hotmail.co.uk'\n",
      " 'netzero.com' 'sc.rr.com' 'yahoo.co.jp' 'protonmail.com'] P_emaildomain\n",
      "[nan 'gmail.com' 'hotmail.com' 'outlook.com' 'anonymous.com' 'charter.net'\n",
      " 'comcast.net' 'live.com.mx' 'icloud.com' 'yahoo.com' 'aol.com' 'juno.com'\n",
      " 'att.net' 'verizon.net' 'yahoo.com.mx' 'bellsouth.net' 'servicios-ta.com'\n",
      " 'ymail.com' 'hotmail.es' 'msn.com' 'optonline.net' 'live.com' 'gmx.de'\n",
      " 'aim.com' 'mail.com' 'me.com' 'outlook.es' 'cox.net' 'earthlink.net'\n",
      " 'embarqmail.com' 'web.de' 'sbcglobal.net' 'scranton.edu' 'mac.com'\n",
      " 'twc.com' 'roadrunner.com' 'yahoo.fr' 'yahoo.de' 'yahoo.es'\n",
      " 'frontiernet.net' 'gmail' 'live.fr' 'q.com' 'prodigy.net.mx'\n",
      " 'yahoo.co.uk' 'windstream.net' 'suddenlink.net' 'hotmail.fr' 'ptd.net'\n",
      " 'hotmail.de' 'frontier.com' 'cfl.rr.com' 'hotmail.co.uk' 'netzero.com'\n",
      " 'netzero.net' 'yahoo.co.jp' 'rocketmail.com' 'centurylink.net'\n",
      " 'protonmail.com' 'cableone.net' 'sc.rr.com'] R_emaildomain\n",
      "[nan 'T' 'F'] M1\n",
      "[nan 'T' 'F'] M2\n",
      "[nan 'T' 'F'] M3\n",
      "[nan 'M0' 'M2' 'M1'] M4\n",
      "[nan 'F' 'T'] M5\n",
      "[nan 'T' 'F'] M6\n",
      "[nan 'F' 'T'] M7\n",
      "[nan 'F' 'T'] M8\n",
      "[nan 'F' 'T'] M9\n"
     ]
    }
   ],
   "source": [
    "find_unique(object_columns)"
   ]
  },
  {
   "cell_type": "code",
   "execution_count": 21,
   "metadata": {},
   "outputs": [
    {
     "output_type": "execute_result",
     "data": {
      "text/plain": [
       "id_30\n",
       "Android             1079\n",
       "Android 4.4.2         63\n",
       "Android 5.0           41\n",
       "Android 5.0.2         55\n",
       "Android 5.1.1        350\n",
       "Android 6.0           80\n",
       "Android 6.0.1        566\n",
       "Android 7.0         2871\n",
       "Android 7.1.1        630\n",
       "Android 7.1.2         33\n",
       "Android 8.0.0        343\n",
       "Android 8.1.0        192\n",
       "Linux               1136\n",
       "Mac                  303\n",
       "Mac OS X 10.10       135\n",
       "Mac OS X 10.11       200\n",
       "Mac OS X 10.12       218\n",
       "Mac OS X 10.13       287\n",
       "Mac OS X 10.6         49\n",
       "Mac OS X 10.9         58\n",
       "Mac OS X 10_10_5    1651\n",
       "Mac OS X 10_11_3      54\n",
       "Mac OS X 10_11_4      53\n",
       "Mac OS X 10_11_5      82\n",
       "Mac OS X 10_11_6    2348\n",
       "Mac OS X 10_12        49\n",
       "Mac OS X 10_12_1      44\n",
       "Mac OS X 10_12_2      33\n",
       "Mac OS X 10_12_3      95\n",
       "Mac OS X 10_12_4     103\n",
       "                    ... \n",
       "Windows 8.1         1914\n",
       "Windows Vista        246\n",
       "Windows XP           131\n",
       "func                  10\n",
       "iOS                  274\n",
       "iOS 10.0.2            95\n",
       "iOS 10.1.1            96\n",
       "iOS 10.2.0           149\n",
       "iOS 10.2.1           285\n",
       "iOS 10.3.1           236\n",
       "iOS 10.3.2           428\n",
       "iOS 10.3.3          1558\n",
       "iOS 11.0.0           144\n",
       "iOS 11.0.1           127\n",
       "iOS 11.0.2           166\n",
       "iOS 11.0.3           659\n",
       "iOS 11.1.0           271\n",
       "iOS 11.1.1           700\n",
       "iOS 11.1.2          3699\n",
       "iOS 11.2.0           852\n",
       "iOS 11.2.1          3722\n",
       "iOS 11.2.2           902\n",
       "iOS 11.2.5          1200\n",
       "iOS 11.2.6          1647\n",
       "iOS 11.3.0          2016\n",
       "iOS 11.3.1           136\n",
       "iOS 11.4.0             5\n",
       "iOS 11.4.1             1\n",
       "iOS 9.3.5            414\n",
       "other                 15\n",
       "Name: id_31, Length: 75, dtype: int64"
      ]
     },
     "metadata": {},
     "execution_count": 21
    }
   ],
   "source": [
    "id_30_count = object_columns.groupby('id_30').aggregate(len)\n",
    "os_type = id_30_count['id_31']\n",
    "os_type "
   ]
  },
  {
   "cell_type": "code",
   "execution_count": 81,
   "metadata": {},
   "outputs": [
    {
     "output_type": "execute_result",
     "data": {
      "text/plain": [
       "id_33\n",
       "1920x1080    16874\n",
       "1366x768      8605\n",
       "1334x750      6447\n",
       "2208x1242     4900\n",
       "1440x900      4384\n",
       "1600x900      3510\n",
       "2048x1536     3482\n",
       "1280x800      2149\n",
       "2560x1600     2093\n",
       "2560x1440     1865\n",
       "2880x1800     1756\n",
       "1280x1024     1743\n",
       "1680x1050     1727\n",
       "1136x640      1712\n",
       "2436x1125     1484\n",
       "1280x720      1318\n",
       "1920x1200     1056\n",
       "2001x1125     1020\n",
       "1024x768       824\n",
       "2220x1080      544\n",
       "5120x2880      397\n",
       "3360x2100      380\n",
       "2732x2048      354\n",
       "1366x767       335\n",
       "3840x2160      263\n",
       "855x480        250\n",
       "2736x1824      241\n",
       "1360x768       224\n",
       "4096x2304      208\n",
       "2224x1668      194\n",
       "             ...  \n",
       "2159x1440        1\n",
       "2159x1439        1\n",
       "2710x1440        1\n",
       "1638x922         1\n",
       "3360x1050        1\n",
       "2736x1823        1\n",
       "1366x1024        1\n",
       "3199x1800        1\n",
       "3072x1728        1\n",
       "1400x900         1\n",
       "1408x792         1\n",
       "1422x889         1\n",
       "1439x809         1\n",
       "1440x759         1\n",
       "1440x800         1\n",
       "1440x803         1\n",
       "3001x2000        1\n",
       "2999x2000        1\n",
       "1441x901         1\n",
       "1496x844         1\n",
       "2882x1442        1\n",
       "1502x845         1\n",
       "1511x944         1\n",
       "1536x1152        1\n",
       "2816x1760        1\n",
       "1536x960         1\n",
       "1596x710         1\n",
       "2816x1584        1\n",
       "2800x1575        1\n",
       "976x600          1\n",
       "Name: id_34, Length: 260, dtype: int64"
      ]
     },
     "metadata": {},
     "execution_count": 81
    }
   ],
   "source": [
    "# My way of doing \"Frequency Encoding\"\n",
    "\n",
    "id_33_count = object_columns.groupby('id_33').aggregate(len)\n",
    "resolution_type = id_33_count['id_34']\n",
    "resolution_type.sort_values(ascending=False)"
   ]
  },
  {
   "source": [
    "## Export the list(s) above to CSV to have a better view. "
   ],
   "cell_type": "markdown",
   "metadata": {}
  },
  {
   "cell_type": "code",
   "execution_count": 66,
   "metadata": {},
   "outputs": [],
   "source": [
    "save_path =r'D:/Datasets/'\n",
    "\n",
    "# device_browsers = device_type.sort_values(ascending=False).reset_index()\n",
    "\n",
    "# device_browsers.to_csv(save_path + 'device_type_list.csv')"
   ]
  },
  {
   "cell_type": "code",
   "execution_count": 82,
   "metadata": {},
   "outputs": [],
   "source": [
    "# screen_resolutions = resolution_type.sort_values(ascending=False).reset_index()\n",
    "# screen_resolutions.to_csv(save_path + 'screen_resolutions.csv')"
   ]
  },
  {
   "cell_type": "code",
   "execution_count": 70,
   "metadata": {},
   "outputs": [],
   "source": [
    "# Seperating the OS from the OS Version \n",
    "import re\n",
    "\n",
    "os_only = [r\"^.*Android.*$\", r\"^.*iOS.*$\", r\"^.*Mac OS.*$\", r\"^.*Windows.*$\", r\"^.*Linux.*$\", r\"^.*other.*$\", r\"^.*func.*$\", r\"^.*Mac.*$\"]\n",
    "\n",
    "os_lst = ['Android', 'iOS', 'Mac OS', 'Windows', 'Linux', 'other', 'func', 'Mac']\n",
    "\n",
    "obj_columns = object_columns.copy()\n",
    "\n",
    "obj_columns['id_30'].replace(to_replace=os_only, value=os_lst, regex=True, inplace=True);"
   ]
  },
  {
   "cell_type": "code",
   "execution_count": 72,
   "metadata": {},
   "outputs": [],
   "source": [
    "browser_list = [r\"^.*chrome.*$\", r\"^.*mobile safari.*$\", r\"^.*ie.*$\", r\"^.*edge.*$\", r\"^.*[Ff]irefox.*$\", r\"^.*[Ss]amsung.*$\", r\"^.*android.*$\", r\"^.*opera.*$\", r\"^.*safari.*$\", r\"^.*Microsoft/Windows.*$\", r\"^.*silk.*$\", r\"^.*ZTE/Blade.*$\"]\n",
    "\n",
    "browsers = ['Chrome', 'mobile safari', 'ie', 'edge', 'Firefox', 'Samsung', 'android', 'opera', 'safari', 'Microsoft/Windows', 'silk', 'ZTE/Blade']\n",
    "\n",
    "obj_columns = obj_columns.copy()\n",
    "\n",
    "obj_columns['id_31'].replace(to_replace=browser_list, value=browsers, regex=True, inplace=True);"
   ]
  },
  {
   "cell_type": "code",
   "execution_count": 23,
   "metadata": {},
   "outputs": [
    {
     "output_type": "stream",
     "name": "stdout",
     "text": [
      "isFraud    20663\ndtype: int64 Is Fraud\nisFraud    569877\ndtype: int64 Is not Fraud\n"
     ]
    }
   ],
   "source": [
    "# How many transactions were found to be fraud?\n",
    "\n",
    "# print(train[train['isFraud']== 1].count(), 'Fraud')\n",
    "# print(train[train['isFraud']== 0].count(), 'Not Fraud')\n",
    "\n",
    "fraud_column = train[['isFraud']]\n",
    "# fraud_column.head()\n",
    "is_fraud = fraud_column[fraud_column['isFraud']==1]\n",
    "not_fraud = fraud_column[fraud_column['isFraud']==0]\n",
    "print(is_fraud.count(), 'Is Fraud')\n",
    "print(not_fraud.count(), 'Is not Fraud')\n"
   ]
  },
  {
   "cell_type": "code",
   "execution_count": 24,
   "metadata": {},
   "outputs": [
    {
     "output_type": "execute_result",
     "data": {
      "text/plain": [
       "       Not Fraud  Is Fraud\n",
       "Count     569877     20663"
      ],
      "text/html": "<div>\n<style scoped>\n    .dataframe tbody tr th:only-of-type {\n        vertical-align: middle;\n    }\n\n    .dataframe tbody tr th {\n        vertical-align: top;\n    }\n\n    .dataframe thead th {\n        text-align: right;\n    }\n</style>\n<table border=\"1\" class=\"dataframe\">\n  <thead>\n    <tr style=\"text-align: right;\">\n      <th></th>\n      <th>Not Fraud</th>\n      <th>Is Fraud</th>\n    </tr>\n  </thead>\n  <tbody>\n    <tr>\n      <th>Count</th>\n      <td>569877</td>\n      <td>20663</td>\n    </tr>\n  </tbody>\n</table>\n</div>"
     },
     "metadata": {},
     "execution_count": 24
    }
   ],
   "source": [
    "fraud_df = pd.DataFrame({\n",
    "    \"Not Fraud\": not_fraud.count(),\n",
    "    \"Is Fraud\": is_fraud.count(),\n",
    "})\n",
    "\n",
    "fraud_df.rename(index={'isFraud': 'Count'})"
   ]
  },
  {
   "cell_type": "code",
   "execution_count": 25,
   "metadata": {},
   "outputs": [],
   "source": [
    "from sklearn.pipeline import Pipeline\n",
    "from sklearn.compose import ColumnTransformer\n",
    "from sklearn.preprocessing import StandardScaler\n",
    "from sklearn.preprocessing import OneHotEncoder\n",
    "from sklearn.impute import SimpleImputer\n",
    "\n",
    "\n",
    "num_pipeline = Pipeline([\n",
    "    \n",
    "(\"num_cols\", SimpleImputer(strategy='most_frequent')),\n",
    "\n",
    "])\n",
    "\n",
    "cat_pipeline = Pipeline([\n",
    "\n",
    "    (\"cat_col\", SimpleImputer(strategy='most_frequent')),\n",
    "    (\"encoder\", OneHotEncoder()),\n",
    "])\n",
    "\n",
    "\n",
    "number_columns = list(num_columns.columns)\n",
    "category_columns = list(object_columns.columns) \n",
    "\n",
    "full_pipeline = ColumnTransformer([\n",
    "    (\"num_pipeline\", num_pipeline, number_columns),\n",
    "    (\"cat_pipeline\", cat_pipeline, category_columns),\n",
    "])\n",
    "\n"
   ]
  },
  {
   "cell_type": "code",
   "execution_count": 26,
   "metadata": {},
   "outputs": [],
   "source": [
    "X_trainsformed = full_pipeline.fit_transform(X_train)"
   ]
  },
  {
   "source": [
    "# Select Model and Train "
   ],
   "cell_type": "markdown",
   "metadata": {}
  },
  {
   "cell_type": "code",
   "execution_count": 27,
   "metadata": {},
   "outputs": [
    {
     "output_type": "stream",
     "name": "stderr",
     "text": [
      "C:\\Users\\Khemra\\Anaconda3\\envs\\tf_scikit\\lib\\site-packages\\sklearn\\linear_model\\logistic.py:432: FutureWarning: Default solver will be changed to 'lbfgs' in 0.22. Specify a solver to silence this warning.\n  FutureWarning)\n"
     ]
    },
    {
     "output_type": "execute_result",
     "data": {
      "text/plain": [
       "LogisticRegression(C=1.0, class_weight=None, dual=False, fit_intercept=True,\n",
       "                   intercept_scaling=1, l1_ratio=None, max_iter=100,\n",
       "                   multi_class='warn', n_jobs=None, penalty='l2',\n",
       "                   random_state=None, solver='warn', tol=0.0001, verbose=0,\n",
       "                   warm_start=False)"
      ]
     },
     "metadata": {},
     "execution_count": 27
    }
   ],
   "source": [
    "from sklearn.linear_model import LogisticRegression\n",
    "\n",
    "log_clf = LogisticRegression()\n",
    "\n",
    "log_clf.fit(X_trainsformed, y_train)"
   ]
  },
  {
   "source": [
    "# Test Data Set "
   ],
   "cell_type": "markdown",
   "metadata": {}
  },
  {
   "cell_type": "code",
   "execution_count": 28,
   "metadata": {},
   "outputs": [
    {
     "output_type": "execute_result",
     "data": {
      "text/plain": [
       "(506691, 433)"
      ]
     },
     "metadata": {},
     "execution_count": 28
    }
   ],
   "source": [
    "test_ids = 'D:/Datasets/fraud_detection/test_identity.csv'\n",
    "test_trans = 'D:/Datasets/fraud_detection/test_transaction.csv' \n",
    "\n",
    "test_id = pd.read_csv(test_ids)\n",
    "test_tran = pd.read_csv(test_trans)\n",
    "\n",
    "# Merge the two data sets\n",
    "\n",
    "test = test_id.merge(test_tran, how='right', on='TransactionID')\n",
    "test.shape"
   ]
  },
  {
   "cell_type": "code",
   "execution_count": 29,
   "metadata": {},
   "outputs": [
    {
     "output_type": "execute_result",
     "data": {
      "text/plain": [
       "   TransactionID  id-01     id-02  id-03  id-04  id-05  id-06  id-07  id-08  \\\n",
       "0        3663586  -45.0  280290.0    NaN    NaN    0.0    0.0    NaN    NaN   \n",
       "1        3663588    0.0    3579.0    0.0    0.0    0.0    0.0    NaN    NaN   \n",
       "2        3663597   -5.0  185210.0    NaN    NaN    1.0    0.0    NaN    NaN   \n",
       "3        3663601  -45.0  252944.0    0.0    0.0    0.0    0.0    NaN    NaN   \n",
       "4        3663602  -95.0  328680.0    NaN    NaN    7.0  -33.0    NaN    NaN   \n",
       "\n",
       "   id-09  ...  V330  V331   V332  V333  V334   V335  V336  V337  V338  V339  \n",
       "0    NaN  ...   NaN   NaN    NaN   NaN   NaN    NaN   NaN   NaN   NaN   NaN  \n",
       "1    0.0  ...   0.0   0.0  310.0  90.0   0.0  310.0  90.0   0.0   0.0   0.0  \n",
       "2    NaN  ...   NaN   NaN    NaN   NaN   NaN    NaN   NaN   NaN   NaN   NaN  \n",
       "3    0.0  ...   NaN   NaN    NaN   NaN   NaN    NaN   NaN   NaN   NaN   NaN  \n",
       "4    NaN  ...   NaN   NaN    NaN   NaN   NaN    NaN   NaN   NaN   NaN   NaN  \n",
       "\n",
       "[5 rows x 433 columns]"
      ],
      "text/html": "<div>\n<style scoped>\n    .dataframe tbody tr th:only-of-type {\n        vertical-align: middle;\n    }\n\n    .dataframe tbody tr th {\n        vertical-align: top;\n    }\n\n    .dataframe thead th {\n        text-align: right;\n    }\n</style>\n<table border=\"1\" class=\"dataframe\">\n  <thead>\n    <tr style=\"text-align: right;\">\n      <th></th>\n      <th>TransactionID</th>\n      <th>id-01</th>\n      <th>id-02</th>\n      <th>id-03</th>\n      <th>id-04</th>\n      <th>id-05</th>\n      <th>id-06</th>\n      <th>id-07</th>\n      <th>id-08</th>\n      <th>id-09</th>\n      <th>...</th>\n      <th>V330</th>\n      <th>V331</th>\n      <th>V332</th>\n      <th>V333</th>\n      <th>V334</th>\n      <th>V335</th>\n      <th>V336</th>\n      <th>V337</th>\n      <th>V338</th>\n      <th>V339</th>\n    </tr>\n  </thead>\n  <tbody>\n    <tr>\n      <th>0</th>\n      <td>3663586</td>\n      <td>-45.0</td>\n      <td>280290.0</td>\n      <td>NaN</td>\n      <td>NaN</td>\n      <td>0.0</td>\n      <td>0.0</td>\n      <td>NaN</td>\n      <td>NaN</td>\n      <td>NaN</td>\n      <td>...</td>\n      <td>NaN</td>\n      <td>NaN</td>\n      <td>NaN</td>\n      <td>NaN</td>\n      <td>NaN</td>\n      <td>NaN</td>\n      <td>NaN</td>\n      <td>NaN</td>\n      <td>NaN</td>\n      <td>NaN</td>\n    </tr>\n    <tr>\n      <th>1</th>\n      <td>3663588</td>\n      <td>0.0</td>\n      <td>3579.0</td>\n      <td>0.0</td>\n      <td>0.0</td>\n      <td>0.0</td>\n      <td>0.0</td>\n      <td>NaN</td>\n      <td>NaN</td>\n      <td>0.0</td>\n      <td>...</td>\n      <td>0.0</td>\n      <td>0.0</td>\n      <td>310.0</td>\n      <td>90.0</td>\n      <td>0.0</td>\n      <td>310.0</td>\n      <td>90.0</td>\n      <td>0.0</td>\n      <td>0.0</td>\n      <td>0.0</td>\n    </tr>\n    <tr>\n      <th>2</th>\n      <td>3663597</td>\n      <td>-5.0</td>\n      <td>185210.0</td>\n      <td>NaN</td>\n      <td>NaN</td>\n      <td>1.0</td>\n      <td>0.0</td>\n      <td>NaN</td>\n      <td>NaN</td>\n      <td>NaN</td>\n      <td>...</td>\n      <td>NaN</td>\n      <td>NaN</td>\n      <td>NaN</td>\n      <td>NaN</td>\n      <td>NaN</td>\n      <td>NaN</td>\n      <td>NaN</td>\n      <td>NaN</td>\n      <td>NaN</td>\n      <td>NaN</td>\n    </tr>\n    <tr>\n      <th>3</th>\n      <td>3663601</td>\n      <td>-45.0</td>\n      <td>252944.0</td>\n      <td>0.0</td>\n      <td>0.0</td>\n      <td>0.0</td>\n      <td>0.0</td>\n      <td>NaN</td>\n      <td>NaN</td>\n      <td>0.0</td>\n      <td>...</td>\n      <td>NaN</td>\n      <td>NaN</td>\n      <td>NaN</td>\n      <td>NaN</td>\n      <td>NaN</td>\n      <td>NaN</td>\n      <td>NaN</td>\n      <td>NaN</td>\n      <td>NaN</td>\n      <td>NaN</td>\n    </tr>\n    <tr>\n      <th>4</th>\n      <td>3663602</td>\n      <td>-95.0</td>\n      <td>328680.0</td>\n      <td>NaN</td>\n      <td>NaN</td>\n      <td>7.0</td>\n      <td>-33.0</td>\n      <td>NaN</td>\n      <td>NaN</td>\n      <td>NaN</td>\n      <td>...</td>\n      <td>NaN</td>\n      <td>NaN</td>\n      <td>NaN</td>\n      <td>NaN</td>\n      <td>NaN</td>\n      <td>NaN</td>\n      <td>NaN</td>\n      <td>NaN</td>\n      <td>NaN</td>\n      <td>NaN</td>\n    </tr>\n  </tbody>\n</table>\n<p>5 rows × 433 columns</p>\n</div>"
     },
     "metadata": {},
     "execution_count": 29
    }
   ],
   "source": [
    "test.head()"
   ]
  },
  {
   "cell_type": "code",
   "execution_count": 30,
   "metadata": {},
   "outputs": [],
   "source": [
    "test_num_columns = list(test.select_dtypes(include=['float64', 'int64']))\n",
    "test_obj_columns = list(test.select_dtypes(include=['object']))"
   ]
  },
  {
   "cell_type": "code",
   "execution_count": 31,
   "metadata": {},
   "outputs": [],
   "source": [
    "# transform the test data to the pipeline \n",
    "\n",
    "# X_test_tr = full_pipeline.transform(test)"
   ]
  },
  {
   "source": [
    "### Splitting\n",
    "1. Some ppl are using handle_unknown='ignore' with the encoder \n",
    "2. Split the OS with the version type of OS\n",
    "3. Split the Browser from the version or type (just show browser only).\n",
    "\n",
    "\n",
    "### I need to find a way to feature engineer or drop columns that are not beneficial \n",
    "\n",
    "\n",
    "### Aggregations / Group Statistics \n",
    "- This create a column that will tell what the average TransAmount is for card1 group. This way abnormal transactionAmt for the card1 group can be spotted if it is different from the average. \n",
    "\n",
    "- This is calculated by 3 variables: group, variable of interest, and type of statistic\n",
    "\n",
    "temp = df.groupby('card1')['TransactionAmt'].agg(['mean']).rename({'mean':'TransactionAmt_card1_mean'}, axis=1)\n",
    "\n",
    "df = pd.merge(df, temp, on='card1', how='left')\n",
    "\n",
    "\n",
    "### Normalize/Stadardize the data. \n",
    "\n",
    "### Outlier Removal/PCA\n",
    "\n",
    "- To determine and remove uncommon values. \n",
    "- For example, using freq encoding of a variable you can remove all values that appear less than 0.1% by replacing them with -9999. Just use a value different that what you use for NaN. "
   ],
   "cell_type": "markdown",
   "metadata": {}
  },
  {
   "cell_type": "code",
   "execution_count": null,
   "metadata": {},
   "outputs": [],
   "source": []
  }
 ]
}