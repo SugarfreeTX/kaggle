{
 "metadata": {
  "language_info": {
   "codemirror_mode": {
    "name": "ipython",
    "version": 3
   },
   "file_extension": ".py",
   "mimetype": "text/x-python",
   "name": "python",
   "nbconvert_exporter": "python",
   "pygments_lexer": "ipython3",
   "version": "3.7.3-final"
  },
  "orig_nbformat": 2,
  "kernelspec": {
   "name": "python3",
   "display_name": "Python 3.7.3 64-bit ('tf_scikit': conda)"
  }
 },
 "nbformat": 4,
 "nbformat_minor": 2,
 "cells": [
  {
   "cell_type": "code",
   "execution_count": 5,
   "metadata": {},
   "outputs": [],
   "source": [
    "import pandas as pd \n",
    "import numpy as np \n",
    "import matplotlib.pyplot as plt \n",
    "from sklearn.impute import SimpleImputer\n",
    "from sklearn.model_selection import train_test_split\n"
   ]
  },
  {
   "cell_type": "code",
   "execution_count": 6,
   "metadata": {},
   "outputs": [
    {
     "output_type": "stream",
     "name": "stdout",
     "text": [
      "0.21.2\n"
     ]
    }
   ],
   "source": [
    "import sklearn\n",
    "print(sklearn.__version__)"
   ]
  },
  {
   "cell_type": "code",
   "execution_count": 7,
   "metadata": {},
   "outputs": [],
   "source": [
    "data_path = 'D:/Datasets/Titanic/train_test_cabin.csv'"
   ]
  },
  {
   "cell_type": "code",
   "execution_count": 8,
   "metadata": {},
   "outputs": [
    {
     "output_type": "execute_result",
     "data": {
      "text/plain": [
       "   PassengerId  Survived  Pclass  \\\n",
       "0            1       0.0       3   \n",
       "1            2       1.0       1   \n",
       "2            3       1.0       3   \n",
       "3            4       1.0       1   \n",
       "4            5       0.0       3   \n",
       "\n",
       "                                                Name     Sex   Age  SibSp  \\\n",
       "0                            Braund, Mr. Owen Harris    male  22.0      1   \n",
       "1  Cumings, Mrs. John Bradley (Florence Briggs Th...  female  38.0      1   \n",
       "2                             Heikkinen, Miss. Laina  female  26.0      0   \n",
       "3       Futrelle, Mrs. Jacques Heath (Lily May Peel)  female  35.0      1   \n",
       "4                           Allen, Mr. William Henry    male  35.0      0   \n",
       "\n",
       "   Parch            Ticket  Fare Cabin Embarked  \n",
       "0      0         A/5 21171   7.0   NaN        S  \n",
       "1      0          PC 17599  71.0   C85        C  \n",
       "2      0  STON/O2. 3101282   8.0   NaN        S  \n",
       "3      0            113803  53.0  C123        S  \n",
       "4      0            373450   8.0   NaN        S  "
      ],
      "text/html": "<div>\n<style scoped>\n    .dataframe tbody tr th:only-of-type {\n        vertical-align: middle;\n    }\n\n    .dataframe tbody tr th {\n        vertical-align: top;\n    }\n\n    .dataframe thead th {\n        text-align: right;\n    }\n</style>\n<table border=\"1\" class=\"dataframe\">\n  <thead>\n    <tr style=\"text-align: right;\">\n      <th></th>\n      <th>PassengerId</th>\n      <th>Survived</th>\n      <th>Pclass</th>\n      <th>Name</th>\n      <th>Sex</th>\n      <th>Age</th>\n      <th>SibSp</th>\n      <th>Parch</th>\n      <th>Ticket</th>\n      <th>Fare</th>\n      <th>Cabin</th>\n      <th>Embarked</th>\n    </tr>\n  </thead>\n  <tbody>\n    <tr>\n      <th>0</th>\n      <td>1</td>\n      <td>0.0</td>\n      <td>3</td>\n      <td>Braund, Mr. Owen Harris</td>\n      <td>male</td>\n      <td>22.0</td>\n      <td>1</td>\n      <td>0</td>\n      <td>A/5 21171</td>\n      <td>7.0</td>\n      <td>NaN</td>\n      <td>S</td>\n    </tr>\n    <tr>\n      <th>1</th>\n      <td>2</td>\n      <td>1.0</td>\n      <td>1</td>\n      <td>Cumings, Mrs. John Bradley (Florence Briggs Th...</td>\n      <td>female</td>\n      <td>38.0</td>\n      <td>1</td>\n      <td>0</td>\n      <td>PC 17599</td>\n      <td>71.0</td>\n      <td>C85</td>\n      <td>C</td>\n    </tr>\n    <tr>\n      <th>2</th>\n      <td>3</td>\n      <td>1.0</td>\n      <td>3</td>\n      <td>Heikkinen, Miss. Laina</td>\n      <td>female</td>\n      <td>26.0</td>\n      <td>0</td>\n      <td>0</td>\n      <td>STON/O2. 3101282</td>\n      <td>8.0</td>\n      <td>NaN</td>\n      <td>S</td>\n    </tr>\n    <tr>\n      <th>3</th>\n      <td>4</td>\n      <td>1.0</td>\n      <td>1</td>\n      <td>Futrelle, Mrs. Jacques Heath (Lily May Peel)</td>\n      <td>female</td>\n      <td>35.0</td>\n      <td>1</td>\n      <td>0</td>\n      <td>113803</td>\n      <td>53.0</td>\n      <td>C123</td>\n      <td>S</td>\n    </tr>\n    <tr>\n      <th>4</th>\n      <td>5</td>\n      <td>0.0</td>\n      <td>3</td>\n      <td>Allen, Mr. William Henry</td>\n      <td>male</td>\n      <td>35.0</td>\n      <td>0</td>\n      <td>0</td>\n      <td>373450</td>\n      <td>8.0</td>\n      <td>NaN</td>\n      <td>S</td>\n    </tr>\n  </tbody>\n</table>\n</div>"
     },
     "metadata": {},
     "execution_count": 8
    }
   ],
   "source": [
    "data = pd.read_csv(data_path).round()\n",
    "data.head()"
   ]
  },
  {
   "cell_type": "code",
   "execution_count": 9,
   "metadata": {},
   "outputs": [
    {
     "output_type": "execute_result",
     "data": {
      "text/plain": [
       "   PassengerId  Survived  Pclass     Sex   Age  SibSp  Parch  Fare Cabin  \\\n",
       "0            1       0.0       3    male  22.0      1      0   7.0   NaN   \n",
       "1            2       1.0       1  female  38.0      1      0  71.0   C85   \n",
       "2            3       1.0       3  female  26.0      0      0   8.0   NaN   \n",
       "3            4       1.0       1  female  35.0      1      0  53.0  C123   \n",
       "4            5       0.0       3    male  35.0      0      0   8.0   NaN   \n",
       "\n",
       "  Embarked  \n",
       "0        S  \n",
       "1        C  \n",
       "2        S  \n",
       "3        S  \n",
       "4        S  "
      ],
      "text/html": "<div>\n<style scoped>\n    .dataframe tbody tr th:only-of-type {\n        vertical-align: middle;\n    }\n\n    .dataframe tbody tr th {\n        vertical-align: top;\n    }\n\n    .dataframe thead th {\n        text-align: right;\n    }\n</style>\n<table border=\"1\" class=\"dataframe\">\n  <thead>\n    <tr style=\"text-align: right;\">\n      <th></th>\n      <th>PassengerId</th>\n      <th>Survived</th>\n      <th>Pclass</th>\n      <th>Sex</th>\n      <th>Age</th>\n      <th>SibSp</th>\n      <th>Parch</th>\n      <th>Fare</th>\n      <th>Cabin</th>\n      <th>Embarked</th>\n    </tr>\n  </thead>\n  <tbody>\n    <tr>\n      <th>0</th>\n      <td>1</td>\n      <td>0.0</td>\n      <td>3</td>\n      <td>male</td>\n      <td>22.0</td>\n      <td>1</td>\n      <td>0</td>\n      <td>7.0</td>\n      <td>NaN</td>\n      <td>S</td>\n    </tr>\n    <tr>\n      <th>1</th>\n      <td>2</td>\n      <td>1.0</td>\n      <td>1</td>\n      <td>female</td>\n      <td>38.0</td>\n      <td>1</td>\n      <td>0</td>\n      <td>71.0</td>\n      <td>C85</td>\n      <td>C</td>\n    </tr>\n    <tr>\n      <th>2</th>\n      <td>3</td>\n      <td>1.0</td>\n      <td>3</td>\n      <td>female</td>\n      <td>26.0</td>\n      <td>0</td>\n      <td>0</td>\n      <td>8.0</td>\n      <td>NaN</td>\n      <td>S</td>\n    </tr>\n    <tr>\n      <th>3</th>\n      <td>4</td>\n      <td>1.0</td>\n      <td>1</td>\n      <td>female</td>\n      <td>35.0</td>\n      <td>1</td>\n      <td>0</td>\n      <td>53.0</td>\n      <td>C123</td>\n      <td>S</td>\n    </tr>\n    <tr>\n      <th>4</th>\n      <td>5</td>\n      <td>0.0</td>\n      <td>3</td>\n      <td>male</td>\n      <td>35.0</td>\n      <td>0</td>\n      <td>0</td>\n      <td>8.0</td>\n      <td>NaN</td>\n      <td>S</td>\n    </tr>\n  </tbody>\n</table>\n</div>"
     },
     "metadata": {},
     "execution_count": 9
    }
   ],
   "source": [
    "# Drop column Name and Ticket \n",
    "data_1 = data.drop(['Name', 'Ticket'], axis=1)\n",
    "data_1.head()"
   ]
  },
  {
   "cell_type": "code",
   "execution_count": 10,
   "metadata": {},
   "outputs": [
    {
     "output_type": "execute_result",
     "data": {
      "text/plain": [
       "PassengerId       0\n",
       "Survived        327\n",
       "Pclass            0\n",
       "Sex               0\n",
       "Age             240\n",
       "SibSp             0\n",
       "Parch             0\n",
       "Fare              1\n",
       "Cabin          1014\n",
       "Embarked          0\n",
       "dtype: int64"
      ]
     },
     "metadata": {},
     "execution_count": 10
    }
   ],
   "source": [
    "# Split up the NaN Cabin from the Cabin with values \n",
    "\n",
    "nan_cabin = data_1[data_1['Cabin'].isnull()]\n",
    "nan_cabin.isnull().sum()"
   ]
  },
  {
   "source": [
    "# Preprocess/Clean Train data "
   ],
   "cell_type": "markdown",
   "metadata": {}
  },
  {
   "cell_type": "code",
   "execution_count": 11,
   "metadata": {},
   "outputs": [
    {
     "output_type": "execute_result",
     "data": {
      "text/plain": [
       "    PassengerId  Survived  Pclass     Sex   Age  SibSp  Parch  Fare Cabin  \\\n",
       "1             2       1.0       1  female  38.0      1      0  71.0   C85   \n",
       "3             4       1.0       1  female  35.0      1      0  53.0  C123   \n",
       "6             7       0.0       1    male  54.0      0      0  52.0   E46   \n",
       "10           11       1.0       3  female   4.0      1      1  17.0    G6   \n",
       "11           12       1.0       1  female  58.0      0      0  27.0  C103   \n",
       "\n",
       "   Embarked  \n",
       "1         C  \n",
       "3         S  \n",
       "6         S  \n",
       "10        S  \n",
       "11        S  "
      ],
      "text/html": "<div>\n<style scoped>\n    .dataframe tbody tr th:only-of-type {\n        vertical-align: middle;\n    }\n\n    .dataframe tbody tr th {\n        vertical-align: top;\n    }\n\n    .dataframe thead th {\n        text-align: right;\n    }\n</style>\n<table border=\"1\" class=\"dataframe\">\n  <thead>\n    <tr style=\"text-align: right;\">\n      <th></th>\n      <th>PassengerId</th>\n      <th>Survived</th>\n      <th>Pclass</th>\n      <th>Sex</th>\n      <th>Age</th>\n      <th>SibSp</th>\n      <th>Parch</th>\n      <th>Fare</th>\n      <th>Cabin</th>\n      <th>Embarked</th>\n    </tr>\n  </thead>\n  <tbody>\n    <tr>\n      <th>1</th>\n      <td>2</td>\n      <td>1.0</td>\n      <td>1</td>\n      <td>female</td>\n      <td>38.0</td>\n      <td>1</td>\n      <td>0</td>\n      <td>71.0</td>\n      <td>C85</td>\n      <td>C</td>\n    </tr>\n    <tr>\n      <th>3</th>\n      <td>4</td>\n      <td>1.0</td>\n      <td>1</td>\n      <td>female</td>\n      <td>35.0</td>\n      <td>1</td>\n      <td>0</td>\n      <td>53.0</td>\n      <td>C123</td>\n      <td>S</td>\n    </tr>\n    <tr>\n      <th>6</th>\n      <td>7</td>\n      <td>0.0</td>\n      <td>1</td>\n      <td>male</td>\n      <td>54.0</td>\n      <td>0</td>\n      <td>0</td>\n      <td>52.0</td>\n      <td>E46</td>\n      <td>S</td>\n    </tr>\n    <tr>\n      <th>10</th>\n      <td>11</td>\n      <td>1.0</td>\n      <td>3</td>\n      <td>female</td>\n      <td>4.0</td>\n      <td>1</td>\n      <td>1</td>\n      <td>17.0</td>\n      <td>G6</td>\n      <td>S</td>\n    </tr>\n    <tr>\n      <th>11</th>\n      <td>12</td>\n      <td>1.0</td>\n      <td>1</td>\n      <td>female</td>\n      <td>58.0</td>\n      <td>0</td>\n      <td>0</td>\n      <td>27.0</td>\n      <td>C103</td>\n      <td>S</td>\n    </tr>\n  </tbody>\n</table>\n</div>"
     },
     "metadata": {},
     "execution_count": 11
    }
   ],
   "source": [
    "train_data = data_1[data_1['Cabin'].notnull()]\n",
    "train_data.head()"
   ]
  },
  {
   "cell_type": "code",
   "execution_count": 12,
   "metadata": {},
   "outputs": [
    {
     "output_type": "execute_result",
     "data": {
      "text/plain": [
       "PassengerId     0\n",
       "Survived       91\n",
       "Pclass          0\n",
       "Sex             0\n",
       "Age            23\n",
       "SibSp           0\n",
       "Parch           0\n",
       "Fare            0\n",
       "Cabin           0\n",
       "Embarked        2\n",
       "dtype: int64"
      ]
     },
     "metadata": {},
     "execution_count": 12
    }
   ],
   "source": [
    "train_data.isnull().sum()"
   ]
  },
  {
   "cell_type": "code",
   "execution_count": 13,
   "metadata": {},
   "outputs": [
    {
     "output_type": "execute_result",
     "data": {
      "text/plain": [
       "       PassengerId    Survived      Pclass         Age       SibSp  \\\n",
       "count   295.000000  204.000000  295.000000  272.000000  295.000000   \n",
       "mean    654.854237    0.666667    1.186441   36.915441    0.481356   \n",
       "std     371.450030    0.472564    0.510921   15.592251    0.632583   \n",
       "min       2.000000    0.000000    1.000000    1.000000    0.000000   \n",
       "25%     331.000000    0.000000    1.000000   25.000000    0.000000   \n",
       "50%     660.000000    1.000000    1.000000   36.000000    0.000000   \n",
       "75%     963.000000    1.000000    1.000000   48.000000    1.000000   \n",
       "max    1306.000000    1.000000    3.000000   80.000000    3.000000   \n",
       "\n",
       "            Parch        Fare  \n",
       "count  295.000000  295.000000  \n",
       "mean     0.444068   81.932203  \n",
       "std      0.766712   79.014780  \n",
       "min      0.000000    0.000000  \n",
       "25%      0.000000   30.000000  \n",
       "50%      0.000000   57.000000  \n",
       "75%      1.000000   92.500000  \n",
       "max      4.000000  512.000000  "
      ],
      "text/html": "<div>\n<style scoped>\n    .dataframe tbody tr th:only-of-type {\n        vertical-align: middle;\n    }\n\n    .dataframe tbody tr th {\n        vertical-align: top;\n    }\n\n    .dataframe thead th {\n        text-align: right;\n    }\n</style>\n<table border=\"1\" class=\"dataframe\">\n  <thead>\n    <tr style=\"text-align: right;\">\n      <th></th>\n      <th>PassengerId</th>\n      <th>Survived</th>\n      <th>Pclass</th>\n      <th>Age</th>\n      <th>SibSp</th>\n      <th>Parch</th>\n      <th>Fare</th>\n    </tr>\n  </thead>\n  <tbody>\n    <tr>\n      <th>count</th>\n      <td>295.000000</td>\n      <td>204.000000</td>\n      <td>295.000000</td>\n      <td>272.000000</td>\n      <td>295.000000</td>\n      <td>295.000000</td>\n      <td>295.000000</td>\n    </tr>\n    <tr>\n      <th>mean</th>\n      <td>654.854237</td>\n      <td>0.666667</td>\n      <td>1.186441</td>\n      <td>36.915441</td>\n      <td>0.481356</td>\n      <td>0.444068</td>\n      <td>81.932203</td>\n    </tr>\n    <tr>\n      <th>std</th>\n      <td>371.450030</td>\n      <td>0.472564</td>\n      <td>0.510921</td>\n      <td>15.592251</td>\n      <td>0.632583</td>\n      <td>0.766712</td>\n      <td>79.014780</td>\n    </tr>\n    <tr>\n      <th>min</th>\n      <td>2.000000</td>\n      <td>0.000000</td>\n      <td>1.000000</td>\n      <td>1.000000</td>\n      <td>0.000000</td>\n      <td>0.000000</td>\n      <td>0.000000</td>\n    </tr>\n    <tr>\n      <th>25%</th>\n      <td>331.000000</td>\n      <td>0.000000</td>\n      <td>1.000000</td>\n      <td>25.000000</td>\n      <td>0.000000</td>\n      <td>0.000000</td>\n      <td>30.000000</td>\n    </tr>\n    <tr>\n      <th>50%</th>\n      <td>660.000000</td>\n      <td>1.000000</td>\n      <td>1.000000</td>\n      <td>36.000000</td>\n      <td>0.000000</td>\n      <td>0.000000</td>\n      <td>57.000000</td>\n    </tr>\n    <tr>\n      <th>75%</th>\n      <td>963.000000</td>\n      <td>1.000000</td>\n      <td>1.000000</td>\n      <td>48.000000</td>\n      <td>1.000000</td>\n      <td>1.000000</td>\n      <td>92.500000</td>\n    </tr>\n    <tr>\n      <th>max</th>\n      <td>1306.000000</td>\n      <td>1.000000</td>\n      <td>3.000000</td>\n      <td>80.000000</td>\n      <td>3.000000</td>\n      <td>4.000000</td>\n      <td>512.000000</td>\n    </tr>\n  </tbody>\n</table>\n</div>"
     },
     "metadata": {},
     "execution_count": 13
    }
   ],
   "source": [
    "train_data.describe()"
   ]
  },
  {
   "cell_type": "code",
   "execution_count": 14,
   "metadata": {},
   "outputs": [
    {
     "output_type": "execute_result",
     "data": {
      "text/plain": [
       "1.0"
      ]
     },
     "metadata": {},
     "execution_count": 14
    }
   ],
   "source": [
    "train_data.Survived.median()"
   ]
  },
  {
   "cell_type": "code",
   "execution_count": 15,
   "metadata": {},
   "outputs": [
    {
     "output_type": "execute_result",
     "data": {
      "text/plain": [
       "36.0"
      ]
     },
     "metadata": {},
     "execution_count": 15
    }
   ],
   "source": [
    "train_data['Age'].median()"
   ]
  },
  {
   "cell_type": "code",
   "execution_count": 16,
   "metadata": {},
   "outputs": [
    {
     "output_type": "execute_result",
     "data": {
      "text/plain": [
       "array(['A10', 'A11', 'A14', 'A16', 'A18', 'A19', 'A20', 'A21', 'A23',\n",
       "       'A24', 'A26', 'A29', 'A31', 'A32', 'A34', 'A36', 'A5', 'A6', 'A7',\n",
       "       'A9', 'B10', 'B101', 'B102', 'B11', 'B18', 'B19', 'B20', 'B22',\n",
       "       'B24', 'B26', 'B28', 'B3', 'B30', 'B35', 'B36', 'B37', 'B38',\n",
       "       'B39', 'B4', 'B41', 'B42', 'B45', 'B49', 'B5', 'B50',\n",
       "       'B51 B53 B55', 'B52 B54 B56', 'B57 B59 B63 B66', 'B58 B60', 'B61',\n",
       "       'B69', 'B71', 'B73', 'B77', 'B78', 'B79', 'B80', 'B82 B84', 'B86',\n",
       "       'B94', 'B96 B98', 'C101', 'C103', 'C104', 'C105', 'C106', 'C110',\n",
       "       'C111', 'C116', 'C118', 'C123', 'C124', 'C125', 'C126', 'C128',\n",
       "       'C130', 'C132', 'C148', 'C2', 'C22 C26', 'C23 C25 C27', 'C28',\n",
       "       'C30', 'C31', 'C32', 'C39', 'C45', 'C46', 'C47', 'C49', 'C50',\n",
       "       'C51', 'C52', 'C53', 'C54', 'C55 C57', 'C6', 'C62 C64', 'C65',\n",
       "       'C68', 'C7', 'C70', 'C78', 'C80', 'C82', 'C83', 'C85', 'C86',\n",
       "       'C87', 'C89', 'C90', 'C91', 'C92', 'C93', 'C95', 'C97', 'C99', 'D',\n",
       "       'D10 D12', 'D11', 'D15', 'D17', 'D19', 'D20', 'D21', 'D22', 'D26',\n",
       "       'D28', 'D30', 'D33', 'D34', 'D35', 'D36', 'D37', 'D38', 'D40',\n",
       "       'D43', 'D45', 'D46', 'D47', 'D48', 'D49', 'D50', 'D56', 'D6', 'D7',\n",
       "       'D9', 'E10', 'E101', 'E12', 'E121', 'E17', 'E24', 'E25', 'E31',\n",
       "       'E33', 'E34', 'E36', 'E38', 'E39 E41', 'E40', 'E44', 'E45', 'E46',\n",
       "       'E49', 'E50', 'E52', 'E58', 'E60', 'E63', 'E67', 'E68', 'E77',\n",
       "       'E8', 'F', 'F E46', 'F E57', 'F E69', 'F G63', 'F G73', 'F2',\n",
       "       'F33', 'F38', 'F4', 'G6', 'T'], dtype=object)"
      ]
     },
     "metadata": {},
     "execution_count": 16
    }
   ],
   "source": [
    "# I only want the letter in Cabin and not the numeric value that follows. So I want the section without the room number. \n",
    "\n",
    "train_data.Cabin.sort_values().unique()"
   ]
  },
  {
   "cell_type": "code",
   "execution_count": 17,
   "metadata": {},
   "outputs": [],
   "source": [
    "# A, B, C, D, E, F, G, T \n",
    "\n",
    "def cabin_letter(cabin):\n",
    "    \"\"\"Remove the numbers from the letter in cabin\"\"\"\n",
    "    list_a = [i for i in cabin['Cabin'] if i.startswith('A')]\n",
    "    list_b = [i for i in cabin['Cabin'] if i.startswith('B')]\n",
    "    list_c = [i for i in cabin['Cabin'] if i.startswith('C')]\n",
    "    list_d = [i for i in cabin['Cabin'] if i.startswith('D')]\n",
    "    list_e = [i for i in cabin['Cabin'] if i.startswith('E')]\n",
    "    list_f = [i for i in cabin['Cabin'] if i.startswith('F')]\n",
    "    list_g = [i for i in cabin['Cabin'] if i.startswith('G')]\n",
    "    list_t = [i for i in cabin['Cabin'] if i.startswith('T')]\n",
    "\n",
    "    cabin['Cabin_Section'] = cabin['Cabin'].replace(list_a, 'A').replace(list_b, 'B').replace(list_c, 'C').replace(list_d, 'D').replace(list_e, 'E').replace(list_f, 'F').replace(list_g, 'G').replace(list_t, 'T')\n",
    "    return cabin.drop(['Cabin'], axis=1) "
   ]
  },
  {
   "cell_type": "code",
   "execution_count": 18,
   "metadata": {},
   "outputs": [
    {
     "output_type": "stream",
     "name": "stderr",
     "text": [
      "C:\\Users\\Khemra\\Anaconda3\\envs\\tf_scikit\\lib\\site-packages\\ipykernel_launcher.py:14: SettingWithCopyWarning: \nA value is trying to be set on a copy of a slice from a DataFrame.\nTry using .loc[row_indexer,col_indexer] = value instead\n\nSee the caveats in the documentation: http://pandas.pydata.org/pandas-docs/stable/indexing.html#indexing-view-versus-copy\n  \n"
     ]
    },
    {
     "output_type": "execute_result",
     "data": {
      "text/plain": [
       "    PassengerId  Survived  Pclass     Sex   Age  SibSp  Parch  Fare Embarked  \\\n",
       "1             2       1.0       1  female  38.0      1      0  71.0        C   \n",
       "3             4       1.0       1  female  35.0      1      0  53.0        S   \n",
       "6             7       0.0       1    male  54.0      0      0  52.0        S   \n",
       "10           11       1.0       3  female   4.0      1      1  17.0        S   \n",
       "11           12       1.0       1  female  58.0      0      0  27.0        S   \n",
       "\n",
       "   Cabin_Section  \n",
       "1              C  \n",
       "3              C  \n",
       "6              E  \n",
       "10             G  \n",
       "11             C  "
      ],
      "text/html": "<div>\n<style scoped>\n    .dataframe tbody tr th:only-of-type {\n        vertical-align: middle;\n    }\n\n    .dataframe tbody tr th {\n        vertical-align: top;\n    }\n\n    .dataframe thead th {\n        text-align: right;\n    }\n</style>\n<table border=\"1\" class=\"dataframe\">\n  <thead>\n    <tr style=\"text-align: right;\">\n      <th></th>\n      <th>PassengerId</th>\n      <th>Survived</th>\n      <th>Pclass</th>\n      <th>Sex</th>\n      <th>Age</th>\n      <th>SibSp</th>\n      <th>Parch</th>\n      <th>Fare</th>\n      <th>Embarked</th>\n      <th>Cabin_Section</th>\n    </tr>\n  </thead>\n  <tbody>\n    <tr>\n      <th>1</th>\n      <td>2</td>\n      <td>1.0</td>\n      <td>1</td>\n      <td>female</td>\n      <td>38.0</td>\n      <td>1</td>\n      <td>0</td>\n      <td>71.0</td>\n      <td>C</td>\n      <td>C</td>\n    </tr>\n    <tr>\n      <th>3</th>\n      <td>4</td>\n      <td>1.0</td>\n      <td>1</td>\n      <td>female</td>\n      <td>35.0</td>\n      <td>1</td>\n      <td>0</td>\n      <td>53.0</td>\n      <td>S</td>\n      <td>C</td>\n    </tr>\n    <tr>\n      <th>6</th>\n      <td>7</td>\n      <td>0.0</td>\n      <td>1</td>\n      <td>male</td>\n      <td>54.0</td>\n      <td>0</td>\n      <td>0</td>\n      <td>52.0</td>\n      <td>S</td>\n      <td>E</td>\n    </tr>\n    <tr>\n      <th>10</th>\n      <td>11</td>\n      <td>1.0</td>\n      <td>3</td>\n      <td>female</td>\n      <td>4.0</td>\n      <td>1</td>\n      <td>1</td>\n      <td>17.0</td>\n      <td>S</td>\n      <td>G</td>\n    </tr>\n    <tr>\n      <th>11</th>\n      <td>12</td>\n      <td>1.0</td>\n      <td>1</td>\n      <td>female</td>\n      <td>58.0</td>\n      <td>0</td>\n      <td>0</td>\n      <td>27.0</td>\n      <td>S</td>\n      <td>C</td>\n    </tr>\n  </tbody>\n</table>\n</div>"
     },
     "metadata": {},
     "execution_count": 18
    }
   ],
   "source": [
    "train = cabin_letter(train_data)\n",
    "train.head()"
   ]
  },
  {
   "cell_type": "code",
   "execution_count": 19,
   "metadata": {},
   "outputs": [
    {
     "output_type": "stream",
     "name": "stdout",
     "text": [
      "<class 'pandas.core.frame.DataFrame'>\nInt64Index: 295 entries, 1 to 1305\nData columns (total 10 columns):\nPassengerId      295 non-null int64\nSurvived         204 non-null float64\nPclass           295 non-null int64\nSex              295 non-null object\nAge              272 non-null float64\nSibSp            295 non-null int64\nParch            295 non-null int64\nFare             295 non-null float64\nEmbarked         293 non-null object\nCabin_Section    295 non-null object\ndtypes: float64(3), int64(4), object(3)\nmemory usage: 25.4+ KB\n"
     ]
    }
   ],
   "source": [
    "train.info()"
   ]
  },
  {
   "cell_type": "code",
   "execution_count": 20,
   "metadata": {},
   "outputs": [
    {
     "output_type": "execute_result",
     "data": {
      "text/plain": [
       "PassengerId       0\n",
       "Survived         91\n",
       "Pclass            0\n",
       "Sex               0\n",
       "Age              23\n",
       "SibSp             0\n",
       "Parch             0\n",
       "Fare              0\n",
       "Embarked          2\n",
       "Cabin_Section     0\n",
       "dtype: int64"
      ]
     },
     "metadata": {},
     "execution_count": 20
    }
   ],
   "source": [
    "train.isnull().sum()"
   ]
  },
  {
   "cell_type": "code",
   "execution_count": 21,
   "metadata": {},
   "outputs": [],
   "source": [
    "X = train.drop(['Cabin_Section'], axis=1)\n",
    "y = train['Cabin_Section']\n",
    "\n",
    "X_train, X_test, y_train, y_test = train_test_split(X, y, test_size=0.2, random_state=42)"
   ]
  },
  {
   "cell_type": "code",
   "execution_count": 22,
   "metadata": {},
   "outputs": [],
   "source": [
    "# Create pipeline \n",
    "\n",
    "from sklearn.pipeline import Pipeline\n",
    "from sklearn.compose import ColumnTransformer\n",
    "from sklearn.preprocessing import OneHotEncoder\n",
    "from sklearn.preprocessing import StandardScaler\n",
    "\n",
    "num_attribs = list(['Age', 'Survived'])\n",
    "cat_attribs = list(['Embarked', 'Sex'])\n",
    "\n",
    "# Survived and Age \n",
    "num_pipeline  = Pipeline([\n",
    "    ('num_imputer', SimpleImputer(strategy='median')),\n",
    "    ('stadard_scale', StandardScaler()),\n",
    "])\n",
    "\n",
    "cat_pipeline = Pipeline([\n",
    "    ('cat_imputer', SimpleImputer(strategy='most_frequent')),\n",
    "    ('encode', OneHotEncoder(sparse=False)),\n",
    "])\n",
    "\n",
    "full_pipeline = ColumnTransformer([\n",
    "    ('num_attribs', num_pipeline, num_attribs),\n",
    "    ('cat_attribs', cat_pipeline, cat_attribs)\n",
    "\n",
    "])"
   ]
  },
  {
   "cell_type": "code",
   "execution_count": 23,
   "metadata": {},
   "outputs": [],
   "source": [
    "X_trained = full_pipeline.fit_transform(X_train)"
   ]
  },
  {
   "source": [
    "# Select models "
   ],
   "cell_type": "markdown",
   "metadata": {}
  },
  {
   "cell_type": "code",
   "execution_count": 24,
   "metadata": {},
   "outputs": [],
   "source": [
    "X_tested = full_pipeline.transform(X_test)"
   ]
  },
  {
   "cell_type": "code",
   "execution_count": 27,
   "metadata": {},
   "outputs": [
    {
     "output_type": "execute_result",
     "data": {
      "text/plain": [
       "LinearSVC(C=1, class_weight=None, dual=True, fit_intercept=True,\n",
       "          intercept_scaling=1, loss='hinge', max_iter=1000, multi_class='ovr',\n",
       "          penalty='l2', random_state=42, tol=0.0001, verbose=0)"
      ]
     },
     "metadata": {},
     "execution_count": 27
    }
   ],
   "source": [
    "from sklearn.svm import LinearSVC\n",
    "\n",
    "lin_svc = LinearSVC(C=1, loss='hinge', random_state=42)\n",
    "lin_svc.fit(X_trained, y_train)"
   ]
  },
  {
   "cell_type": "code",
   "execution_count": 28,
   "metadata": {},
   "outputs": [
    {
     "output_type": "stream",
     "name": "stderr",
     "text": [
      "C:\\Users\\Khemra\\Anaconda3\\envs\\tf_scikit\\lib\\importlib\\_bootstrap.py:219: RuntimeWarning: numpy.ufunc size changed, may indicate binary incompatibility. Expected 192 from C header, got 216 from PyObject\n  return f(*args, **kwds)\n"
     ]
    },
    {
     "output_type": "execute_result",
     "data": {
      "text/plain": [
       "RandomForestClassifier(bootstrap=True, class_weight=None, criterion='gini',\n",
       "                       max_depth=3, max_features='auto', max_leaf_nodes=16,\n",
       "                       min_impurity_decrease=0.0, min_impurity_split=None,\n",
       "                       min_samples_leaf=1, min_samples_split=2,\n",
       "                       min_weight_fraction_leaf=0.0, n_estimators=500,\n",
       "                       n_jobs=-1, oob_score=False, random_state=42, verbose=0,\n",
       "                       warm_start=False)"
      ]
     },
     "metadata": {},
     "execution_count": 28
    }
   ],
   "source": [
    "from sklearn.ensemble import RandomForestClassifier\n",
    "\n",
    "forest_clf_1 = RandomForestClassifier(n_estimators=500, \n",
    "max_leaf_nodes=16,\n",
    "n_jobs=-1,\n",
    "max_depth=3,\n",
    "random_state=42)\n",
    "\n",
    "forest_clf_1.fit(X_trained, y_train)"
   ]
  },
  {
   "cell_type": "code",
   "execution_count": 30,
   "metadata": {},
   "outputs": [
    {
     "output_type": "execute_result",
     "data": {
      "text/plain": [
       "RandomForestClassifier(bootstrap=True, class_weight=None, criterion='gini',\n",
       "                       max_depth=None, max_features='auto', max_leaf_nodes=None,\n",
       "                       min_impurity_decrease=0.0, min_impurity_split=None,\n",
       "                       min_samples_leaf=3, min_samples_split=2,\n",
       "                       min_weight_fraction_leaf=0.0, n_estimators=500,\n",
       "                       n_jobs=-1, oob_score=False, random_state=42, verbose=0,\n",
       "                       warm_start=False)"
      ]
     },
     "metadata": {},
     "execution_count": 30
    }
   ],
   "source": [
    "forest_clf_2 = RandomForestClassifier(n_estimators=500, \n",
    "min_samples_leaf=3,\n",
    "n_jobs=-1,\n",
    "random_state=42)\n",
    "\n",
    "forest_clf_2.fit(X_trained, y_train)"
   ]
  },
  {
   "cell_type": "code",
   "execution_count": 33,
   "metadata": {},
   "outputs": [
    {
     "output_type": "execute_result",
     "data": {
      "text/plain": [
       "OneVsRestClassifier(estimator=SVC(C=1, cache_size=200, class_weight=None,\n",
       "                                  coef0=0.0, decision_function_shape='ovr',\n",
       "                                  degree=3, gamma='auto_deprecated',\n",
       "                                  kernel='poly', max_iter=-1, probability=False,\n",
       "                                  random_state=None, shrinking=True, tol=0.001,\n",
       "                                  verbose=False),\n",
       "                    n_jobs=-1)"
      ]
     },
     "metadata": {},
     "execution_count": 33
    }
   ],
   "source": [
    "# OneVsRestClassifier \n",
    "\n",
    "from sklearn.multiclass import OneVsRestClassifier\n",
    "from sklearn.svm import SVC\n",
    "\n",
    "# 8 classes \n",
    "\n",
    "svc_clf = SVC(C=1, kernel='poly')\n",
    "ovr_clf = OneVsRestClassifier(svc_clf, n_jobs=-1)\n",
    "ovr_clf.fit(X_trained, y_train)"
   ]
  },
  {
   "source": [
    "# Metrics/Eval\n",
    "\n",
    "## <u>Metrics for lin_svc classifier</u> "
   ],
   "cell_type": "markdown",
   "metadata": {}
  },
  {
   "cell_type": "code",
   "execution_count": 34,
   "metadata": {},
   "outputs": [
    {
     "output_type": "stream",
     "name": "stdout",
     "text": [
      "              precision    recall  f1-score   support\n",
      "\n",
      "           A       0.00      0.00      0.00         4\n",
      "           B       0.17      0.07      0.10        15\n",
      "           C       0.50      0.06      0.11        16\n",
      "           D       0.00      0.00      0.00        14\n",
      "           E       0.07      0.33      0.11         6\n",
      "           F       0.00      0.00      0.00         4\n",
      "           G       0.00      0.00      0.00         0\n",
      "           T       0.00      0.00      0.00         0\n",
      "\n",
      "    accuracy                           0.07        59\n",
      "   macro avg       0.09      0.06      0.04        59\n",
      "weighted avg       0.18      0.07      0.07        59\n",
      "\n",
      "C:\\Users\\Khemra\\Anaconda3\\envs\\tf_scikit\\lib\\site-packages\\sklearn\\metrics\\classification.py:1437: UndefinedMetricWarning: Precision and F-score are ill-defined and being set to 0.0 in labels with no predicted samples.\n",
      "  'precision', 'predicted', average, warn_for)\n",
      "C:\\Users\\Khemra\\Anaconda3\\envs\\tf_scikit\\lib\\site-packages\\sklearn\\metrics\\classification.py:1439: UndefinedMetricWarning: Recall and F-score are ill-defined and being set to 0.0 in labels with no true samples.\n",
      "  'recall', 'true', average, warn_for)\n"
     ]
    }
   ],
   "source": [
    "from sklearn.metrics import classification_report\n",
    "\n",
    "print(classification_report(y_test, lin_svc.predict(X_tested)))"
   ]
  },
  {
   "cell_type": "code",
   "execution_count": 35,
   "metadata": {},
   "outputs": [
    {
     "output_type": "stream",
     "name": "stderr",
     "text": [
      "C:\\Users\\Khemra\\Anaconda3\\envs\\tf_scikit\\lib\\site-packages\\sklearn\\model_selection\\_split.py:657: Warning: The least populated class in y has only 1 members, which is too few. The minimum number of members in any class cannot be less than n_splits=10.\n  % (min_groups, self.n_splits)), Warning)\n"
     ]
    },
    {
     "output_type": "execute_result",
     "data": {
      "text/plain": [
       "0.19366993232210622"
      ]
     },
     "metadata": {},
     "execution_count": 35
    }
   ],
   "source": [
    "from sklearn.model_selection import cross_val_score\n",
    "\n",
    "svc_score = cross_val_score(lin_svc, X_trained, y_train, cv=10)\n",
    "svc_score.mean()"
   ]
  },
  {
   "source": [
    "## <u>Metrics for RandomForestClassifier_1</u> "
   ],
   "cell_type": "markdown",
   "metadata": {}
  },
  {
   "cell_type": "code",
   "execution_count": 36,
   "metadata": {},
   "outputs": [
    {
     "output_type": "stream",
     "name": "stdout",
     "text": [
      "              precision    recall  f1-score   support\n",
      "\n",
      "           A       0.00      0.00      0.00         4\n",
      "           B       0.67      0.13      0.22        15\n",
      "           C       0.27      0.94      0.42        16\n",
      "           D       0.00      0.00      0.00        14\n",
      "           E       0.00      0.00      0.00         6\n",
      "           F       0.00      0.00      0.00         4\n",
      "           G       0.00      0.00      0.00         0\n",
      "\n",
      "    accuracy                           0.29        59\n",
      "   macro avg       0.13      0.15      0.09        59\n",
      "weighted avg       0.24      0.29      0.17        59\n",
      "\n",
      "C:\\Users\\Khemra\\Anaconda3\\envs\\tf_scikit\\lib\\site-packages\\sklearn\\metrics\\classification.py:1437: UndefinedMetricWarning: Precision and F-score are ill-defined and being set to 0.0 in labels with no predicted samples.\n",
      "  'precision', 'predicted', average, warn_for)\n",
      "C:\\Users\\Khemra\\Anaconda3\\envs\\tf_scikit\\lib\\site-packages\\sklearn\\metrics\\classification.py:1439: UndefinedMetricWarning: Recall and F-score are ill-defined and being set to 0.0 in labels with no true samples.\n",
      "  'recall', 'true', average, warn_for)\n"
     ]
    }
   ],
   "source": [
    "print(classification_report(y_test, forest_clf_1.predict(X_tested)))"
   ]
  },
  {
   "cell_type": "code",
   "execution_count": 37,
   "metadata": {},
   "outputs": [
    {
     "output_type": "stream",
     "name": "stderr",
     "text": [
      "C:\\Users\\Khemra\\Anaconda3\\envs\\tf_scikit\\lib\\site-packages\\sklearn\\model_selection\\_split.py:657: Warning: The least populated class in y has only 1 members, which is too few. The minimum number of members in any class cannot be less than n_splits=10.\n  % (min_groups, self.n_splits)), Warning)\n"
     ]
    },
    {
     "output_type": "execute_result",
     "data": {
      "text/plain": [
       "0.3295812754073624"
      ]
     },
     "metadata": {},
     "execution_count": 37
    }
   ],
   "source": [
    "forest_score = cross_val_score(forest_clf_1, X_trained, y_train, cv=10)\n",
    "forest_score.mean()"
   ]
  },
  {
   "source": [
    "## <u>Metrics for RandomForestClassifier_2</u> "
   ],
   "cell_type": "markdown",
   "metadata": {}
  },
  {
   "cell_type": "code",
   "execution_count": 41,
   "metadata": {},
   "outputs": [
    {
     "output_type": "stream",
     "name": "stdout",
     "text": [
      "              precision    recall  f1-score   support\n",
      "\n",
      "           A       0.00      0.00      0.00         4\n",
      "           B       0.40      0.27      0.32        15\n",
      "           C       0.27      0.62      0.38        16\n",
      "           D       0.60      0.21      0.32        14\n",
      "           E       0.50      0.33      0.40         6\n",
      "           F       0.00      0.00      0.00         4\n",
      "           G       0.00      0.00      0.00         0\n",
      "\n",
      "    accuracy                           0.32        59\n",
      "   macro avg       0.25      0.21      0.20        59\n",
      "weighted avg       0.37      0.32      0.30        59\n",
      "\n",
      "C:\\Users\\Khemra\\Anaconda3\\envs\\tf_scikit\\lib\\site-packages\\sklearn\\metrics\\classification.py:1437: UndefinedMetricWarning: Precision and F-score are ill-defined and being set to 0.0 in labels with no predicted samples.\n",
      "  'precision', 'predicted', average, warn_for)\n",
      "C:\\Users\\Khemra\\Anaconda3\\envs\\tf_scikit\\lib\\site-packages\\sklearn\\metrics\\classification.py:1439: UndefinedMetricWarning: Recall and F-score are ill-defined and being set to 0.0 in labels with no true samples.\n",
      "  'recall', 'true', average, warn_for)\n"
     ]
    }
   ],
   "source": [
    "print(classification_report(y_test, forest_clf_2.predict(X_tested)))\n"
   ]
  },
  {
   "cell_type": "code",
   "execution_count": 42,
   "metadata": {},
   "outputs": [
    {
     "output_type": "stream",
     "name": "stderr",
     "text": [
      "C:\\Users\\Khemra\\Anaconda3\\envs\\tf_scikit\\lib\\site-packages\\sklearn\\model_selection\\_split.py:657: Warning: The least populated class in y has only 1 members, which is too few. The minimum number of members in any class cannot be less than n_splits=10.\n  % (min_groups, self.n_splits)), Warning)\n"
     ]
    },
    {
     "output_type": "execute_result",
     "data": {
      "text/plain": [
       "0.2780946589642242"
      ]
     },
     "metadata": {},
     "execution_count": 42
    }
   ],
   "source": [
    "forest_score_2 = cross_val_score(forest_clf_2, X_trained, y_train, cv=10)\n",
    "forest_score_2.mean()"
   ]
  },
  {
   "source": [
    "## <u>ovr_clf Metrics/Score</u>"
   ],
   "cell_type": "markdown",
   "metadata": {}
  },
  {
   "cell_type": "code",
   "execution_count": 38,
   "metadata": {},
   "outputs": [
    {
     "output_type": "stream",
     "name": "stdout",
     "text": [
      "              precision    recall  f1-score   support\n",
      "\n",
      "           A       0.00      0.00      0.00         4\n",
      "           B       0.26      0.33      0.29        15\n",
      "           C       0.26      0.38      0.31        16\n",
      "           D       0.00      0.00      0.00        14\n",
      "           E       0.22      0.33      0.27         6\n",
      "           F       0.00      0.00      0.00         4\n",
      "           G       0.00      0.00      0.00         0\n",
      "           T       0.00      0.00      0.00         0\n",
      "\n",
      "    accuracy                           0.22        59\n",
      "   macro avg       0.09      0.13      0.11        59\n",
      "weighted avg       0.16      0.22      0.19        59\n",
      "\n",
      "C:\\Users\\Khemra\\Anaconda3\\envs\\tf_scikit\\lib\\site-packages\\sklearn\\metrics\\classification.py:1437: UndefinedMetricWarning: Precision and F-score are ill-defined and being set to 0.0 in labels with no predicted samples.\n",
      "  'precision', 'predicted', average, warn_for)\n",
      "C:\\Users\\Khemra\\Anaconda3\\envs\\tf_scikit\\lib\\site-packages\\sklearn\\metrics\\classification.py:1439: UndefinedMetricWarning: Recall and F-score are ill-defined and being set to 0.0 in labels with no true samples.\n",
      "  'recall', 'true', average, warn_for)\n"
     ]
    }
   ],
   "source": [
    "print(classification_report(y_test, ovr_clf.predict(X_tested)))"
   ]
  },
  {
   "cell_type": "code",
   "execution_count": 39,
   "metadata": {},
   "outputs": [
    {
     "output_type": "stream",
     "name": "stderr",
     "text": [
      "C:\\Users\\Khemra\\Anaconda3\\envs\\tf_scikit\\lib\\site-packages\\sklearn\\model_selection\\_split.py:1978: FutureWarning: The default value of cv will change from 3 to 5 in version 0.22. Specify it explicitly to silence this warning.\n  warnings.warn(CV_WARNING, FutureWarning)\nC:\\Users\\Khemra\\Anaconda3\\envs\\tf_scikit\\lib\\site-packages\\sklearn\\model_selection\\_split.py:657: Warning: The least populated class in y has only 1 members, which is too few. The minimum number of members in any class cannot be less than n_splits=3.\n  % (min_groups, self.n_splits)), Warning)\n"
     ]
    },
    {
     "output_type": "execute_result",
     "data": {
      "text/plain": [
       "0.2039506172839506"
      ]
     },
     "metadata": {},
     "execution_count": 39
    }
   ],
   "source": [
    "ovr_score = cross_val_score(ovr_clf, X_trained, y_train)\n",
    "ovr_score.mean()"
   ]
  },
  {
   "cell_type": "code",
   "execution_count": 40,
   "metadata": {},
   "outputs": [
    {
     "output_type": "execute_result",
     "data": {
      "text/plain": [
       "array(['A', 'B', 'C', 'D', 'E', 'F', 'G', 'T'], dtype='<U1')"
      ]
     },
     "metadata": {},
     "execution_count": 40
    }
   ],
   "source": [
    "ovr_clf.classes_"
   ]
  },
  {
   "source": [
    "According to Data Science Stack Exchange the scores are too low to continue since lack of data and attributes. "
   ],
   "cell_type": "markdown",
   "metadata": {}
  },
  {
   "cell_type": "code",
   "execution_count": null,
   "metadata": {},
   "outputs": [],
   "source": []
  }
 ]
}